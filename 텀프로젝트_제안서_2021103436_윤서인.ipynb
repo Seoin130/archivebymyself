{
 "cells": [
  {
   "cell_type": "markdown",
   "id": "d2873bf5",
   "metadata": {},
   "source": [
    "# 텀프로젝트 제안서"
   ]
  },
  {
   "cell_type": "markdown",
   "id": "acfed19a",
   "metadata": {},
   "source": [
    "## 2021103436 글로벌커뮤니케이션학부 윤서인"
   ]
  },
  {
   "cell_type": "markdown",
   "id": "65cea6da",
   "metadata": {},
   "source": [
    "## 주제\n",
    "\n",
    "지하철 시간대별 혼잡도 분석"
   ]
  },
  {
   "cell_type": "markdown",
   "id": "fe97dbe0",
   "metadata": {},
   "source": [
    "## 가설 정의\n",
    "\n",
    "상선내선 평일은 핵심 출근시간인 7시30분에 가장 혼잡할 것이다.\n",
    "상선내선 토요일은 이동량이 많은 18시00분에 가장 혼잡할 것이다.\n",
    "상선내선 일요일은 이동량이 많은 19시00분에 가장 혼잡할 것이다.\n",
    "하선외선 평일은 핵심 퇴근 시간인 19시30분에 가장 혼잡할 것이다.\n",
    "하선외선 토요일은 이동량이 많은 18시00분에 가장 혼잡할 것이다.\n",
    "하선외선 일요일은 이동량이 많은 18시00분에 가장 혼잡할 것이다."
   ]
  },
  {
   "cell_type": "markdown",
   "id": "4546857b",
   "metadata": {},
   "source": [
    "## 인터넷을 통한 데이터의 획득\n",
    "\n",
    "Python을 통해서 전체 자료에 대한 데이터를 읽어온다.\n",
    "\n",
    "서울교통공사 1-8호선 30분 단위 평균 혼잡도로 30분간 지나는 열차들의 평균 혼잡도(정원대비 승차인원으로, 승차인과 좌석수가 일치할 경우를 혼잡도 34%로 산정) 입니다.(단위: %). \n",
    "서울교통공사 혼잡도 데이터는 조사일자(평일, 토요일, 일요일), 호선, 역번호, 역명, 상하선구분, 30분단위 별 혼잡도 데이터로 구성되어 있습니다. \n",
    "(출처: 공공데이터포털)"
   ]
  },
  {
   "cell_type": "markdown",
   "id": "d2b48f8f",
   "metadata": {},
   "source": [
    "## 분석을 통한 데이터의 가공 "
   ]
  },
  {
   "cell_type": "markdown",
   "id": "5a989238",
   "metadata": {},
   "source": [
    "## 주제 선정 이유\n",
    "\n",
    "비수도권에 살다가 수도권에 올라오면서, 지하철을 많이 타고 다니게 되었다. \n",
    "지하철은 대부분 혼잡한데, 시간대 별로, 그리고 요일별로 혼잡한 시간이 다른 것이 지하철을 타고 다니면서 체감이 되었다. 따라서 요일별로 가장 혼잡한 시간대를 알고 싶어서 해당 주제를 선정하게 되었다.\n"
   ]
  },
  {
   "cell_type": "markdown",
   "id": "a699a1dc",
   "metadata": {},
   "source": [
    "## 분석 결과 도출"
   ]
  },
  {
   "cell_type": "markdown",
   "id": "527978f6",
   "metadata": {},
   "source": [
    "## 결론"
   ]
  },
  {
   "cell_type": "markdown",
   "id": "79df5e6d",
   "metadata": {},
   "source": [
    "평일, 토요일, 일요일 및 상선내선, 하선외선에 관계없이 가장 혼잡한 시간대는 좌석수와 승차 인원수가 일치하는 수치인 34 이상이었으며, 이는 가장 혼잡한 시간대에는 좌석수보다 승차 인원이 더 많았음을 알 수 있다."
   ]
  },
  {
   "cell_type": "markdown",
   "id": "6335c6fc",
   "metadata": {},
   "source": [
    "상선내선 평일은 8시00분이 가장 혼잡하였다.\n",
    "상선내선 토요일은 18시30분이 가장 혼잡하였다.\n",
    "상선내선 일요일은 18시00분이 가장 혼잡하였다. \n",
    "하선외선 평일은 8시00분이 가장 혼잡하였다. \n",
    "하선외선 토요일은 9시00분이 가장 혼잡하였다.\n",
    "하선외선 일요일은 18시00분이 가장 혼잡하였다."
   ]
  },
  {
   "cell_type": "markdown",
   "id": "fca0ab38",
   "metadata": {},
   "source": [
    "이 점에서 비추어 보아 평일에는 출근 시간이 겹쳐서 가장 혼잡하고 사람들이 많이 몰리는 시간대인 8시에는 상/하선, 내/외선 관계 없이 혼잡한 편이라는 것을 알 수 있다.일요일 또한 동일하게 18시00분에 가장 혼잡하였다는 것을 알 수 있다. 그러나, 토요일에는 시간대 차이가 났는데, 서울로 놀러 올라가는 사람들이 가장 많은 시간대인 18시 30분에는 상선 내선이 가장 붐비고, 하선외선은 평일인 다음날로 인하여 일찍 내려가려는 사람들로 인해 9시가 가장 붐볐다고 생각한다. "
   ]
  },
  {
   "cell_type": "markdown",
   "id": "5e41329d",
   "metadata": {},
   "source": [
    "## 데이터 출처"
   ]
  },
  {
   "cell_type": "markdown",
   "id": "75bfb7c1",
   "metadata": {},
   "source": [
    "### 데이터 전체 출처"
   ]
  },
  {
   "cell_type": "markdown",
   "id": "0e6441be",
   "metadata": {},
   "source": [
    "공공데이터포털 (https://www.data.go.kr/index.do)"
   ]
  },
  {
   "cell_type": "markdown",
   "id": "9dafc690",
   "metadata": {},
   "source": [
    "### 세부 데이터 출처"
   ]
  },
  {
   "cell_type": "markdown",
   "id": "a780b16b",
   "metadata": {},
   "source": [
    "서울교통공사_지하철 혼잡도 정보 (https://www.data.go.kr/data/15071311/fileData.do)"
   ]
  },
  {
   "cell_type": "code",
   "execution_count": null,
   "id": "f0c52189",
   "metadata": {},
   "outputs": [],
   "source": []
  }
 ],
 "metadata": {
  "kernelspec": {
   "display_name": "Python 3 (ipykernel)",
   "language": "python",
   "name": "python3"
  },
  "language_info": {
   "codemirror_mode": {
    "name": "ipython",
    "version": 3
   },
   "file_extension": ".py",
   "mimetype": "text/x-python",
   "name": "python",
   "nbconvert_exporter": "python",
   "pygments_lexer": "ipython3",
   "version": "3.9.12"
  }
 },
 "nbformat": 4,
 "nbformat_minor": 5
}
