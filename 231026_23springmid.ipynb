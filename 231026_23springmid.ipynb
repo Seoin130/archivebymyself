{
 "cells": [
  {
   "cell_type": "code",
   "execution_count": 2,
   "id": "dcecc61f",
   "metadata": {},
   "outputs": [
    {
     "name": "stdout",
     "output_type": "stream",
     "text": [
      "10\n"
     ]
    }
   ],
   "source": [
    "def function1(a,b,c):\n",
    "    return a+b+c\n",
    "\n",
    "print(function1(1,4,5))"
   ]
  },
  {
   "cell_type": "code",
   "execution_count": 6,
   "id": "8112f33d",
   "metadata": {},
   "outputs": [
    {
     "name": "stdout",
     "output_type": "stream",
     "text": [
      "4\n"
     ]
    }
   ],
   "source": [
    "def function2(value):\n",
    "    total=0\n",
    "    for i in value:\n",
    "        if i%2==1:\n",
    "            total+=i\n",
    "    return total\n",
    "\n",
    "print(function2([1,2,3]))"
   ]
  },
  {
   "cell_type": "code",
   "execution_count": 8,
   "id": "5f06cae5",
   "metadata": {},
   "outputs": [
    {
     "name": "stdout",
     "output_type": "stream",
     "text": [
      "[1, 2, 3, 4, 42, 46, 68, 543]\n"
     ]
    }
   ],
   "source": [
    "list=[1,2,3,4,68,543,42,46]\n",
    "list.sort()\n",
    "print(list)"
   ]
  },
  {
   "cell_type": "code",
   "execution_count": 17,
   "id": "b221376d",
   "metadata": {},
   "outputs": [
    {
     "name": "stdout",
     "output_type": "stream",
     "text": [
      "99\n"
     ]
    }
   ],
   "source": [
    "def function3(value):\n",
    "    if len(value)==0:\n",
    "        return 0\n",
    "    elif len(value)==1:\n",
    "        return value[-1]\n",
    "    else:\n",
    "        value.sort()\n",
    "        result=value[-2]\n",
    "        return result\n",
    "\n",
    "print(function3([99,2,-1,100]))"
   ]
  },
  {
   "cell_type": "code",
   "execution_count": 20,
   "id": "81c16082",
   "metadata": {},
   "outputs": [
    {
     "name": "stdout",
     "output_type": "stream",
     "text": [
      "hellO\n"
     ]
    }
   ],
   "source": [
    "def function4(string):\n",
    "    s=string.lower()\n",
    "    t=string.upper()\n",
    "    result=s[:-1]+t[-1]\n",
    "    return result\n",
    "print(function4(\"Hello\"))"
   ]
  },
  {
   "cell_type": "code",
   "execution_count": 44,
   "id": "b682706a",
   "metadata": {},
   "outputs": [
    {
     "name": "stdout",
     "output_type": "stream",
     "text": [
      "2.0\n"
     ]
    }
   ],
   "source": [
    "def function5(s):\n",
    "    digits = []\n",
    "    for letter in s:\n",
    "        if letter.isdigit():\n",
    "            digits.append(int(letter))\n",
    "    \n",
    "    total_sum = 0\n",
    "    for digit in digits:\n",
    "        total_sum+=digit\n",
    "    \n",
    "    result = total_sum/len(digits)\n",
    "    return str(result)\n",
    "\n",
    "print(function5(\"A1B2C3\"))"
   ]
  },
  {
   "cell_type": "code",
   "execution_count": 57,
   "id": "086cfaf6",
   "metadata": {},
   "outputs": [],
   "source": [
    "def function6(a,b):\n",
    "    first_set=set()\n",
    "    second_set=set()\n",
    "    for i in range (1,a+1):\n",
    "        if a%i==0:\n",
    "            first_set.add(i)\n",
    "    for i in range (1,b+1):\n",
    "        if b%i==0:\n",
    "            second_set.add(i)\n",
    "    result_set=first_set.intersection(second_set)\n",
    "    return result_set"
   ]
  },
  {
   "cell_type": "code",
   "execution_count": 58,
   "id": "2a8def78",
   "metadata": {},
   "outputs": [
    {
     "name": "stdout",
     "output_type": "stream",
     "text": [
      "{1, 2, 3, 4, 6, 12}\n"
     ]
    }
   ],
   "source": [
    "print(function6(24, 12))"
   ]
  },
  {
   "cell_type": "code",
   "execution_count": 69,
   "id": "6cbfaebb",
   "metadata": {},
   "outputs": [],
   "source": [
    "def function7(D):\n",
    "    score=[]\n",
    "    total=0\n",
    "    for key, value in D.items():\n",
    "        if key!=\"math\":\n",
    "            score.append(value)\n",
    "    for i in score:\n",
    "        total+=i\n",
    "    return total"
   ]
  },
  {
   "cell_type": "code",
   "execution_count": 70,
   "id": "1124f2b1",
   "metadata": {},
   "outputs": [
    {
     "name": "stdout",
     "output_type": "stream",
     "text": [
      "55\n"
     ]
    }
   ],
   "source": [
    "print(function7({\"math\":90, \"english\":25, \"korean\":30 }))"
   ]
  },
  {
   "cell_type": "code",
   "execution_count": 74,
   "id": "43ae9122",
   "metadata": {},
   "outputs": [],
   "source": [
    "def function9(a,b,c=10):\n",
    "    return a+b+c"
   ]
  },
  {
   "cell_type": "code",
   "execution_count": 75,
   "id": "44a60cc6",
   "metadata": {},
   "outputs": [
    {
     "name": "stdout",
     "output_type": "stream",
     "text": [
      "13\n",
      "6\n"
     ]
    }
   ],
   "source": [
    "print(function9(1,2))\n",
    "print(function9(1,2,3))"
   ]
  },
  {
   "cell_type": "code",
   "execution_count": 77,
   "id": "1b1d098d",
   "metadata": {},
   "outputs": [],
   "source": [
    "def function10(*args, **kwargs):\n",
    "    positional_sum=sum(args)\n",
    "    keyword_sum=sum(kwargs.values())\n",
    "    return keyword_sum-positional_sum"
   ]
  },
  {
   "cell_type": "code",
   "execution_count": 78,
   "id": "6ea54340",
   "metadata": {},
   "outputs": [
    {
     "name": "stdout",
     "output_type": "stream",
     "text": [
      "-10\n"
     ]
    }
   ],
   "source": [
    "print(function10(1,2,3,4))"
   ]
  },
  {
   "cell_type": "code",
   "execution_count": 81,
   "id": "17e06577",
   "metadata": {},
   "outputs": [],
   "source": [
    "def function1(a,b,c):\n",
    "    return a+b+c"
   ]
  },
  {
   "cell_type": "code",
   "execution_count": 83,
   "id": "2e46332f",
   "metadata": {},
   "outputs": [
    {
     "name": "stdout",
     "output_type": "stream",
     "text": [
      "10\n"
     ]
    }
   ],
   "source": [
    "print(function1(1,4,5))"
   ]
  },
  {
   "cell_type": "code",
   "execution_count": 80,
   "id": "91dffa28",
   "metadata": {},
   "outputs": [],
   "source": [
    "def function2(L):\n",
    "    total=0\n",
    "    if len(L)==0:\n",
    "        return 0\n",
    "    else:\n",
    "        for num in L:\n",
    "            if num%2==1:\n",
    "                total+=num\n",
    "        return total\n",
    "            "
   ]
  },
  {
   "cell_type": "code",
   "execution_count": 84,
   "id": "aef17898",
   "metadata": {},
   "outputs": [
    {
     "name": "stdout",
     "output_type": "stream",
     "text": [
      "4\n"
     ]
    }
   ],
   "source": [
    "print(function2([1,2,3]))"
   ]
  },
  {
   "cell_type": "code",
   "execution_count": 87,
   "id": "1aea9091",
   "metadata": {},
   "outputs": [],
   "source": [
    "def function3(L):\n",
    "    if len(L)==0:\n",
    "        return 0\n",
    "    elif len(L)==1:\n",
    "        return L[-1]\n",
    "    else:\n",
    "        return sorted(L)[-2]"
   ]
  },
  {
   "cell_type": "code",
   "execution_count": 89,
   "id": "cacc5e03",
   "metadata": {},
   "outputs": [
    {
     "name": "stdout",
     "output_type": "stream",
     "text": [
      "-1\n"
     ]
    }
   ],
   "source": [
    "print(function3([-1,-3,-2,0]))"
   ]
  },
  {
   "cell_type": "code",
   "execution_count": 92,
   "id": "587fd72d",
   "metadata": {},
   "outputs": [],
   "source": [
    "def function4(s):\n",
    "    return s[:-1].lower()+s[-1].upper()"
   ]
  },
  {
   "cell_type": "code",
   "execution_count": 93,
   "id": "6d9e6ebe",
   "metadata": {},
   "outputs": [
    {
     "name": "stdout",
     "output_type": "stream",
     "text": [
      "hellO\n"
     ]
    }
   ],
   "source": [
    "print(function4(\"Hello\"))"
   ]
  },
  {
   "cell_type": "code",
   "execution_count": 104,
   "id": "17423348",
   "metadata": {},
   "outputs": [],
   "source": [
    "def function5(s):\n",
    "    digit=[]\n",
    "    total=0\n",
    "    for i in s:\n",
    "        if i.isdigit():\n",
    "            digit.append(int(i))\n",
    "    for i in digit:\n",
    "        total+=i\n",
    "        result=total/len(digit)\n",
    "    return str(result)"
   ]
  },
  {
   "cell_type": "code",
   "execution_count": 105,
   "id": "5a28946d",
   "metadata": {},
   "outputs": [
    {
     "name": "stdout",
     "output_type": "stream",
     "text": [
      "2.75\n"
     ]
    }
   ],
   "source": [
    "print(function5(\"todayis0425\"))"
   ]
  },
  {
   "cell_type": "code",
   "execution_count": 108,
   "id": "540f66ac",
   "metadata": {},
   "outputs": [],
   "source": [
    "def function6(a,b):\n",
    "    aset=set()\n",
    "    bset=set()\n",
    "    for num in range (1,a+1):\n",
    "        if a%num==0:\n",
    "            aset.add(num)\n",
    "    for num in range (1,b+1):\n",
    "        if b%num==0:\n",
    "            bset.add(num)\n",
    "    result=aset.intersection(bset)\n",
    "    return result"
   ]
  },
  {
   "cell_type": "code",
   "execution_count": 109,
   "id": "8bb84470",
   "metadata": {},
   "outputs": [
    {
     "name": "stdout",
     "output_type": "stream",
     "text": [
      "{1, 2}\n"
     ]
    }
   ],
   "source": [
    "print(function6(6,10))"
   ]
  },
  {
   "cell_type": "code",
   "execution_count": 110,
   "id": "7504e8d4",
   "metadata": {},
   "outputs": [],
   "source": [
    "def function7(D):\n",
    "    score=[]\n",
    "    total=0\n",
    "    for key, value in D.items():\n",
    "        if key!=\"math\":\n",
    "            score.append(value)\n",
    "    for num in score:\n",
    "        total+=num\n",
    "    return total"
   ]
  },
  {
   "cell_type": "code",
   "execution_count": 111,
   "id": "94d3ac76",
   "metadata": {},
   "outputs": [
    {
     "name": "stdout",
     "output_type": "stream",
     "text": [
      "55\n"
     ]
    }
   ],
   "source": [
    "print(function7({\"math\":90, \"english\":25, \"korean\":30}))"
   ]
  },
  {
   "cell_type": "code",
   "execution_count": 112,
   "id": "398bda55",
   "metadata": {},
   "outputs": [],
   "source": [
    "def function9(a,b,c=10):\n",
    "    return a+b+c"
   ]
  },
  {
   "cell_type": "code",
   "execution_count": 113,
   "id": "60c790cf",
   "metadata": {},
   "outputs": [
    {
     "name": "stdout",
     "output_type": "stream",
     "text": [
      "13\n",
      "0\n"
     ]
    }
   ],
   "source": [
    "print(function9(1,2))\n",
    "print(function9(10,20,-30))"
   ]
  },
  {
   "cell_type": "code",
   "execution_count": 116,
   "id": "53d1f5ad",
   "metadata": {},
   "outputs": [],
   "source": [
    "def function10(*args, **kwargs):\n",
    "    keywords=sum(args)\n",
    "    positional=sum(kwargs.values())\n",
    "    result=keywords-positional\n",
    "    return result"
   ]
  },
  {
   "cell_type": "code",
   "execution_count": 117,
   "id": "161f5278",
   "metadata": {},
   "outputs": [
    {
     "name": "stdout",
     "output_type": "stream",
     "text": [
      "-14\n"
     ]
    }
   ],
   "source": [
    "print(function10(1,2,a=10,b=7))"
   ]
  }
 ],
 "metadata": {
  "kernelspec": {
   "display_name": "Python 3 (ipykernel)",
   "language": "python",
   "name": "python3"
  },
  "language_info": {
   "codemirror_mode": {
    "name": "ipython",
    "version": 3
   },
   "file_extension": ".py",
   "mimetype": "text/x-python",
   "name": "python",
   "nbconvert_exporter": "python",
   "pygments_lexer": "ipython3",
   "version": "3.9.12"
  }
 },
 "nbformat": 4,
 "nbformat_minor": 5
}
