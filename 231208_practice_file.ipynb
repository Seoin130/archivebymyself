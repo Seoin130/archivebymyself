{
 "cells": [
  {
   "cell_type": "code",
   "execution_count": 1,
   "id": "b23220f9",
   "metadata": {},
   "outputs": [],
   "source": [
    "myname=\"python\"\n",
    "f=open(\"./text.txt\", \"wt\")\n",
    "f.write(\"Hello World\\n\")\n",
    "f.writelines([\"Python\\n\", \"Hi\\n\"])\n",
    "f.write(f\"My name is {myname}\")\n",
    "f.close()"
   ]
  },
  {
   "cell_type": "code",
   "execution_count": 2,
   "id": "9c5d9fa5",
   "metadata": {},
   "outputs": [
    {
     "name": "stdout",
     "output_type": "stream",
     "text": [
      "Hello World\n",
      "Python\n",
      "Hi\n",
      "My name is python\n"
     ]
    }
   ],
   "source": [
    "f=open(\"./text.txt\", \"r\")\n",
    "content=f.read()\n",
    "print(content)\n",
    "f.close()"
   ]
  },
  {
   "cell_type": "code",
   "execution_count": 4,
   "id": "053fbeaa",
   "metadata": {},
   "outputs": [
    {
     "name": "stdout",
     "output_type": "stream",
     "text": [
      "['Hello World\\n', 'Python\\n', 'Hi\\n', 'My name is python']\n"
     ]
    }
   ],
   "source": [
    "f=open(\"./text.txt\", \"r\")\n",
    "contents=f.readlines()\n",
    "print(contents)\n",
    "f.close()"
   ]
  },
  {
   "cell_type": "code",
   "execution_count": 6,
   "id": "d8fa8017",
   "metadata": {},
   "outputs": [
    {
     "name": "stdout",
     "output_type": "stream",
     "text": [
      "Hello World\n",
      "\n",
      "Python\n",
      "\n"
     ]
    }
   ],
   "source": [
    "f=open(\"./text.txt\", \"r\")\n",
    "contents=f.readline()\n",
    "print(contents)\n",
    "contents=f.readline()\n",
    "print(contents)\n",
    "f.close()"
   ]
  },
  {
   "cell_type": "code",
   "execution_count": 13,
   "id": "cf9b4902",
   "metadata": {},
   "outputs": [
    {
     "name": "stdout",
     "output_type": "stream",
     "text": [
      "Hello World\n",
      "\n",
      "Python\n",
      "\n",
      "Hi\n",
      "\n",
      "My name is python\n"
     ]
    }
   ],
   "source": [
    "f=open(\"./text.txt\", \"r\")\n",
    "content=f.readline()\n",
    "while content:\n",
    "    print(content)\n",
    "    content=f.readline()\n",
    "f.close()"
   ]
  },
  {
   "cell_type": "code",
   "execution_count": 14,
   "id": "639a7218",
   "metadata": {},
   "outputs": [
    {
     "name": "stdout",
     "output_type": "stream",
     "text": [
      "['Hello World\\n', 'Python\\n', 'Hi\\n', 'My name is python']\n"
     ]
    }
   ],
   "source": [
    "with open(\"./text.txt\", \"r\") as f:\n",
    "    contents=f.readlines()\n",
    "    print(contents)"
   ]
  },
  {
   "cell_type": "code",
   "execution_count": null,
   "id": "3379a580",
   "metadata": {},
   "outputs": [],
   "source": []
  }
 ],
 "metadata": {
  "kernelspec": {
   "display_name": "Python 3 (ipykernel)",
   "language": "python",
   "name": "python3"
  },
  "language_info": {
   "codemirror_mode": {
    "name": "ipython",
    "version": 3
   },
   "file_extension": ".py",
   "mimetype": "text/x-python",
   "name": "python",
   "nbconvert_exporter": "python",
   "pygments_lexer": "ipython3",
   "version": "3.9.12"
  }
 },
 "nbformat": 4,
 "nbformat_minor": 5
}
