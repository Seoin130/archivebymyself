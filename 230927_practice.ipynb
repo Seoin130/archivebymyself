{
 "cells": [
  {
   "cell_type": "code",
   "execution_count": 1,
   "id": "a052fbe7",
   "metadata": {},
   "outputs": [
    {
     "name": "stdout",
     "output_type": "stream",
     "text": [
      "1946015704048\n",
      "1946015704048\n",
      "1946015705712\n"
     ]
    }
   ],
   "source": [
    "a=\"Hello\"\n",
    "b=a[:]\n",
    "c=b[:]+\"123\"\n",
    "print(id(a))\n",
    "print(id(b))\n",
    "print(id(c))"
   ]
  },
  {
   "cell_type": "code",
   "execution_count": 2,
   "id": "4ed33ee1",
   "metadata": {},
   "outputs": [
    {
     "name": "stdout",
     "output_type": "stream",
     "text": [
      "1946015729776\n",
      "1946015727792\n",
      "False True\n"
     ]
    }
   ],
   "source": [
    "a=\"Hello#\"\n",
    "b=\"Hello#\"\n",
    "print(id(a))\n",
    "print(id(b))\n",
    "print(a is b, a==b)"
   ]
  },
  {
   "cell_type": "code",
   "execution_count": 3,
   "id": "0026c3e1",
   "metadata": {},
   "outputs": [
    {
     "name": "stdout",
     "output_type": "stream",
     "text": [
      "[1, 2, 3, 1]\n",
      "[1, 2, 3, 1, 4, 5]\n"
     ]
    }
   ],
   "source": [
    "var1=[1,2,3]\n",
    "var1.append(1)\n",
    "print(var1)\n",
    "var1.extend([4,5])\n",
    "print(var1)"
   ]
  },
  {
   "cell_type": "code",
   "execution_count": 4,
   "id": "18d0c92b",
   "metadata": {},
   "outputs": [
    {
     "name": "stdout",
     "output_type": "stream",
     "text": [
      "[1, ['헬', '로'], 3]\n"
     ]
    }
   ],
   "source": [
    "var1=[1,3,[\"헬\", \"로\"], 3]\n",
    "var1.remove(3)\n",
    "print(var1)"
   ]
  },
  {
   "cell_type": "code",
   "execution_count": 5,
   "id": "20471487",
   "metadata": {},
   "outputs": [
    {
     "name": "stdout",
     "output_type": "stream",
     "text": [
      "1\n"
     ]
    }
   ],
   "source": [
    "var=(\"파\", \"이\", \"썬\",)\n",
    "where_is_2=var.index(\"이\")\n",
    "print(where_is_2)"
   ]
  },
  {
   "cell_type": "code",
   "execution_count": 6,
   "id": "34e3b43d",
   "metadata": {},
   "outputs": [
    {
     "name": "stdout",
     "output_type": "stream",
     "text": [
      "3\n"
     ]
    }
   ],
   "source": [
    "var=(1,2,3,2,2,)\n",
    "how_many_2=var.count(2)\n",
    "print(how_many_2)"
   ]
  },
  {
   "cell_type": "code",
   "execution_count": 7,
   "id": "5260a2fb",
   "metadata": {},
   "outputs": [
    {
     "name": "stdout",
     "output_type": "stream",
     "text": [
      "{3, (1, 2)}\n"
     ]
    }
   ],
   "source": [
    "T=(1,2,)\n",
    "var={T, 3}\n",
    "print(var)"
   ]
  },
  {
   "cell_type": "code",
   "execution_count": 8,
   "id": "e8834b5c",
   "metadata": {},
   "outputs": [
    {
     "name": "stdout",
     "output_type": "stream",
     "text": [
      "{'Hong', 'Kim', 'Lee', 'Park'}\n"
     ]
    }
   ],
   "source": [
    "students_2022=(\"Kim\", \"Lee\", \"Park\")\n",
    "students_2023=(\"Kim\", \"Lee\", \"Hong\")\n",
    "all_students=students_2022+students_2023\n",
    "unique_students=set(all_students)\n",
    "print(unique_students)"
   ]
  },
  {
   "cell_type": "code",
   "execution_count": 9,
   "id": "bf7ffbe2",
   "metadata": {},
   "outputs": [
    {
     "name": "stdout",
     "output_type": "stream",
     "text": [
      "{'Kim', 'Lee', 'Park'}\n"
     ]
    }
   ],
   "source": [
    "students={\"Park\", \"Kim\"}\n",
    "students.add(\"Lee\")\n",
    "print(students)"
   ]
  },
  {
   "cell_type": "code",
   "execution_count": 11,
   "id": "b4361cae",
   "metadata": {},
   "outputs": [
    {
     "name": "stdout",
     "output_type": "stream",
     "text": [
      "{'Kim', 'Lee'}\n"
     ]
    }
   ],
   "source": [
    "students_2022={\"Kim\", \"Lee\", \"Park\"}\n",
    "students_2023={\"Kim\", \"Lee\", \"Hong\"}\n",
    "result=students_2022.intersection(students_2023)\n",
    "print(result)"
   ]
  },
  {
   "cell_type": "code",
   "execution_count": null,
   "id": "47f39862",
   "metadata": {},
   "outputs": [],
   "source": []
  }
 ],
 "metadata": {
  "kernelspec": {
   "display_name": "Python 3 (ipykernel)",
   "language": "python",
   "name": "python3"
  },
  "language_info": {
   "codemirror_mode": {
    "name": "ipython",
    "version": 3
   },
   "file_extension": ".py",
   "mimetype": "text/x-python",
   "name": "python",
   "nbconvert_exporter": "python",
   "pygments_lexer": "ipython3",
   "version": "3.9.12"
  }
 },
 "nbformat": 4,
 "nbformat_minor": 5
}
