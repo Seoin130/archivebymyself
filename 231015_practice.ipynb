{
 "cells": [
  {
   "cell_type": "code",
   "execution_count": 1,
   "id": "6b5c5bc8",
   "metadata": {},
   "outputs": [
    {
     "name": "stdout",
     "output_type": "stream",
     "text": [
      "6\n"
     ]
    }
   ],
   "source": [
    "def function2(value):\n",
    "    sum=0\n",
    "    for i in value:\n",
    "        if i%2==0:\n",
    "            sum+=i\n",
    "        else:\n",
    "            sum+=0\n",
    "    return sum\n",
    "\n",
    "L=[1,2,3,4,5]\n",
    "result=function2(L)\n",
    "print(result)"
   ]
  },
  {
   "cell_type": "code",
   "execution_count": 2,
   "id": "7a79d1e2",
   "metadata": {},
   "outputs": [
    {
     "name": "stdout",
     "output_type": "stream",
     "text": [
      "9\n"
     ]
    }
   ],
   "source": [
    "def function3(value):\n",
    "    for i in value:\n",
    "        if len(value)<2:\n",
    "            return -1\n",
    "        else:\n",
    "            return value[-1]+value[-2]\n",
    "\n",
    "L=[1,2,3,4,5]\n",
    "result=function3(L)\n",
    "print(result)"
   ]
  },
  {
   "cell_type": "code",
   "execution_count": null,
   "id": "8d5efd08",
   "metadata": {},
   "outputs": [],
   "source": []
  }
 ],
 "metadata": {
  "kernelspec": {
   "display_name": "Python 3 (ipykernel)",
   "language": "python",
   "name": "python3"
  },
  "language_info": {
   "codemirror_mode": {
    "name": "ipython",
    "version": 3
   },
   "file_extension": ".py",
   "mimetype": "text/x-python",
   "name": "python",
   "nbconvert_exporter": "python",
   "pygments_lexer": "ipython3",
   "version": "3.9.12"
  }
 },
 "nbformat": 4,
 "nbformat_minor": 5
}
