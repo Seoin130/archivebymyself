{
 "cells": [
  {
   "cell_type": "code",
   "execution_count": 2,
   "id": "ee4b25ac",
   "metadata": {},
   "outputs": [
    {
     "name": "stdout",
     "output_type": "stream",
     "text": [
      "My name is Hong Gil Dong and I am 24\n"
     ]
    }
   ],
   "source": [
    "s=f\"My name is {name} and I am {age}\"\n",
    "name, age=\"Hong Gil Dong\", \"24\"\n",
    "print(s)"
   ]
  },
  {
   "cell_type": "code",
   "execution_count": 4,
   "id": "33e8cad4",
   "metadata": {},
   "outputs": [
    {
     "name": "stdout",
     "output_type": "stream",
     "text": [
      "My name is Hong Gil Dong and I am 24\n"
     ]
    }
   ],
   "source": [
    "s=\"My name is {} and I am {}\".format(name, age)\n",
    "name, age=\"Hong Gil Dong\", 24\n",
    "print(s)"
   ]
  },
  {
   "cell_type": "code",
   "execution_count": 6,
   "id": "5a3b675a",
   "metadata": {},
   "outputs": [
    {
     "name": "stdout",
     "output_type": "stream",
     "text": [
      "My name is Yoon Seoin and I am 22\n"
     ]
    }
   ],
   "source": [
    "name, age=\"Yoon Seoin\", 22\n",
    "s2=\"My name is {0} and I am {1}\".format(name, age)\n",
    "print(s2)"
   ]
  },
  {
   "cell_type": "code",
   "execution_count": 7,
   "id": "95383b47",
   "metadata": {},
   "outputs": [
    {
     "name": "stdout",
     "output_type": "stream",
     "text": [
      "My name is Yoon Seoin and I am 22.\n"
     ]
    }
   ],
   "source": [
    "s2=f\"My name is {name} and I am {age}.\"\n",
    "print(s2)"
   ]
  },
  {
   "cell_type": "code",
   "execution_count": 8,
   "id": "2053e36e",
   "metadata": {},
   "outputs": [
    {
     "name": "stdout",
     "output_type": "stream",
     "text": [
      "My name is YOON SEOIN and I am 23.\n"
     ]
    }
   ],
   "source": [
    "name, age= \"Yoon Seoin\", 23\n",
    "s2=f\"My name is {name.upper()} and I am {age}.\"\n",
    "print(s2)"
   ]
  },
  {
   "cell_type": "code",
   "execution_count": 9,
   "id": "2567a76f",
   "metadata": {},
   "outputs": [
    {
     "name": "stdout",
     "output_type": "stream",
     "text": [
      "2060638825680\n",
      "2060554627376\n",
      "True\n",
      "False\n"
     ]
    }
   ],
   "source": [
    "a=1.0\n",
    "b=1\n",
    "print(id(a))\n",
    "print(id(b))\n",
    "print(a==b)\n",
    "print(a is b)"
   ]
  },
  {
   "cell_type": "code",
   "execution_count": 10,
   "id": "7a9e482e",
   "metadata": {},
   "outputs": [
    {
     "name": "stdout",
     "output_type": "stream",
     "text": [
      "2060640488880\n",
      "2060640485872\n",
      "False\n",
      "True\n"
     ]
    }
   ],
   "source": [
    "a=\"Hello#\"\n",
    "b=\"Hello#\"\n",
    "print(id(a))\n",
    "print(id(b))\n",
    "print(a is b)\n",
    "print(a==b)"
   ]
  },
  {
   "cell_type": "code",
   "execution_count": null,
   "id": "3edccd5b",
   "metadata": {},
   "outputs": [],
   "source": []
  }
 ],
 "metadata": {
  "kernelspec": {
   "display_name": "Python 3 (ipykernel)",
   "language": "python",
   "name": "python3"
  },
  "language_info": {
   "codemirror_mode": {
    "name": "ipython",
    "version": 3
   },
   "file_extension": ".py",
   "mimetype": "text/x-python",
   "name": "python",
   "nbconvert_exporter": "python",
   "pygments_lexer": "ipython3",
   "version": "3.9.12"
  }
 },
 "nbformat": 4,
 "nbformat_minor": 5
}
