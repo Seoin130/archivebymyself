{
 "cells": [
  {
   "cell_type": "code",
   "execution_count": 1,
   "id": "d72a2d5f",
   "metadata": {},
   "outputs": [],
   "source": [
    "def function4(n):\n",
    "    digits=str(n)\n",
    "    total=0\n",
    "    for digit in digits:\n",
    "        total+=int(digit)\n",
    "    if n%total==0:\n",
    "        return True\n",
    "    else:\n",
    "        return False"
   ]
  },
  {
   "cell_type": "code",
   "execution_count": 4,
   "id": "c68f3a08",
   "metadata": {},
   "outputs": [],
   "source": [
    "def function3(a,b):\n",
    "    total=0\n",
    "    for i in range (0, len(a)):\n",
    "        if a[i]==\"+\":\n",
    "            total+=b[i]\n",
    "        else:\n",
    "            total-=b[i]\n",
    "    return total"
   ]
  },
  {
   "cell_type": "code",
   "execution_count": 5,
   "id": "ad4a29f0",
   "metadata": {},
   "outputs": [
    {
     "name": "stdout",
     "output_type": "stream",
     "text": [
      "2\n"
     ]
    }
   ],
   "source": [
    "print(function3([\"+\", \"-\", \"+\"], [1,2,3]))"
   ]
  },
  {
   "cell_type": "code",
   "execution_count": 6,
   "id": "0710f86e",
   "metadata": {},
   "outputs": [],
   "source": [
    "def function01(n):\n",
    "    total=0\n",
    "    while n!=1:\n",
    "        if n%2==0:\n",
    "            n=n/2\n",
    "        else:\n",
    "            n=3*n+1\n",
    "        total+=n\n",
    "    return total"
   ]
  },
  {
   "cell_type": "code",
   "execution_count": 9,
   "id": "9e4784b8",
   "metadata": {},
   "outputs": [],
   "source": [
    "class Anonymizer:\n",
    "    def __init__(self, name):\n",
    "        self.name=name\n",
    "    def get_anonymized_name(self, n):\n",
    "        if n>len(self.name):\n",
    "            return n*\"*\"\n",
    "        else:\n",
    "            return \"*\"*n+self.name[n:]"
   ]
  },
  {
   "cell_type": "code",
   "execution_count": 10,
   "id": "2871c459",
   "metadata": {},
   "outputs": [
    {
     "name": "stdout",
     "output_type": "stream",
     "text": [
      "Sangkeun\n",
      "*angkeun\n",
      "**ngkeun\n",
      "**********\n"
     ]
    }
   ],
   "source": [
    "a1=Anonymizer(\"Sangkeun\")\n",
    "a2=Anonymizer(\"KyungheeUniv\")\n",
    "print(a1.name)\n",
    "print(a1.get_anonymized_name(1))\n",
    "print(a1.get_anonymized_name(2))\n",
    "print(a1.get_anonymized_name(10))"
   ]
  },
  {
   "cell_type": "code",
   "execution_count": 13,
   "id": "5040d770",
   "metadata": {},
   "outputs": [],
   "source": [
    "class Account:\n",
    "    def __init__(self, balance):\n",
    "        self.balance=balance\n",
    "    def deposit(self, money):\n",
    "        self.balance+=money\n",
    "    def withdraw(self, money):\n",
    "        self.balance-=money\n",
    "    def transfer(self, money, other):\n",
    "        self.balance-=money\n",
    "        other.balance+=money\n",
    "    def __eq__(self, other) -> bool:\n",
    "        return self.balance==other.balance"
   ]
  },
  {
   "cell_type": "code",
   "execution_count": 14,
   "id": "a3b54353",
   "metadata": {},
   "outputs": [
    {
     "name": "stdout",
     "output_type": "stream",
     "text": [
      "0 0 True\n",
      "100 -50 False\n",
      "50 50 True\n",
      "75 25 False\n"
     ]
    }
   ],
   "source": [
    "a1, a2 = Account(0), Account(0)\n",
    "print(a1.balance, a2.balance, a1==a2)\n",
    "a1.deposit(100)\n",
    "a2.withdraw(50)\n",
    "print(a1.balance, a2.balance, a1==a2)\n",
    "a1.transfer(50, a2)\n",
    "a2.deposit(50)\n",
    "print(a1.balance, a2.balance, a1==a2)\n",
    "a2.transfer(25, a1)\n",
    "print(a1.balance, a2.balance, a1==a2)"
   ]
  },
  {
   "cell_type": "code",
   "execution_count": 19,
   "id": "e42acdeb",
   "metadata": {},
   "outputs": [
    {
     "name": "stdout",
     "output_type": "stream",
     "text": [
      "NonStrNameError\n"
     ]
    }
   ],
   "source": [
    "class NonStrNameError(Exception):\n",
    "    def __init__(self):\n",
    "        super().__init__(\"NonStrNameError\")\n",
    "try:\n",
    "    raise NonStrNameError\n",
    "except NonStrNameError as e:\n",
    "    print(e)"
   ]
  },
  {
   "cell_type": "code",
   "execution_count": 24,
   "id": "e5fd1a6e",
   "metadata": {},
   "outputs": [],
   "source": [
    "def function2(*args):\n",
    "    total=0\n",
    "    for letter in args:\n",
    "        if letter.find(\"@\")!=1 and letter.find(\".\")!=1 and (letter.find(\".\")>letter.find(\"@\")):\n",
    "            total+=1\n",
    "        else:\n",
    "            total+=0"
   ]
  },
  {
   "cell_type": "code",
   "execution_count": null,
   "id": "91d6bb32",
   "metadata": {},
   "outputs": [],
   "source": []
  }
 ],
 "metadata": {
  "kernelspec": {
   "display_name": "Python 3 (ipykernel)",
   "language": "python",
   "name": "python3"
  },
  "language_info": {
   "codemirror_mode": {
    "name": "ipython",
    "version": 3
   },
   "file_extension": ".py",
   "mimetype": "text/x-python",
   "name": "python",
   "nbconvert_exporter": "python",
   "pygments_lexer": "ipython3",
   "version": "3.9.12"
  }
 },
 "nbformat": 4,
 "nbformat_minor": 5
}
