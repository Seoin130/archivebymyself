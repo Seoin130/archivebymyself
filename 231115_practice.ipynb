{
 "cells": [
  {
   "cell_type": "code",
   "execution_count": 1,
   "id": "1c8fb5dd",
   "metadata": {},
   "outputs": [
    {
     "name": "stdout",
     "output_type": "stream",
     "text": [
      "<class '__main__.Student'>\n"
     ]
    }
   ],
   "source": [
    "class Student:\n",
    "    name=None\n",
    "    student_no=None\n",
    "    department=None\n",
    "    grade=1\n",
    "    score=0.0\n",
    "\n",
    "student001=Student()\n",
    "print(type(student001))"
   ]
  },
  {
   "cell_type": "code",
   "execution_count": 2,
   "id": "e2a0381c",
   "metadata": {},
   "outputs": [
    {
     "name": "stdout",
     "output_type": "stream",
     "text": [
      "<__main__.Student object at 0x000002822258F220>\n"
     ]
    }
   ],
   "source": [
    "print(student001)"
   ]
  },
  {
   "cell_type": "code",
   "execution_count": 3,
   "id": "0288f9b7",
   "metadata": {},
   "outputs": [
    {
     "name": "stdout",
     "output_type": "stream",
     "text": [
      "None\n",
      "None\n",
      "None\n",
      "1\n",
      "0.0\n"
     ]
    }
   ],
   "source": [
    "print(student001.name)\n",
    "print(student001.student_no)\n",
    "print(student001.department)\n",
    "print(student001.grade)\n",
    "print(student001.score)"
   ]
  },
  {
   "cell_type": "code",
   "execution_count": 4,
   "id": "22265d02",
   "metadata": {},
   "outputs": [],
   "source": [
    "student001.name={\"family\":\"Park\", \"first\": \"Sangkeun\"}\n",
    "student001.student_no=\"2023123456\"\n",
    "student001.department={\"Software\"}\n",
    "student001.grade=1\n",
    "student001.score=20.0"
   ]
  },
  {
   "cell_type": "code",
   "execution_count": 5,
   "id": "262757a6",
   "metadata": {},
   "outputs": [
    {
     "name": "stdout",
     "output_type": "stream",
     "text": [
      "None\n",
      "None\n",
      "None\n",
      "1\n",
      "0.0\n"
     ]
    }
   ],
   "source": [
    "student002=Student()\n",
    "print(student002.name)\n",
    "print(student002.student_no)\n",
    "print(student002.department)\n",
    "print(student002.grade)\n",
    "print(student002.score)"
   ]
  },
  {
   "cell_type": "code",
   "execution_count": 6,
   "id": "7c93d417",
   "metadata": {},
   "outputs": [],
   "source": [
    "student002.name={\"family\": \"Kim\", \"first\": \"Jongkook\"}\n",
    "student002.student_no=\"2023123000\"\n",
    "student002.department={\"Computer\"}\n",
    "student002.grade=2\n",
    "student002.score=19.0"
   ]
  },
  {
   "cell_type": "code",
   "execution_count": 7,
   "id": "58e5ac8a",
   "metadata": {},
   "outputs": [
    {
     "name": "stdout",
     "output_type": "stream",
     "text": [
      "20.0\n"
     ]
    }
   ],
   "source": [
    "print(student001.score)"
   ]
  },
  {
   "cell_type": "code",
   "execution_count": 17,
   "id": "f3a21870",
   "metadata": {},
   "outputs": [],
   "source": [
    "class Student:\n",
    "    def __init__(self, name, std_no, dept, grade, score):\n",
    "        self.name=name\n",
    "        self.student_no=std_no\n",
    "        self.department=dept\n",
    "        self.grade=grade\n",
    "        self.score=score\n",
    "    def get_fullname(self):\n",
    "        return self.name[\"family\"]+\" \"+self.name[\"first\"]\n",
    "    def add_major(self, dept):\n",
    "        self.department.add(dept)\n",
    "        "
   ]
  },
  {
   "cell_type": "code",
   "execution_count": 18,
   "id": "62768edd",
   "metadata": {},
   "outputs": [],
   "source": [
    "student001=Student({\"family\": \"Park\", \"first\":\"Sangkeun\"}, \"2023123456\", {\"Software\"}, 1, 20.0)"
   ]
  },
  {
   "cell_type": "code",
   "execution_count": 19,
   "id": "ea51e517",
   "metadata": {},
   "outputs": [
    {
     "name": "stdout",
     "output_type": "stream",
     "text": [
      "Park Sangkeun\n",
      "{'Sports', 'Software'}\n"
     ]
    }
   ],
   "source": [
    "fullname=Student.get_fullname(student001)\n",
    "print(fullname)\n",
    "Student.add_major(student001, \"Sports\")\n",
    "print(student001.department)"
   ]
  },
  {
   "cell_type": "code",
   "execution_count": 21,
   "id": "32f3d7ce",
   "metadata": {},
   "outputs": [
    {
     "name": "stdout",
     "output_type": "stream",
     "text": [
      "50.24\n",
      "25.12\n"
     ]
    }
   ],
   "source": [
    "class Circle:\n",
    "    def __init__(self, radius=1):\n",
    "        self.r=radius\n",
    "    def get_area(self):\n",
    "        return 3.14*self.r*self.r\n",
    "    def get_circumference(self):\n",
    "        return 2*3.14*self.r\n",
    "c=Circle(4)\n",
    "print(c.get_area())\n",
    "print(c.get_circumference())"
   ]
  },
  {
   "cell_type": "code",
   "execution_count": 22,
   "id": "b602bd28",
   "metadata": {},
   "outputs": [
    {
     "name": "stdout",
     "output_type": "stream",
     "text": [
      "99\n"
     ]
    }
   ],
   "source": [
    "class Person:\n",
    "    def __init__(self, name):\n",
    "        self.name=name\n",
    "        self.age=age\n",
    "age=99\n",
    "p1=Person(\"Park\")\n",
    "print(p1.age)"
   ]
  },
  {
   "cell_type": "code",
   "execution_count": 23,
   "id": "3eba21c3",
   "metadata": {},
   "outputs": [
    {
     "name": "stdout",
     "output_type": "stream",
     "text": [
      "Parkheart\n"
     ]
    }
   ],
   "source": [
    "class Person:\n",
    "    age=1\n",
    "    def __init__(self, name):\n",
    "        self.name=name\n",
    "    def with_heart(s):\n",
    "        return s+\"heart\"\n",
    "    def get_name_with_heart(self):\n",
    "        return with_heart(self.name)\n",
    "    \n",
    "def with_heart(s):\n",
    "    return s+\"heart\"\n",
    "p1=Person(\"Park\")\n",
    "print(p1.get_name_with_heart())"
   ]
  },
  {
   "cell_type": "code",
   "execution_count": 28,
   "id": "a4f09266",
   "metadata": {},
   "outputs": [
    {
     "name": "stdout",
     "output_type": "stream",
     "text": [
      "60\n",
      "200\n",
      "40\n",
      "100\n",
      "False\n",
      "True\n"
     ]
    }
   ],
   "source": [
    "class Rectangle:\n",
    "    def __init__(self, width, height):\n",
    "        self.width=width\n",
    "        self.height=height\n",
    "    def get_area(self)-> float:\n",
    "        return self.width*2+self.height*2\n",
    "    def is_square(self)->bool:\n",
    "        return self.width*self.height\n",
    "    def __eq__(self, rect)->bool:\n",
    "        if self.get_area()==rect.get_area() and self.is_square()==rect.is_square():\n",
    "            return True\n",
    "        else:\n",
    "            return False\n",
    "\n",
    "rect1=Rectangle(10,20)\n",
    "rect2=Rectangle(10,10)\n",
    "rect3=Rectangle(20,10)\n",
    "print(rect1.get_area())\n",
    "print(rect1.is_square())\n",
    "print(rect2.get_area())\n",
    "print(rect2.is_square())\n",
    "print(rect1==rect2)\n",
    "print(rect1==rect3)"
   ]
  },
  {
   "cell_type": "code",
   "execution_count": 4,
   "id": "e84148bd",
   "metadata": {},
   "outputs": [
    {
     "name": "stdout",
     "output_type": "stream",
     "text": [
      "Park 174\n",
      "Kim 16\n",
      "Lee 30\n",
      "PARK\n",
      "False\n",
      "False\n",
      "174\n"
     ]
    }
   ],
   "source": [
    "class Person:\n",
    "    def __init__(self, name, height=30):\n",
    "        self.name=name\n",
    "        self.height=height\n",
    "    def get_name(self):\n",
    "        return self.name\n",
    "    def get_height(self):\n",
    "        if height<30:\n",
    "            self.height=30\n",
    "        else:\n",
    "            self.height=height\n",
    "    def get_uppercase_name(self)->str:\n",
    "        return self.name.upper()\n",
    "    def __eq__(self, other)->bool:\n",
    "        if self.name==other.name:\n",
    "            return True\n",
    "        else:\n",
    "            return False\n",
    "    def __len__(self)->int:\n",
    "        return self.height\n",
    "\n",
    "p1=Person(\"Park\", 174)\n",
    "print(p1.name, p1.height)\n",
    "p2=Person(\"Kim\", 16)\n",
    "print(p2.name, p2.height)\n",
    "p3=Person(\"Lee\")\n",
    "print(p3.name, p3.height)\n",
    "print(p1.get_uppercase_name())\n",
    "print(p1==p2)\n",
    "print(p2==p3)\n",
    "print(len(p1))"
   ]
  },
  {
   "cell_type": "code",
   "execution_count": 18,
   "id": "22208ba7",
   "metadata": {},
   "outputs": [],
   "source": [
    "class Account:\n",
    "    def __init__(self, balance: int=0):\n",
    "        self.balance=balance\n",
    "    def deposit(self, money:int)->None:\n",
    "        self.balance+=money\n",
    "    def withdraw(self, money: int)->None:\n",
    "        self.balance-=money\n",
    "    def __eq__(self, other)->bool:\n",
    "        if self.balance==other.balance:\n",
    "            return True\n",
    "        else:\n",
    "            return False"
   ]
  },
  {
   "cell_type": "code",
   "execution_count": 19,
   "id": "26c44176",
   "metadata": {},
   "outputs": [
    {
     "name": "stdout",
     "output_type": "stream",
     "text": [
      "1000 2000\n",
      "False\n",
      "1500 1500\n",
      "True\n"
     ]
    }
   ],
   "source": [
    "account1=Account(1000)\n",
    "account2=Account(2000)\n",
    "print(account1.balance, account2.balance)\n",
    "print(account1==account2)\n",
    "account1.deposit(500)\n",
    "account2.withdraw(500)\n",
    "print(account1.balance, account2.balance)\n",
    "print(account1==account2)"
   ]
  },
  {
   "cell_type": "code",
   "execution_count": 20,
   "id": "4476cd4d",
   "metadata": {},
   "outputs": [],
   "source": [
    "class Person:\n",
    "    def __init__(self, name):\n",
    "        self.name=name\n",
    "    def get_uppercase_name(self):\n",
    "        return self.name.upper()\n",
    "class Student(Person):\n",
    "    def __init__(self, name, major):\n",
    "        self.name=name\n",
    "        self.major=major\n",
    "    def get_uppercase_major(self):\n",
    "        return self.major.upper()"
   ]
  },
  {
   "cell_type": "code",
   "execution_count": 21,
   "id": "bea7cd29",
   "metadata": {},
   "outputs": [
    {
     "name": "stdout",
     "output_type": "stream",
     "text": [
      "PARK\n"
     ]
    }
   ],
   "source": [
    "s=Student(\"park\", \"software\")\n",
    "print(s.get_uppercase_name())"
   ]
  },
  {
   "cell_type": "code",
   "execution_count": 2,
   "id": "b31b5c6c",
   "metadata": {},
   "outputs": [
    {
     "name": "stdout",
     "output_type": "stream",
     "text": [
      "Meow!\n"
     ]
    }
   ],
   "source": [
    "class Pet:\n",
    "    def __init__(self, name):\n",
    "        self.name=name\n",
    "    def cry(self):\n",
    "        return self.name\n",
    "class Cat(Pet):\n",
    "    def cry(self):\n",
    "        return \"Meow!\"\n",
    "c=Cat(\"Luna\")\n",
    "print(c.cry())"
   ]
  },
  {
   "cell_type": "code",
   "execution_count": 3,
   "id": "a3b3ebca",
   "metadata": {},
   "outputs": [
    {
     "name": "stdout",
     "output_type": "stream",
     "text": [
      "Lucy\n",
      "Quack!\n"
     ]
    }
   ],
   "source": [
    "class Duck(Pet):\n",
    "    def cry(self):\n",
    "        return \"Quack!\"\n",
    "d=Duck(\"Lucy\")\n",
    "print(super(Duck, d).cry())\n",
    "print(d.cry())"
   ]
  },
  {
   "cell_type": "code",
   "execution_count": 5,
   "id": "8a86ee3a",
   "metadata": {},
   "outputs": [
    {
     "name": "stdout",
     "output_type": "stream",
     "text": [
      "Lucy doesn't cry\n"
     ]
    }
   ],
   "source": [
    "class Duck(Pet):\n",
    "    def cry(self):\n",
    "        sound=super(Duck,self).cry()\n",
    "        sound+=\" doesn't cry\"\n",
    "        return sound\n",
    "d=Duck(\"Lucy\")\n",
    "print(d.cry())"
   ]
  },
  {
   "cell_type": "code",
   "execution_count": null,
   "id": "8ec59138",
   "metadata": {},
   "outputs": [],
   "source": []
  }
 ],
 "metadata": {
  "kernelspec": {
   "display_name": "Python 3 (ipykernel)",
   "language": "python",
   "name": "python3"
  },
  "language_info": {
   "codemirror_mode": {
    "name": "ipython",
    "version": 3
   },
   "file_extension": ".py",
   "mimetype": "text/x-python",
   "name": "python",
   "nbconvert_exporter": "python",
   "pygments_lexer": "ipython3",
   "version": "3.9.12"
  }
 },
 "nbformat": 4,
 "nbformat_minor": 5
}
