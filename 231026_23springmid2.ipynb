{
 "cells": [
  {
   "cell_type": "code",
   "execution_count": null,
   "id": "bcdfc899",
   "metadata": {},
   "outputs": [],
   "source": [
    "def function1(a,b,c):\n",
    "    return a+b+c\n",
    "def function2(L):\n",
    "    total=0\n",
    "    if len(L)==0:\n",
    "        return 0\n",
    "    else:\n",
    "        for i in L:\n",
    "            if i%2==1:\n",
    "                total+=i\n",
    "        return total\n",
    "def function3(L):\n",
    "    if len(L)==1:\n",
    "        return L[-1]\n",
    "    else:\n",
    "        L.sort()\n",
    "        return L[-2]\n",
    "def function4(s):\n",
    "    return s[:-1].lower()+s[-1].upper()\n",
    "def function5(s):\n",
    "    L_a=set()\n",
    "    total=0\n",
    "def fuction6(a,b):\n",
    "    for i in range(1,a+1):\n",
    "        if a%i==0:\n",
    "            L_a.add(i)\n",
    "    for i in range(1,b+1):\n",
    "        if b%i==0:\n",
    "            L_b.add(i)\n",
    "    result=L_a.intersection(L_b)\n",
    "    return result"
   ]
  },
  {
   "cell_type": "code",
   "execution_count": 6,
   "id": "56ba0796",
   "metadata": {},
   "outputs": [],
   "source": [
    "def function6(a,b):\n",
    "    L_a=set()\n",
    "    L_b=set()\n",
    "    for i in range(1,a+1):\n",
    "        if a%i==0:\n",
    "            L_a.add(i)\n",
    "    for i in range(1,b+1):\n",
    "        if b%i==0:\n",
    "            L_b.add(i)\n",
    "    result=L_a.intersection(L_b)\n",
    "    return result"
   ]
  },
  {
   "cell_type": "code",
   "execution_count": 7,
   "id": "bf384091",
   "metadata": {},
   "outputs": [
    {
     "name": "stdout",
     "output_type": "stream",
     "text": [
      "{1, 2}\n"
     ]
    }
   ],
   "source": [
    "print(function6(6,10))"
   ]
  },
  {
   "cell_type": "code",
   "execution_count": null,
   "id": "4e89929e",
   "metadata": {},
   "outputs": [],
   "source": [
    "def function7(D):\n",
    "    score=[]\n",
    "    for key, value in D.items():\n",
    "        if key!=\"math\":\n",
    "            score.append(value)\n",
    "    sum=0\n",
    "    for num in score:\n",
    "        sum+=score\n",
    "    return sum"
   ]
  }
 ],
 "metadata": {
  "kernelspec": {
   "display_name": "Python 3 (ipykernel)",
   "language": "python",
   "name": "python3"
  },
  "language_info": {
   "codemirror_mode": {
    "name": "ipython",
    "version": 3
   },
   "file_extension": ".py",
   "mimetype": "text/x-python",
   "name": "python",
   "nbconvert_exporter": "python",
   "pygments_lexer": "ipython3",
   "version": "3.9.12"
  }
 },
 "nbformat": 4,
 "nbformat_minor": 5
}
