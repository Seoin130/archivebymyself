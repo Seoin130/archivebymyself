{
 "cells": [
  {
   "cell_type": "code",
   "execution_count": 1,
   "id": "1564faea",
   "metadata": {},
   "outputs": [
    {
     "name": "stdout",
     "output_type": "stream",
     "text": [
      "Park\n",
      "Kim\n",
      "Lee\n",
      "Hong\n",
      "Kang\n",
      "Kang\n"
     ]
    }
   ],
   "source": [
    "students=[\"Park\", \"Kim\", \"Lee\", \"Hong\", \"Kang\"]\n",
    "for student in students:\n",
    "    print(student)\n",
    "print(student)"
   ]
  },
  {
   "cell_type": "code",
   "execution_count": 2,
   "id": "52f4162c",
   "metadata": {},
   "outputs": [
    {
     "name": "stdout",
     "output_type": "stream",
     "text": [
      "P\n",
      "Y\n",
      "T\n",
      "H\n",
      "O\n",
      "N\n"
     ]
    }
   ],
   "source": [
    "s=\"Python\"\n",
    "for character in s:\n",
    "    character=character.upper()\n",
    "    print(character)"
   ]
  },
  {
   "cell_type": "code",
   "execution_count": 3,
   "id": "8b778e49",
   "metadata": {},
   "outputs": [
    {
     "name": "stdout",
     "output_type": "stream",
     "text": [
      "Park\n",
      "Kim\n",
      "Lee\n",
      "Lee\n"
     ]
    }
   ],
   "source": [
    "student_no={\"Park\":1, \"Kim\":2, \"Lee\":3}\n",
    "for name in student_no.keys():\n",
    "    print(name)\n",
    "print(name)"
   ]
  },
  {
   "cell_type": "code",
   "execution_count": 4,
   "id": "8a211fda",
   "metadata": {},
   "outputs": [
    {
     "name": "stdout",
     "output_type": "stream",
     "text": [
      "('Park', 1)\n",
      "('Kim', 2)\n",
      "('Lee', 3)\n",
      "('Lee', 3)\n"
     ]
    }
   ],
   "source": [
    "student_no={\"Park\":1, \"Kim\":2, \"Lee\":3}\n",
    "for item in student_no.items():\n",
    "    print(item)\n",
    "print(item)"
   ]
  },
  {
   "cell_type": "code",
   "execution_count": 5,
   "id": "ef7652b1",
   "metadata": {},
   "outputs": [
    {
     "name": "stdout",
     "output_type": "stream",
     "text": [
      "Park 1\n",
      "Kim 2\n",
      "Lee 3\n",
      "Lee 3\n"
     ]
    }
   ],
   "source": [
    "student_no={\"Park\":1, \"Kim\":2, \"Lee\":3}\n",
    "for name, number in student_no.items():\n",
    "    print(name, number)\n",
    "print(name, number)"
   ]
  },
  {
   "cell_type": "code",
   "execution_count": 9,
   "id": "2d356793",
   "metadata": {},
   "outputs": [
    {
     "name": "stdout",
     "output_type": "stream",
     "text": [
      "Park's student number is 1.\n",
      "Kim's student number is 2.\n",
      "Lee's student number is 3.\n",
      "Lee 3\n"
     ]
    }
   ],
   "source": [
    "student_no={\"Park\":1, \"Kim\":2, \"Lee\":3}\n",
    "for name, number in student_no.items():\n",
    "    print(f\"{name}'s student number is {number}.\")\n",
    "print(name, number)"
   ]
  },
  {
   "cell_type": "code",
   "execution_count": 10,
   "id": "3fc13760",
   "metadata": {},
   "outputs": [
    {
     "name": "stdout",
     "output_type": "stream",
     "text": [
      "1 2 3\n",
      "4 5 6\n",
      "7 8 9\n"
     ]
    }
   ],
   "source": [
    "for a,b,c in [(1,2,3), (4,5,6), (7,8,9)]:\n",
    "    print(a,b,c)"
   ]
  },
  {
   "cell_type": "code",
   "execution_count": 11,
   "id": "cf15917a",
   "metadata": {},
   "outputs": [
    {
     "name": "stdout",
     "output_type": "stream",
     "text": [
      "Kim\n",
      "Lee\n",
      "Hong\n",
      "Kang\n"
     ]
    }
   ],
   "source": [
    "students=[\"Park\", \"Kim\", \"Lee\", \"Hong\", \"Kang\"]\n",
    "for i in range(1,5):\n",
    "    print(students[i])"
   ]
  },
  {
   "cell_type": "code",
   "execution_count": 13,
   "id": "15c92a39",
   "metadata": {},
   "outputs": [
    {
     "name": "stdout",
     "output_type": "stream",
     "text": [
      "i value is:  0\n",
      "i=  0 , j= 3 , i*j=  0\n",
      "i=  0 , j= 4 , i*j=  0\n",
      "i=  0 , j= 5 , i*j=  0\n",
      "i value is:  1\n",
      "i=  1 , j= 3 , i*j=  3\n",
      "i=  1 , j= 4 , i*j=  4\n",
      "i=  1 , j= 5 , i*j=  5\n",
      "i value is:  2\n",
      "i=  2 , j= 3 , i*j=  6\n",
      "i=  2 , j= 4 , i*j=  8\n",
      "i=  2 , j= 5 , i*j=  10\n"
     ]
    }
   ],
   "source": [
    "for i in range(0,3):\n",
    "    print(\"i value is: \", i)\n",
    "    for j in range(3,6):\n",
    "        print(\"i= \", i,\", j=\", j, \", i*j= \", i*j)"
   ]
  },
  {
   "cell_type": "code",
   "execution_count": null,
   "id": "eb897eff",
   "metadata": {},
   "outputs": [],
   "source": []
  }
 ],
 "metadata": {
  "kernelspec": {
   "display_name": "Python 3 (ipykernel)",
   "language": "python",
   "name": "python3"
  },
  "language_info": {
   "codemirror_mode": {
    "name": "ipython",
    "version": 3
   },
   "file_extension": ".py",
   "mimetype": "text/x-python",
   "name": "python",
   "nbconvert_exporter": "python",
   "pygments_lexer": "ipython3",
   "version": "3.9.12"
  }
 },
 "nbformat": 4,
 "nbformat_minor": 5
}
