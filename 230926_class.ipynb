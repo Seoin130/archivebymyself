{
 "cells": [
  {
   "cell_type": "code",
   "execution_count": 1,
   "id": "bb4b9d6b",
   "metadata": {},
   "outputs": [
    {
     "name": "stdout",
     "output_type": "stream",
     "text": [
      "['김가은', ['김효정', '김개똥']] ['김가은', ['김효정', '김개똥']]\n"
     ]
    }
   ],
   "source": [
    "student=[\"김가은\", [\"김효정\", \"강지한\"]]\n",
    "student_2023_2=student.copy()\n",
    "student[1][1]=\"김개똥\"\n",
    "print(student_2023_2, student)"
   ]
  },
  {
   "cell_type": "markdown",
   "id": "b4a84051",
   "metadata": {},
   "source": [
    "리스트 안에 리스트가 들어가기 시작하면 같은 메모리를 공유하고 있기 때문에 다 바뀔 수밖에 없음"
   ]
  },
  {
   "cell_type": "code",
   "execution_count": 3,
   "id": "5fc413e0",
   "metadata": {},
   "outputs": [
    {
     "name": "stdout",
     "output_type": "stream",
     "text": [
      "['김가은', '김효정', '강지한'] ['김가은', '김효정', '김개똥']\n"
     ]
    }
   ],
   "source": [
    "student2=[\"김가은\", \"김효정\", \"강지한\"]\n",
    "student_2023_3=student2.copy()\n",
    "student2[2]=\"김개똥\"\n",
    "print(student_2023_3, student2)"
   ]
  },
  {
   "cell_type": "code",
   "execution_count": 4,
   "id": "9803619d",
   "metadata": {},
   "outputs": [
    {
     "name": "stdout",
     "output_type": "stream",
     "text": [
      "(1, 2, 'three') <class 'tuple'>\n"
     ]
    }
   ],
   "source": [
    "var1=(1,2,\"three\")\n",
    "print(var1, type(var1))"
   ]
  },
  {
   "cell_type": "markdown",
   "id": "6dbf34aa",
   "metadata": {},
   "source": [
    "tuple은 append, copy 등등 추가하는 것은 절대 안됨\n",
    "소괄호로 바꾸면 안에 있는 값을 변화시킬 수 없음"
   ]
  },
  {
   "cell_type": "code",
   "execution_count": 5,
   "id": "f17df9d8",
   "metadata": {},
   "outputs": [
    {
     "name": "stdout",
     "output_type": "stream",
     "text": [
      "[1, 2, 3]\n"
     ]
    }
   ],
   "source": [
    "a=[1,2,3]\n",
    "print(a)"
   ]
  },
  {
   "cell_type": "code",
   "execution_count": 9,
   "id": "6ff237de",
   "metadata": {},
   "outputs": [
    {
     "name": "stdout",
     "output_type": "stream",
     "text": [
      "{'three', (1, 2)}\n"
     ]
    }
   ],
   "source": [
    "T=(1,2,)\n",
    "var={T, \"three\"}\n",
    "print(var)"
   ]
  },
  {
   "cell_type": "code",
   "execution_count": 10,
   "id": "5d203309",
   "metadata": {},
   "outputs": [
    {
     "ename": "TypeError",
     "evalue": "unhashable type: 'list'",
     "output_type": "error",
     "traceback": [
      "\u001b[1;31m---------------------------------------------------------------------------\u001b[0m",
      "\u001b[1;31mTypeError\u001b[0m                                 Traceback (most recent call last)",
      "Input \u001b[1;32mIn [10]\u001b[0m, in \u001b[0;36m<cell line: 2>\u001b[1;34m()\u001b[0m\n\u001b[0;32m      1\u001b[0m L\u001b[38;5;241m=\u001b[39m[\u001b[38;5;241m1\u001b[39m,\u001b[38;5;241m2\u001b[39m,]\n\u001b[1;32m----> 2\u001b[0m var\u001b[38;5;241m=\u001b[39m{L, \u001b[38;5;124m\"\u001b[39m\u001b[38;5;124mthree\u001b[39m\u001b[38;5;124m\"\u001b[39m}\n\u001b[0;32m      3\u001b[0m \u001b[38;5;28mprint\u001b[39m(var)\n",
      "\u001b[1;31mTypeError\u001b[0m: unhashable type: 'list'"
     ]
    }
   ],
   "source": [
    "L=[1,2,]\n",
    "var={L, \"three\"}\n",
    "print(var)"
   ]
  },
  {
   "cell_type": "code",
   "execution_count": 11,
   "id": "c179a6a0",
   "metadata": {},
   "outputs": [
    {
     "name": "stdout",
     "output_type": "stream",
     "text": [
      "{'Lee', 'Hong', 'Kim', 'Park'}\n"
     ]
    }
   ],
   "source": [
    "students_2022=(\"Kim\", \"Lee\", \"Park\")\n",
    "students_2023=(\"Kim\", \"Park\", \"Hong\")\n",
    "all_students=students_2022+students_2023\n",
    "unique_students=set(all_students)\n",
    "print(unique_students)"
   ]
  },
  {
   "cell_type": "code",
   "execution_count": 12,
   "id": "628a43d5",
   "metadata": {},
   "outputs": [
    {
     "name": "stdout",
     "output_type": "stream",
     "text": [
      "{'Park': '010-1234-5678', 'Kim': '010-1111-2222'}\n"
     ]
    }
   ],
   "source": [
    "d=dict()\n",
    "d['Park']='010-1234-5678'\n",
    "d['Kim']='010-1111-2222'\n",
    "print(d)"
   ]
  },
  {
   "cell_type": "code",
   "execution_count": 13,
   "id": "3a4496c0",
   "metadata": {},
   "outputs": [
    {
     "name": "stdout",
     "output_type": "stream",
     "text": [
      "100\n"
     ]
    }
   ],
   "source": [
    "score=dict()\n",
    "score[\"Park\"]=100\n",
    "score[\"Kim\"]=80\n",
    "score[\"Lee\"]=40\n",
    "print(score[\"Park\"])"
   ]
  },
  {
   "cell_type": "code",
   "execution_count": null,
   "id": "56cb420f",
   "metadata": {},
   "outputs": [],
   "source": []
  }
 ],
 "metadata": {
  "kernelspec": {
   "display_name": "Python 3 (ipykernel)",
   "language": "python",
   "name": "python3"
  },
  "language_info": {
   "codemirror_mode": {
    "name": "ipython",
    "version": 3
   },
   "file_extension": ".py",
   "mimetype": "text/x-python",
   "name": "python",
   "nbconvert_exporter": "python",
   "pygments_lexer": "ipython3",
   "version": "3.9.12"
  }
 },
 "nbformat": 4,
 "nbformat_minor": 5
}
