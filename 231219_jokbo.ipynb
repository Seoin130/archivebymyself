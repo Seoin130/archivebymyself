{
 "cells": [
  {
   "cell_type": "code",
   "execution_count": 19,
   "id": "66ea89b6",
   "metadata": {},
   "outputs": [],
   "source": [
    "def function01(a):\n",
    "    total=0\n",
    "    while a!=1:\n",
    "        if a%2==0:\n",
    "            a=a/2\n",
    "        else:\n",
    "            a=3*a+1\n",
    "        total+=a\n",
    "    return total"
   ]
  },
  {
   "cell_type": "code",
   "execution_count": 20,
   "id": "afcea7dc",
   "metadata": {},
   "outputs": [
    {
     "name": "stdout",
     "output_type": "stream",
     "text": [
      "49.0\n"
     ]
    }
   ],
   "source": [
    "print(function01(6))"
   ]
  },
  {
   "cell_type": "code",
   "execution_count": 28,
   "id": "3f313121",
   "metadata": {},
   "outputs": [],
   "source": [
    "def function2(*args):\n",
    "    total=0\n",
    "    for i in args:\n",
    "        if i.find(\"@\")!=1 and i.find(\".\")!=1 and (i.find(\"@\")<i.find(\".\")):\n",
    "            total+=1\n",
    "    return total"
   ]
  },
  {
   "cell_type": "code",
   "execution_count": 29,
   "id": "4f42d596",
   "metadata": {},
   "outputs": [
    {
     "name": "stdout",
     "output_type": "stream",
     "text": [
      "0\n"
     ]
    }
   ],
   "source": [
    "print(function2(\"skpark.khu@com\"))"
   ]
  },
  {
   "cell_type": "code",
   "execution_count": 30,
   "id": "993d83ec",
   "metadata": {},
   "outputs": [
    {
     "name": "stdout",
     "output_type": "stream",
     "text": [
      "1\n"
     ]
    }
   ],
   "source": [
    "print(function2(\"seoiny03@khu.ac.kr\"))"
   ]
  },
  {
   "cell_type": "code",
   "execution_count": 9,
   "id": "fdf40fee",
   "metadata": {},
   "outputs": [],
   "source": [
    "def function3(a,b) -> int:\n",
    "    total=0\n",
    "    for i in range(len(sign)):\n",
    "        if sign[i]==\"+\":\n",
    "            total+=num[i]\n",
    "        else:\n",
    "            total -=num[i]\n",
    "    return total"
   ]
  },
  {
   "cell_type": "code",
   "execution_count": 31,
   "id": "107d7808",
   "metadata": {},
   "outputs": [],
   "source": [
    "def function5(a,b):\n",
    "    try:\n",
    "        return a/b\n",
    "    except ZeroDivisionError:\n",
    "        return \"ZeroDivisionError\"\n",
    "    except:\n",
    "        return \"Error\""
   ]
  },
  {
   "cell_type": "code",
   "execution_count": 32,
   "id": "7b7df3a8",
   "metadata": {},
   "outputs": [
    {
     "name": "stdout",
     "output_type": "stream",
     "text": [
      "Error\n"
     ]
    }
   ],
   "source": [
    "print(function5(1,\"10\"))"
   ]
  },
  {
   "cell_type": "code",
   "execution_count": 33,
   "id": "9620d3f8",
   "metadata": {},
   "outputs": [
    {
     "name": "stdout",
     "output_type": "stream",
     "text": [
      "ZeroDivisionError\n"
     ]
    }
   ],
   "source": [
    "print(function5(0,0))"
   ]
  },
  {
   "cell_type": "code",
   "execution_count": 34,
   "id": "faab1b55",
   "metadata": {},
   "outputs": [
    {
     "name": "stdout",
     "output_type": "stream",
     "text": [
      "1.0\n"
     ]
    }
   ],
   "source": [
    "print(function5(99,99))"
   ]
  },
  {
   "cell_type": "code",
   "execution_count": 40,
   "id": "f64b0eb0",
   "metadata": {},
   "outputs": [],
   "source": [
    "class Anonymizer:\n",
    "    def __init__(self, name):\n",
    "        self.name=name\n",
    "    def get_anonymized_name(self, n):\n",
    "        if n>len(self.name):\n",
    "            return '*'*n\n",
    "        else:\n",
    "            return '*'*n+self.name[n:]"
   ]
  },
  {
   "cell_type": "code",
   "execution_count": 41,
   "id": "d15e830f",
   "metadata": {},
   "outputs": [
    {
     "name": "stdout",
     "output_type": "stream",
     "text": [
      "Sangkeun\n",
      "*angkeun\n",
      "**ngkeun\n",
      "**********\n"
     ]
    }
   ],
   "source": [
    "a1=Anonymizer(\"Sangkeun\")\n",
    "a2=Anonymizer(\"KyungheeUniv\")\n",
    "print(a1.name)\n",
    "print(a1.get_anonymized_name(1))\n",
    "print(a1.get_anonymized_name(2))\n",
    "print(a1.get_anonymized_name(10))"
   ]
  },
  {
   "cell_type": "code",
   "execution_count": 42,
   "id": "5811eb3c",
   "metadata": {},
   "outputs": [],
   "source": [
    "class Account:\n",
    "    def __init__(self, balance):\n",
    "        self.balance=balance\n",
    "    def deposit(self, money):\n",
    "        self.balance+=money\n",
    "    def withdraw(self, money):\n",
    "        self.balance-=money\n",
    "    def transfer(self, money):\n",
    "        self.balance-=money\n",
    "        other.balance+=money\n",
    "    def __eq__(self, other):\n",
    "        return self.balance==other.balance"
   ]
  },
  {
   "cell_type": "code",
   "execution_count": 45,
   "id": "5577d6ee",
   "metadata": {},
   "outputs": [
    {
     "name": "stdout",
     "output_type": "stream",
     "text": [
      "NonStrNameError\n",
      "\n"
     ]
    }
   ],
   "source": [
    "class NonStrNameError(Exception):\n",
    "    print(\"NonStrNameError\")\n",
    "    \n",
    "try:\n",
    "    raise NonStrNameError\n",
    "except NonStrNameError as e:\n",
    "    print(e)"
   ]
  },
  {
   "cell_type": "code",
   "execution_count": 46,
   "id": "cff848b0",
   "metadata": {},
   "outputs": [],
   "source": [
    "class Integer:\n",
    "    def __init__(self, number):\n",
    "        self.number=number\n",
    "    def __add__(self, other):\n",
    "        return self.number+other.number\n",
    "    def __sub__(self, other):\n",
    "        return self.number-other.number"
   ]
  },
  {
   "cell_type": "code",
   "execution_count": 55,
   "id": "80506907",
   "metadata": {},
   "outputs": [],
   "source": [
    "class University:\n",
    "    maximum_score=4.5\n",
    "    def __init__(self, score):\n",
    "        self.score=score\n",
    "    def get_percentile(self):\n",
    "        return f\"{int(self.score/self.maximum_score*100)}%\"\n",
    "    @classmethod\n",
    "    def set_maximum_score(cls, newscore):\n",
    "        KyungheeUniversity.maximum_score=newscore\n",
    "class KyungheeUniversity(University):\n",
    "    def __init__(self, score):\n",
    "        super().__init__(score)"
   ]
  },
  {
   "cell_type": "code",
   "execution_count": 56,
   "id": "94562693",
   "metadata": {},
   "outputs": [
    {
     "name": "stdout",
     "output_type": "stream",
     "text": [
      "88%\n",
      "88%\n",
      "88%\n",
      "93%\n",
      "88%\n",
      "100%\n"
     ]
    }
   ],
   "source": [
    "student1=University(4.0)\n",
    "student2=KyungheeUniversity(4.0)\n",
    "print(student1.get_percentile())\n",
    "print(student2.get_percentile())\n",
    "KyungheeUniversity.set_maximum_score(4.3)\n",
    "print(student1.get_percentile())\n",
    "print(student2.get_percentile())\n",
    "KyungheeUniversity.set_maximum_score(4.0)\n",
    "print(student1.get_percentile())\n",
    "print(student2.get_percentile())"
   ]
  },
  {
   "cell_type": "code",
   "execution_count": 57,
   "id": "6e18815c",
   "metadata": {},
   "outputs": [
    {
     "ename": "SyntaxError",
     "evalue": "'return' outside function (4279305394.py, line 10)",
     "output_type": "error",
     "traceback": [
      "\u001b[1;36m  Input \u001b[1;32mIn [57]\u001b[1;36m\u001b[0m\n\u001b[1;33m    return total\u001b[0m\n\u001b[1;37m    ^\u001b[0m\n\u001b[1;31mSyntaxError\u001b[0m\u001b[1;31m:\u001b[0m 'return' outside function\n"
     ]
    }
   ],
   "source": [
    "n=\"ajkdlfjlkadjfdklfjk124u34jkdljflkdjfl43223jkldjfkldjkl12j1l0044jkldjklf1812j1k2jlkdjklfjdf8333jk4ljkldjflkd893jkldjfkldjf8922823jk2l3jkljdklfjdlfd9823232j32jdjflkdjf9823\"\n",
    "L=[]\n",
    "new_list=[]\n",
    "total=0\n",
    "L.append(n)\n",
    "for n in L:\n",
    "    if n.isdigit():\n",
    "        new_list.append(n)\n",
    "        total+=n\n",
    "return total"
   ]
  },
  {
   "cell_type": "code",
   "execution_count": 63,
   "id": "fb540117",
   "metadata": {},
   "outputs": [],
   "source": [
    "def function(given_str) ->int:\n",
    "    number_str=\"\"\n",
    "    total=0\n",
    "    for i in given_str:\n",
    "        if i.isdigit():\n",
    "            number_str+=i\n",
    "        else:\n",
    "            if number_str:\n",
    "                total+=int(number_str)\n",
    "                number_str=\"\"\n",
    "    if number_str:\n",
    "        total+=int(number_str)\n",
    "    return total"
   ]
  },
  {
   "cell_type": "code",
   "execution_count": 64,
   "id": "c3525156",
   "metadata": {},
   "outputs": [
    {
     "data": {
      "text/plain": [
       "18810398"
      ]
     },
     "execution_count": 64,
     "metadata": {},
     "output_type": "execute_result"
    }
   ],
   "source": [
    "function(\"ajkdlfjlkadjfdklfjk124u34jkdljflkdjfl43223jkldjfkldjkl12j1l0044jkldjklf1812j1k2jlkdjklfjdf8333jk4ljkldjflkd893jkldjfkldjf8922823jk2l3jkljdklfjdlfd9823232j32jdjflkdjf9823\")"
   ]
  },
  {
   "cell_type": "code",
   "execution_count": 65,
   "id": "a3398961",
   "metadata": {},
   "outputs": [],
   "source": [
    "def Is_prime_number(n):\n",
    "    for i in range(2,n):\n",
    "        if n%i==0:\n",
    "            return False\n",
    "        else:\n",
    "            return True"
   ]
  },
  {
   "cell_type": "code",
   "execution_count": 66,
   "id": "671b52fe",
   "metadata": {},
   "outputs": [],
   "source": [
    "class Triangle:\n",
    "    def __init__(self, w,h):\n",
    "        self.width=w\n",
    "        self.height=h\n",
    "    def get_area(self):\n",
    "        return self.width*self.height/2\n",
    "    def __add__(self, other):\n",
    "        return self.get_area()+other.get_area()"
   ]
  },
  {
   "cell_type": "code",
   "execution_count": 67,
   "id": "df6489b5",
   "metadata": {},
   "outputs": [
    {
     "name": "stdout",
     "output_type": "stream",
     "text": [
      "120.0\n"
     ]
    }
   ],
   "source": [
    "t1 = Triangle(10, 20)\n",
    "t2 = Triangle(10, 4)\n",
    "print(t1+t2)"
   ]
  },
  {
   "cell_type": "code",
   "execution_count": 70,
   "id": "1830d935",
   "metadata": {},
   "outputs": [],
   "source": [
    "class Cat:\n",
    "    def __init__(self, name, height):\n",
    "        self.name=name\n",
    "        self.height=height\n",
    "    def __add__(self, other):\n",
    "        return Cat(self.name[:2]+other.name[:2], min(self.height,other.height)/2)"
   ]
  },
  {
   "cell_type": "code",
   "execution_count": 71,
   "id": "e469037d",
   "metadata": {},
   "outputs": [
    {
     "name": "stdout",
     "output_type": "stream",
     "text": [
      "True\n",
      "LuMa\n",
      "10.0\n"
     ]
    }
   ],
   "source": [
    "cat1 = Cat(\"Lucy\", 30)\n",
    "cat2 = Cat(\"Maggie\", 20)\n",
    "kitten = cat1 + cat2\n",
    "print(isinstance(kitten, Cat))\n",
    "print(kitten.name)\n",
    "print(kitten.height)"
   ]
  },
  {
   "cell_type": "code",
   "execution_count": null,
   "id": "a5999506",
   "metadata": {},
   "outputs": [],
   "source": [
    "\n"
   ]
  }
 ],
 "metadata": {
  "kernelspec": {
   "display_name": "Python 3 (ipykernel)",
   "language": "python",
   "name": "python3"
  },
  "language_info": {
   "codemirror_mode": {
    "name": "ipython",
    "version": 3
   },
   "file_extension": ".py",
   "mimetype": "text/x-python",
   "name": "python",
   "nbconvert_exporter": "python",
   "pygments_lexer": "ipython3",
   "version": "3.9.12"
  }
 },
 "nbformat": 4,
 "nbformat_minor": 5
}
