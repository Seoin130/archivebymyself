{
 "cells": [
  {
   "cell_type": "code",
   "execution_count": 1,
   "id": "1d368a31",
   "metadata": {},
   "outputs": [
    {
     "name": "stdout",
     "output_type": "stream",
     "text": [
      "\n"
     ]
    }
   ],
   "source": [
    "s1=\"Hello World!\"\n",
    "s2=s1[-5:2]\n",
    "print(s2)"
   ]
  },
  {
   "cell_type": "code",
   "execution_count": 4,
   "id": "6bee692a",
   "metadata": {},
   "outputs": [
    {
     "name": "stdout",
     "output_type": "stream",
     "text": [
      "\n"
     ]
    }
   ],
   "source": [
    "s3=s1[-4:-11]\n",
    "print(s3)"
   ]
  },
  {
   "cell_type": "code",
   "execution_count": 5,
   "id": "ed2486c7",
   "metadata": {},
   "outputs": [
    {
     "name": "stdout",
     "output_type": "stream",
     "text": [
      "NewJeans NEWJEANS\n"
     ]
    }
   ],
   "source": [
    "s1=\"NewJeans\"\n",
    "s2=s1.upper()\n",
    "print(s1, s2)"
   ]
  },
  {
   "cell_type": "code",
   "execution_count": 12,
   "id": "2a556bea",
   "metadata": {},
   "outputs": [
    {
     "name": "stdout",
     "output_type": "stream",
     "text": [
      "S\n",
      "newjean\n",
      "newjeanS\n"
     ]
    }
   ],
   "source": [
    "s2=s1[-1].upper()\n",
    "print(s2)\n",
    "s3=s1[:-1].lower()\n",
    "print(s3)\n",
    "s4=s3+s2\n",
    "print(s4)"
   ]
  },
  {
   "cell_type": "code",
   "execution_count": 13,
   "id": "611d0371",
   "metadata": {},
   "outputs": [
    {
     "name": "stdout",
     "output_type": "stream",
     "text": [
      "True\n",
      "False\n"
     ]
    }
   ],
   "source": [
    "a=\"Hello#\"\n",
    "b=\"Hello#\"\n",
    "print(a==b)\n",
    "print(a is b)"
   ]
  },
  {
   "cell_type": "code",
   "execution_count": 14,
   "id": "cb5a11b2",
   "metadata": {},
   "outputs": [
    {
     "name": "stdout",
     "output_type": "stream",
     "text": [
      "[1, 2, 3] <class 'list'>\n"
     ]
    }
   ],
   "source": [
    "var1=[\"안녕\", \"World\", [1,2,3], 3.14]\n",
    "print(var1[2], type(var1[2]))"
   ]
  },
  {
   "cell_type": "code",
   "execution_count": 15,
   "id": "1e996d9b",
   "metadata": {},
   "outputs": [
    {
     "name": "stdout",
     "output_type": "stream",
     "text": [
      "['안녕', 'Hello', [1, 2, 3], 3.14]\n",
      "<class 'list'>\n"
     ]
    }
   ],
   "source": [
    "var1[1]=\"Hello\"\n",
    "print(var1)\n",
    "print(type(var1))"
   ]
  },
  {
   "cell_type": "code",
   "execution_count": 16,
   "id": "07eea6a9",
   "metadata": {},
   "outputs": [
    {
     "name": "stdout",
     "output_type": "stream",
     "text": [
      "['AKMU', '파', '이', '썬', 'YOUNHA']\n"
     ]
    }
   ],
   "source": [
    "students=[\"AKMU\", \"Newjeans\", \"IVE\", \"YOUNHA\"]\n",
    "students[1:-1]=\"파이썬\"\n",
    "print(students)"
   ]
  },
  {
   "cell_type": "code",
   "execution_count": 17,
   "id": "d9545517",
   "metadata": {},
   "outputs": [
    {
     "name": "stdout",
     "output_type": "stream",
     "text": [
      "[1, 2, 3, 4, 5, 6]\n"
     ]
    }
   ],
   "source": [
    "var1=[1,2,3,]\n",
    "var2=[4,5,6,]\n",
    "var1.extend(var2)\n",
    "print(var1)"
   ]
  },
  {
   "cell_type": "code",
   "execution_count": 18,
   "id": "664771b5",
   "metadata": {},
   "outputs": [
    {
     "name": "stdout",
     "output_type": "stream",
     "text": [
      "(1, 2, 'three') <class 'tuple'>\n"
     ]
    }
   ],
   "source": [
    "var1=(1,2,\"three\")\n",
    "print(var1, type(var1))"
   ]
  },
  {
   "cell_type": "code",
   "execution_count": 19,
   "id": "5fd5d9e2",
   "metadata": {},
   "outputs": [
    {
     "data": {
      "text/plain": [
       "1"
      ]
     },
     "execution_count": 19,
     "metadata": {},
     "output_type": "execute_result"
    }
   ],
   "source": [
    "var1[0]"
   ]
  },
  {
   "cell_type": "code",
   "execution_count": 20,
   "id": "0a64a4ee",
   "metadata": {},
   "outputs": [
    {
     "ename": "TypeError",
     "evalue": "unhashable type: 'list'",
     "output_type": "error",
     "traceback": [
      "\u001b[1;31m---------------------------------------------------------------------------\u001b[0m",
      "\u001b[1;31mTypeError\u001b[0m                                 Traceback (most recent call last)",
      "Input \u001b[1;32mIn [20]\u001b[0m, in \u001b[0;36m<cell line: 2>\u001b[1;34m()\u001b[0m\n\u001b[0;32m      1\u001b[0m L\u001b[38;5;241m=\u001b[39m[\u001b[38;5;241m1\u001b[39m,\u001b[38;5;241m2\u001b[39m,]\n\u001b[1;32m----> 2\u001b[0m var\u001b[38;5;241m=\u001b[39m{L, \u001b[38;5;124m\"\u001b[39m\u001b[38;5;124mthree\u001b[39m\u001b[38;5;124m\"\u001b[39m}\n",
      "\u001b[1;31mTypeError\u001b[0m: unhashable type: 'list'"
     ]
    }
   ],
   "source": [
    "L=[1,2,]\n",
    "var={L, \"three\"}"
   ]
  },
  {
   "cell_type": "code",
   "execution_count": 21,
   "id": "0dbf4308",
   "metadata": {},
   "outputs": [],
   "source": [
    "L=(1,2,)\n",
    "var={L, \"three\"}"
   ]
  },
  {
   "cell_type": "code",
   "execution_count": 22,
   "id": "3e1078fb",
   "metadata": {},
   "outputs": [
    {
     "name": "stdout",
     "output_type": "stream",
     "text": [
      "{'three', (1, 2)}\n"
     ]
    }
   ],
   "source": [
    "print(var)"
   ]
  },
  {
   "cell_type": "code",
   "execution_count": 24,
   "id": "e1c338b5",
   "metadata": {},
   "outputs": [
    {
     "name": "stdout",
     "output_type": "stream",
     "text": [
      "{'Park': '010-1234-5678', 'Kim': '010-1111-2222'}\n"
     ]
    }
   ],
   "source": [
    "d=dict()\n",
    "d['Park']='010-1234-5678'\n",
    "d['Kim']='010-1111-2222'\n",
    "print(d)"
   ]
  },
  {
   "cell_type": "code",
   "execution_count": 25,
   "id": "124b9242",
   "metadata": {},
   "outputs": [
    {
     "name": "stdout",
     "output_type": "stream",
     "text": [
      "100\n"
     ]
    }
   ],
   "source": [
    "scores={\"Park\":100, \"Kim\":90, \"Moon\":80}\n",
    "result=scores.get(\"Park\")\n",
    "print(result)"
   ]
  },
  {
   "cell_type": "code",
   "execution_count": 26,
   "id": "934adec4",
   "metadata": {},
   "outputs": [
    {
     "name": "stdout",
     "output_type": "stream",
     "text": [
      "{'Park': 100, 'Kim': 90, 'Moon': 80}\n"
     ]
    }
   ],
   "source": [
    "print(scores)"
   ]
  },
  {
   "cell_type": "code",
   "execution_count": 27,
   "id": "7bfcaf06",
   "metadata": {},
   "outputs": [
    {
     "name": "stdout",
     "output_type": "stream",
     "text": [
      "{'Park': 100, 'Kim': 0}\n"
     ]
    }
   ],
   "source": [
    "L=[1,2,3,4,5]\n",
    "D={\"Park\":100, \"Kim\":0}\n",
    "print(D)"
   ]
  },
  {
   "cell_type": "code",
   "execution_count": 28,
   "id": "7c3ee6c2",
   "metadata": {},
   "outputs": [
    {
     "name": "stdout",
     "output_type": "stream",
     "text": [
      "[1, 'Park', 'Kim', 5]\n"
     ]
    }
   ],
   "source": [
    "L[1:-1]=D\n",
    "print(L)"
   ]
  },
  {
   "cell_type": "code",
   "execution_count": 29,
   "id": "1b332c49",
   "metadata": {},
   "outputs": [
    {
     "ename": "TypeError",
     "evalue": "'str' object does not support item assignment",
     "output_type": "error",
     "traceback": [
      "\u001b[1;31m---------------------------------------------------------------------------\u001b[0m",
      "\u001b[1;31mTypeError\u001b[0m                                 Traceback (most recent call last)",
      "Input \u001b[1;32mIn [29]\u001b[0m, in \u001b[0;36m<cell line: 2>\u001b[1;34m()\u001b[0m\n\u001b[0;32m      1\u001b[0m A\u001b[38;5;241m=\u001b[39m\u001b[38;5;124m\"\u001b[39m\u001b[38;5;124mHello\u001b[39m\u001b[38;5;124m\"\u001b[39m\n\u001b[1;32m----> 2\u001b[0m A[\u001b[38;5;241m0\u001b[39m]\u001b[38;5;241m=\u001b[39mA[\u001b[38;5;241m0\u001b[39m]\u001b[38;5;241m.\u001b[39mlower()\n\u001b[0;32m      3\u001b[0m \u001b[38;5;28mprint\u001b[39m(A)\n",
      "\u001b[1;31mTypeError\u001b[0m: 'str' object does not support item assignment"
     ]
    }
   ],
   "source": [
    "A=\"Hello\"\n",
    "A[0]=A[0].lower()\n",
    "print(A)"
   ]
  },
  {
   "cell_type": "code",
   "execution_count": 31,
   "id": "b7198309",
   "metadata": {},
   "outputs": [
    {
     "name": "stdout",
     "output_type": "stream",
     "text": [
      "True\n",
      "True\n"
     ]
    }
   ],
   "source": [
    "a=2\n",
    "b=2\n",
    "print(a is b)\n",
    "print(a==b)"
   ]
  },
  {
   "cell_type": "code",
   "execution_count": 32,
   "id": "57fc9f10",
   "metadata": {},
   "outputs": [
    {
     "name": "stdout",
     "output_type": "stream",
     "text": [
      "True\n",
      "True\n"
     ]
    }
   ],
   "source": [
    "a=\"Hello\"\n",
    "b=\"Hello\"\n",
    "print(a is b)\n",
    "print(a==b)"
   ]
  },
  {
   "cell_type": "code",
   "execution_count": 33,
   "id": "97962840",
   "metadata": {},
   "outputs": [
    {
     "name": "stdout",
     "output_type": "stream",
     "text": [
      "True\n",
      "True\n"
     ]
    }
   ],
   "source": [
    "a=\"Hello\"\n",
    "b=a\n",
    "print(a is b)\n",
    "print(a==b)"
   ]
  },
  {
   "cell_type": "code",
   "execution_count": 34,
   "id": "9cfa1812",
   "metadata": {},
   "outputs": [
    {
     "name": "stdout",
     "output_type": "stream",
     "text": [
      "False True\n"
     ]
    }
   ],
   "source": [
    "a=[1,2,3,4]\n",
    "b=a[:]\n",
    "print(a is b, a==b)"
   ]
  },
  {
   "cell_type": "code",
   "execution_count": 36,
   "id": "dc64b7b7",
   "metadata": {},
   "outputs": [
    {
     "name": "stdout",
     "output_type": "stream",
     "text": [
      "False True\n"
     ]
    }
   ],
   "source": [
    "a=[1,2,3,4]\n",
    "b=a.copy()\n",
    "print(a is b, a==b)"
   ]
  },
  {
   "cell_type": "code",
   "execution_count": 37,
   "id": "7946fcbf",
   "metadata": {},
   "outputs": [
    {
     "name": "stdout",
     "output_type": "stream",
     "text": [
      "True True\n"
     ]
    }
   ],
   "source": [
    "a=[1,2,3,4]\n",
    "b=a\n",
    "print(a is b, a==b)"
   ]
  },
  {
   "cell_type": "code",
   "execution_count": 38,
   "id": "0a089a0e",
   "metadata": {},
   "outputs": [
    {
     "name": "stdout",
     "output_type": "stream",
     "text": [
      "['AKMU', 'aespa', 'STAYC', 'EXO', 'Younha']\n"
     ]
    }
   ],
   "source": [
    "students=['AKMU', \"NewJeans\", \"IVE\", \"Younha\"]\n",
    "students[1:-1]=[\"aespa\", \"STAYC\", \"EXO\"]\n",
    "print(students)"
   ]
  },
  {
   "cell_type": "code",
   "execution_count": 39,
   "id": "b3cab829",
   "metadata": {},
   "outputs": [
    {
     "ename": "TypeError",
     "evalue": "'tuple' object does not support item assignment",
     "output_type": "error",
     "traceback": [
      "\u001b[1;31m---------------------------------------------------------------------------\u001b[0m",
      "\u001b[1;31mTypeError\u001b[0m                                 Traceback (most recent call last)",
      "Input \u001b[1;32mIn [39]\u001b[0m, in \u001b[0;36m<cell line: 2>\u001b[1;34m()\u001b[0m\n\u001b[0;32m      1\u001b[0m var\u001b[38;5;241m=\u001b[39m(\u001b[38;5;241m1\u001b[39m,\u001b[38;5;241m2\u001b[39m,\u001b[38;5;124m\"\u001b[39m\u001b[38;5;124mThree\u001b[39m\u001b[38;5;124m\"\u001b[39m)\n\u001b[1;32m----> 2\u001b[0m var[\u001b[38;5;241m-\u001b[39m\u001b[38;5;241m1\u001b[39m]\u001b[38;5;241m=\u001b[39mvar[:]\n\u001b[0;32m      3\u001b[0m \u001b[38;5;28mprint\u001b[39m(var)\n",
      "\u001b[1;31mTypeError\u001b[0m: 'tuple' object does not support item assignment"
     ]
    }
   ],
   "source": [
    "var=(1,2,\"Three\")\n",
    "var[-1]=var[:]\n",
    "print(var)"
   ]
  },
  {
   "cell_type": "code",
   "execution_count": 40,
   "id": "e7b500e0",
   "metadata": {},
   "outputs": [
    {
     "name": "stdout",
     "output_type": "stream",
     "text": [
      "3\n"
     ]
    }
   ],
   "source": [
    "d={}\n",
    "d['Park']='100'\n",
    "length=len(d['Park'])\n",
    "print(length)"
   ]
  },
  {
   "cell_type": "code",
   "execution_count": 43,
   "id": "24002b77",
   "metadata": {},
   "outputs": [
    {
     "name": "stdout",
     "output_type": "stream",
     "text": [
      "101\n"
     ]
    }
   ],
   "source": [
    "score={\"kim\":80}\n",
    "score[(\"Park\", \"lee\")]=100\n",
    "print(score[\"Park\", \"lee\"]+1)"
   ]
  },
  {
   "cell_type": "code",
   "execution_count": 42,
   "id": "b09e4e82",
   "metadata": {},
   "outputs": [
    {
     "ename": "TypeError",
     "evalue": "'str' object does not support item assignment",
     "output_type": "error",
     "traceback": [
      "\u001b[1;31m---------------------------------------------------------------------------\u001b[0m",
      "\u001b[1;31mTypeError\u001b[0m                                 Traceback (most recent call last)",
      "Input \u001b[1;32mIn [42]\u001b[0m, in \u001b[0;36m<cell line: 3>\u001b[1;34m()\u001b[0m\n\u001b[0;32m      1\u001b[0m S\u001b[38;5;241m=\u001b[39m\u001b[38;5;124m\"\u001b[39m\u001b[38;5;124mHello\u001b[39m\u001b[38;5;124m\"\u001b[39m\n\u001b[0;32m      2\u001b[0m L\u001b[38;5;241m=\u001b[39m[\u001b[38;5;124m\"\u001b[39m\u001b[38;5;124mH\u001b[39m\u001b[38;5;124m\"\u001b[39m,\u001b[38;5;124m\"\u001b[39m\u001b[38;5;124me\u001b[39m\u001b[38;5;124m\"\u001b[39m,\u001b[38;5;124m\"\u001b[39m\u001b[38;5;124ml\u001b[39m\u001b[38;5;124m\"\u001b[39m, \u001b[38;5;124m\"\u001b[39m\u001b[38;5;124ml\u001b[39m\u001b[38;5;124m\"\u001b[39m,\u001b[38;5;124m\"\u001b[39m\u001b[38;5;124mo\u001b[39m\u001b[38;5;124m\"\u001b[39m,S]\n\u001b[1;32m----> 3\u001b[0m S[\u001b[38;5;241m-\u001b[39m\u001b[38;5;241m1\u001b[39m]\u001b[38;5;241m=\u001b[39mL[\u001b[38;5;241m-\u001b[39m\u001b[38;5;241m2\u001b[39m]\n\u001b[0;32m      4\u001b[0m \u001b[38;5;28mprint\u001b[39m(S)\n",
      "\u001b[1;31mTypeError\u001b[0m: 'str' object does not support item assignment"
     ]
    }
   ],
   "source": [
    "S=\"Hello\"\n",
    "L=[\"H\",\"e\",\"l\", \"l\",\"o\",S]\n",
    "S[-1]=L[-2]\n",
    "print(S)"
   ]
  },
  {
   "cell_type": "code",
   "execution_count": 44,
   "id": "17389ccc",
   "metadata": {},
   "outputs": [
    {
     "ename": "TypeError",
     "evalue": "'tuple' object does not support item assignment",
     "output_type": "error",
     "traceback": [
      "\u001b[1;31m---------------------------------------------------------------------------\u001b[0m",
      "\u001b[1;31mTypeError\u001b[0m                                 Traceback (most recent call last)",
      "Input \u001b[1;32mIn [44]\u001b[0m, in \u001b[0;36m<cell line: 2>\u001b[1;34m()\u001b[0m\n\u001b[0;32m      1\u001b[0m var\u001b[38;5;241m=\u001b[39m(\u001b[38;5;241m1\u001b[39m,\u001b[38;5;241m2\u001b[39m,\u001b[38;5;124m\"\u001b[39m\u001b[38;5;124mthree\u001b[39m\u001b[38;5;124m\"\u001b[39m)\n\u001b[1;32m----> 2\u001b[0m var[\u001b[38;5;241m-\u001b[39m\u001b[38;5;241m1\u001b[39m]\u001b[38;5;241m=\u001b[39mvar[:]\n\u001b[0;32m      3\u001b[0m \u001b[38;5;28mprint\u001b[39m(var)\n",
      "\u001b[1;31mTypeError\u001b[0m: 'tuple' object does not support item assignment"
     ]
    }
   ],
   "source": [
    "var=(1,2,\"three\")\n",
    "var[-1]=var[:]\n",
    "print(var)"
   ]
  },
  {
   "cell_type": "code",
   "execution_count": 1,
   "id": "91f6abaf",
   "metadata": {},
   "outputs": [],
   "source": [
    "L=[1,2]\n",
    "S1={3,4,}"
   ]
  },
  {
   "cell_type": "code",
   "execution_count": 2,
   "id": "6aa0ddca",
   "metadata": {},
   "outputs": [
    {
     "name": "stdout",
     "output_type": "stream",
     "text": [
      "True\n"
     ]
    }
   ],
   "source": [
    "print(True or True)"
   ]
  },
  {
   "cell_type": "code",
   "execution_count": 3,
   "id": "7bdc3b47",
   "metadata": {},
   "outputs": [
    {
     "name": "stdout",
     "output_type": "stream",
     "text": [
      "True\n"
     ]
    }
   ],
   "source": [
    "print(True or 1)"
   ]
  },
  {
   "cell_type": "code",
   "execution_count": 4,
   "id": "c16a3f89",
   "metadata": {},
   "outputs": [
    {
     "name": "stdout",
     "output_type": "stream",
     "text": [
      "1\n"
     ]
    }
   ],
   "source": [
    "print(1 or True)"
   ]
  },
  {
   "cell_type": "code",
   "execution_count": 5,
   "id": "5da0ba63",
   "metadata": {},
   "outputs": [
    {
     "name": "stdout",
     "output_type": "stream",
     "text": [
      "False\n"
     ]
    }
   ],
   "source": [
    "print(False and True)"
   ]
  },
  {
   "cell_type": "code",
   "execution_count": 6,
   "id": "695ea61f",
   "metadata": {},
   "outputs": [
    {
     "name": "stdout",
     "output_type": "stream",
     "text": [
      "0\n"
     ]
    }
   ],
   "source": [
    "print(0 and False)"
   ]
  },
  {
   "cell_type": "code",
   "execution_count": 7,
   "id": "05ae7592",
   "metadata": {},
   "outputs": [
    {
     "ename": "KeyError",
     "evalue": "'Park'",
     "output_type": "error",
     "traceback": [
      "\u001b[1;31m---------------------------------------------------------------------------\u001b[0m",
      "\u001b[1;31mKeyError\u001b[0m                                  Traceback (most recent call last)",
      "Input \u001b[1;32mIn [7]\u001b[0m, in \u001b[0;36m<cell line: 5>\u001b[1;34m()\u001b[0m\n\u001b[0;32m      3\u001b[0m team1\u001b[38;5;241m=\u001b[39m(student1,)\n\u001b[0;32m      4\u001b[0m score[team1]\u001b[38;5;241m=\u001b[39m\u001b[38;5;241m100\u001b[39m\n\u001b[1;32m----> 5\u001b[0m \u001b[38;5;28mprint\u001b[39m(\u001b[43mscore\u001b[49m\u001b[43m[\u001b[49m\u001b[43mstudent1\u001b[49m\u001b[43m]\u001b[49m\u001b[38;5;241m==\u001b[39m\u001b[38;5;241m0\u001b[39m)\n",
      "\u001b[1;31mKeyError\u001b[0m: 'Park'"
     ]
    }
   ],
   "source": [
    "score=dict()\n",
    "student1=\"Park\"\n",
    "team1=(student1,)\n",
    "score[team1]=100\n",
    "print(score[student1]==0)"
   ]
  },
  {
   "cell_type": "code",
   "execution_count": 9,
   "id": "0f43d36e",
   "metadata": {},
   "outputs": [
    {
     "name": "stdout",
     "output_type": "stream",
     "text": [
      "[1, 2, {'Park': 50, 'Kim': 100}]\n"
     ]
    }
   ],
   "source": [
    "L1=[1,2,{\"Park\":50}]\n",
    "L2=L1.copy()\n",
    "L1[-1][\"Kim\"]=100\n",
    "print(L2)"
   ]
  },
  {
   "cell_type": "code",
   "execution_count": 10,
   "id": "23f66773",
   "metadata": {},
   "outputs": [
    {
     "name": "stdout",
     "output_type": "stream",
     "text": [
      "None\n"
     ]
    }
   ],
   "source": [
    "def plus(a,b):\n",
    "    c=a+b\n",
    "result=plus(1,2)\n",
    "print(result)"
   ]
  },
  {
   "cell_type": "code",
   "execution_count": 11,
   "id": "427a667a",
   "metadata": {},
   "outputs": [
    {
     "ename": "TypeError",
     "evalue": "unsupported operand type(s) for +: 'int' and 'str'",
     "output_type": "error",
     "traceback": [
      "\u001b[1;31m---------------------------------------------------------------------------\u001b[0m",
      "\u001b[1;31mTypeError\u001b[0m                                 Traceback (most recent call last)",
      "Input \u001b[1;32mIn [11]\u001b[0m, in \u001b[0;36m<cell line: 4>\u001b[1;34m()\u001b[0m\n\u001b[0;32m      2\u001b[0m     n\u001b[38;5;241m=\u001b[39ma\u001b[38;5;241m+\u001b[39mb\u001b[38;5;241m+\u001b[39mc\n\u001b[0;32m      3\u001b[0m     \u001b[38;5;28;01mreturn\u001b[39;00m \u001b[38;5;28;01mNone\u001b[39;00m\n\u001b[1;32m----> 4\u001b[0m result\u001b[38;5;241m=\u001b[39m\u001b[43mplus\u001b[49m\u001b[43m(\u001b[49m\u001b[38;5;241;43m1\u001b[39;49m\u001b[43m,\u001b[49m\u001b[38;5;241;43m2\u001b[39;49m\u001b[43m,\u001b[49m\u001b[38;5;124;43m\"\u001b[39;49m\u001b[38;5;124;43m3\u001b[39;49m\u001b[38;5;124;43m\"\u001b[39;49m\u001b[43m)\u001b[49m\n\u001b[0;32m      5\u001b[0m \u001b[38;5;28mprint\u001b[39m(result)\n",
      "Input \u001b[1;32mIn [11]\u001b[0m, in \u001b[0;36mplus\u001b[1;34m(a, b, c)\u001b[0m\n\u001b[0;32m      1\u001b[0m \u001b[38;5;28;01mdef\u001b[39;00m \u001b[38;5;21mplus\u001b[39m(a,b,c):\n\u001b[1;32m----> 2\u001b[0m     n\u001b[38;5;241m=\u001b[39m\u001b[43ma\u001b[49m\u001b[38;5;241;43m+\u001b[39;49m\u001b[43mb\u001b[49m\u001b[38;5;241;43m+\u001b[39;49m\u001b[43mc\u001b[49m\n\u001b[0;32m      3\u001b[0m     \u001b[38;5;28;01mreturn\u001b[39;00m \u001b[38;5;28;01mNone\u001b[39;00m\n",
      "\u001b[1;31mTypeError\u001b[0m: unsupported operand type(s) for +: 'int' and 'str'"
     ]
    }
   ],
   "source": [
    "def plus(a,b,c):\n",
    "    n=a+b+c\n",
    "    return None\n",
    "result=plus(1,2,\"3\")\n",
    "print(result)"
   ]
  },
  {
   "cell_type": "code",
   "execution_count": 12,
   "id": "4b25e9fd",
   "metadata": {},
   "outputs": [
    {
     "name": "stdout",
     "output_type": "stream",
     "text": [
      "2 <class 'tuple'>\n"
     ]
    }
   ],
   "source": [
    "def calculation(n):\n",
    "    n1=n+1\n",
    "    n2=n+2\n",
    "    return n1, n2\n",
    "var=calculation(0)\n",
    "print(len(var), type(var))"
   ]
  },
  {
   "cell_type": "code",
   "execution_count": 13,
   "id": "2743081b",
   "metadata": {},
   "outputs": [
    {
     "name": "stdout",
     "output_type": "stream",
     "text": [
      "None\n"
     ]
    }
   ],
   "source": [
    "def test(n: int)->int:\n",
    "    return\n",
    "print(test(\"Park\"))"
   ]
  },
  {
   "cell_type": "code",
   "execution_count": 14,
   "id": "df503c18",
   "metadata": {},
   "outputs": [
    {
     "name": "stdout",
     "output_type": "stream",
     "text": [
      "1\n",
      "2\n",
      "(3, 4, 5)\n"
     ]
    }
   ],
   "source": [
    "def func(first, second, *args):\n",
    "    print(first)\n",
    "    print(second)\n",
    "    print(args)\n",
    "\n",
    "func(1,2,3,4,5)"
   ]
  },
  {
   "cell_type": "code",
   "execution_count": 15,
   "id": "bcb940ac",
   "metadata": {},
   "outputs": [
    {
     "name": "stdout",
     "output_type": "stream",
     "text": [
      "3\n"
     ]
    }
   ],
   "source": [
    "a=(1,2,3,)\n",
    "print(len(a))"
   ]
  },
  {
   "cell_type": "code",
   "execution_count": 16,
   "id": "dbc19a0b",
   "metadata": {},
   "outputs": [
    {
     "name": "stdout",
     "output_type": "stream",
     "text": [
      "3\n"
     ]
    }
   ],
   "source": [
    "a=(1,2,3)\n",
    "print(len(a))"
   ]
  },
  {
   "cell_type": "code",
   "execution_count": 19,
   "id": "4311a997",
   "metadata": {},
   "outputs": [],
   "source": [
    "def multiply(*args):\n",
    "    result=1\n",
    "    for num in args:\n",
    "        result*=num\n",
    "    print(result)"
   ]
  },
  {
   "cell_type": "code",
   "execution_count": 20,
   "id": "cf2d0599",
   "metadata": {},
   "outputs": [
    {
     "name": "stdout",
     "output_type": "stream",
     "text": [
      "24\n"
     ]
    }
   ],
   "source": [
    "multiply(1,2,3,4)"
   ]
  },
  {
   "cell_type": "code",
   "execution_count": 21,
   "id": "48548290",
   "metadata": {},
   "outputs": [],
   "source": [
    "def func(msg,**kwargs):\n",
    "    print(msg)\n",
    "    print(kwargs)"
   ]
  },
  {
   "cell_type": "code",
   "execution_count": 22,
   "id": "7843a7bb",
   "metadata": {},
   "outputs": [
    {
     "name": "stdout",
     "output_type": "stream",
     "text": [
      "Hi\n",
      "{'name': 'Park', 'age': 20}\n"
     ]
    }
   ],
   "source": [
    "func(\"Hi\", name=\"Park\", age=20)"
   ]
  },
  {
   "cell_type": "code",
   "execution_count": 23,
   "id": "e87c8d8a",
   "metadata": {},
   "outputs": [
    {
     "name": "stdout",
     "output_type": "stream",
     "text": [
      "1\n",
      "(2, 3)\n",
      "{'name': 'Park'}\n"
     ]
    }
   ],
   "source": [
    "def func(a,*b,**c):\n",
    "    print(a)\n",
    "    print(b)\n",
    "    print(c)\n",
    "\n",
    "func(1,2,3,name='Park')"
   ]
  },
  {
   "cell_type": "code",
   "execution_count": 24,
   "id": "b7155002",
   "metadata": {},
   "outputs": [
    {
     "name": "stdout",
     "output_type": "stream",
     "text": [
      "name is Python.\n",
      "name is Python.\n",
      "professor is Park.\n",
      "name is Python.\n",
      "professor is Park.\n",
      "students is 180.\n"
     ]
    }
   ],
   "source": [
    "def course_info(**course):\n",
    "    for key, value in course.items():\n",
    "        print(f\"{key} is {value}.\")\n",
    "course_info(name=\"Python\")\n",
    "course_info(name=\"Python\", professor=\"Park\")\n",
    "course_info(name=\"Python\", professor=\"Park\", students=180)"
   ]
  },
  {
   "cell_type": "code",
   "execution_count": 25,
   "id": "0ed52d81",
   "metadata": {},
   "outputs": [
    {
     "name": "stdout",
     "output_type": "stream",
     "text": [
      "[1, 4, 5, 2, 3]\n"
     ]
    }
   ],
   "source": [
    "L=[1,2,3]\n",
    "L[1:1]=[4,5]\n",
    "print(L)"
   ]
  },
  {
   "cell_type": "code",
   "execution_count": null,
   "id": "25c994d4",
   "metadata": {},
   "outputs": [],
   "source": [
    "def test(a:list)->None:\n",
    "    for i in a:\n",
    "        a.append(1)\n",
    "    return None\n",
    "print(test([1,1,1]))"
   ]
  },
  {
   "cell_type": "code",
   "execution_count": 2,
   "id": "14d8c0c8",
   "metadata": {},
   "outputs": [
    {
     "name": "stdout",
     "output_type": "stream",
     "text": [
      "15\n"
     ]
    }
   ],
   "source": [
    "def function1(value):\n",
    "    total=0\n",
    "    for i in value:\n",
    "        total+=i\n",
    "    return total\n",
    "\n",
    "L=[1,2,3,4,5]\n",
    "result=function1(L)\n",
    "print(result)"
   ]
  },
  {
   "cell_type": "code",
   "execution_count": 3,
   "id": "121804eb",
   "metadata": {},
   "outputs": [
    {
     "name": "stdout",
     "output_type": "stream",
     "text": [
      "6\n"
     ]
    }
   ],
   "source": [
    "def function2(value):\n",
    "    total=0\n",
    "    for i in value:\n",
    "        if i%2==0:\n",
    "            total+=i\n",
    "    return total\n",
    "    \n",
    "L=[1,2,3,4,5]\n",
    "result=function2(L)\n",
    "print(result)"
   ]
  },
  {
   "cell_type": "code",
   "execution_count": 5,
   "id": "0a05b9ff",
   "metadata": {},
   "outputs": [
    {
     "name": "stdout",
     "output_type": "stream",
     "text": [
      "9\n"
     ]
    }
   ],
   "source": [
    "def function3(value):\n",
    "    for i in value:\n",
    "        total=0\n",
    "        if len(value)>=2:\n",
    "            answer=value[-1]+value[-2]\n",
    "            return answer\n",
    "        else:\n",
    "            return -1\n",
    "    \n",
    "\n",
    "L=[1,2,3,4,5]\n",
    "result=function3(L)\n",
    "print(result)"
   ]
  },
  {
   "cell_type": "code",
   "execution_count": 1,
   "id": "3f222404",
   "metadata": {},
   "outputs": [
    {
     "name": "stdout",
     "output_type": "stream",
     "text": [
      "HelloWorld\n"
     ]
    }
   ],
   "source": [
    "s=\"Hello\"\n",
    "s=s+\"World\"\n",
    "print(s)"
   ]
  },
  {
   "cell_type": "code",
   "execution_count": 2,
   "id": "0ec5c0fb",
   "metadata": {},
   "outputs": [
    {
     "name": "stdout",
     "output_type": "stream",
     "text": [
      "0\n"
     ]
    }
   ],
   "source": [
    "length=len(s[-5:0])\n",
    "print(length)"
   ]
  },
  {
   "cell_type": "code",
   "execution_count": 3,
   "id": "74b3c4d5",
   "metadata": {},
   "outputs": [
    {
     "name": "stdout",
     "output_type": "stream",
     "text": [
      "5\n"
     ]
    }
   ],
   "source": [
    "length=len(s[0:-5])\n",
    "print(length)"
   ]
  },
  {
   "cell_type": "code",
   "execution_count": 4,
   "id": "b564be88",
   "metadata": {},
   "outputs": [
    {
     "name": "stdout",
     "output_type": "stream",
     "text": [
      "Hello\n"
     ]
    }
   ],
   "source": [
    "why=s[0:-5]\n",
    "print(why)"
   ]
  },
  {
   "cell_type": "code",
   "execution_count": 5,
   "id": "7b3d9736",
   "metadata": {},
   "outputs": [
    {
     "name": "stdout",
     "output_type": "stream",
     "text": [
      "\n"
     ]
    }
   ],
   "source": [
    "print(s[-4:-7])"
   ]
  },
  {
   "cell_type": "code",
   "execution_count": 6,
   "id": "7ceecc41",
   "metadata": {},
   "outputs": [
    {
     "name": "stdout",
     "output_type": "stream",
     "text": [
      "loW\n"
     ]
    }
   ],
   "source": [
    "print(s[-7:-4])"
   ]
  },
  {
   "cell_type": "code",
   "execution_count": 7,
   "id": "694848ea",
   "metadata": {},
   "outputs": [
    {
     "data": {
      "text/plain": [
       "1"
      ]
     },
     "execution_count": 7,
     "metadata": {},
     "output_type": "execute_result"
    }
   ],
   "source": [
    "len([None])"
   ]
  },
  {
   "cell_type": "code",
   "execution_count": 8,
   "id": "55bd7812",
   "metadata": {},
   "outputs": [
    {
     "name": "stdout",
     "output_type": "stream",
     "text": [
      "None\n"
     ]
    }
   ],
   "source": [
    "def test(n:int)->int:\n",
    "    return\n",
    "print(test(\"Park\"))"
   ]
  },
  {
   "cell_type": "code",
   "execution_count": 9,
   "id": "7eebfe93",
   "metadata": {},
   "outputs": [
    {
     "name": "stdout",
     "output_type": "stream",
     "text": [
      "1\n"
     ]
    }
   ],
   "source": [
    "def func(a,b,*c):\n",
    "    if c:\n",
    "        return c\n",
    "    else:\n",
    "        return a\n",
    "    return b\n",
    "result=func(1,2)\n",
    "print(result)"
   ]
  },
  {
   "cell_type": "code",
   "execution_count": 11,
   "id": "804dbd7e",
   "metadata": {},
   "outputs": [
    {
     "name": "stdout",
     "output_type": "stream",
     "text": [
      "((1,), 2)\n"
     ]
    }
   ],
   "source": [
    "def func(*a,b):\n",
    "    return a,b\n",
    "print(func(1,b=2))"
   ]
  },
  {
   "cell_type": "code",
   "execution_count": null,
   "id": "740c7ed2",
   "metadata": {},
   "outputs": [],
   "source": [
    "def test(a:list)->None:\n",
    "    for i in a:\n",
    "        a.append(1)\n",
    "    return None\n",
    "print(test([1,1,1]))"
   ]
  },
  {
   "cell_type": "code",
   "execution_count": null,
   "id": "1025f75e",
   "metadata": {},
   "outputs": [],
   "source": []
  }
 ],
 "metadata": {
  "kernelspec": {
   "display_name": "Python 3 (ipykernel)",
   "language": "python",
   "name": "python3"
  },
  "language_info": {
   "codemirror_mode": {
    "name": "ipython",
    "version": 3
   },
   "file_extension": ".py",
   "mimetype": "text/x-python",
   "name": "python",
   "nbconvert_exporter": "python",
   "pygments_lexer": "ipython3",
   "version": "3.9.12"
  }
 },
 "nbformat": 4,
 "nbformat_minor": 5
}
