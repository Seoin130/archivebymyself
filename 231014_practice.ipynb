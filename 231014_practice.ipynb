{
 "cells": [
  {
   "cell_type": "code",
   "execution_count": 1,
   "id": "e0834fbe",
   "metadata": {},
   "outputs": [
    {
     "name": "stdout",
     "output_type": "stream",
     "text": [
      "n is not 1 anymore.\n",
      "n is 2 from now.\n",
      "2\n"
     ]
    }
   ],
   "source": [
    "def plus_one(n):\n",
    "    print(f\"n is not {n} anymore.\")\n",
    "    n+=1\n",
    "    print(f\"n is {n} from now.\")\n",
    "    return n\n",
    "result=plus_one(1)\n",
    "print(result)"
   ]
  },
  {
   "cell_type": "code",
   "execution_count": 2,
   "id": "dba5551f",
   "metadata": {},
   "outputs": [
    {
     "name": "stdout",
     "output_type": "stream",
     "text": [
      "1 plus 2 is 3\n",
      "3\n"
     ]
    }
   ],
   "source": [
    "def plus(a,b):\n",
    "    print(f\"{a} plus {b} is {a+b}\")\n",
    "    return a+b\n",
    "result=plus(1,2)\n",
    "print(result)"
   ]
  },
  {
   "cell_type": "code",
   "execution_count": 3,
   "id": "ef589032",
   "metadata": {},
   "outputs": [
    {
     "name": "stdout",
     "output_type": "stream",
     "text": [
      "1 plus 2 is 3\n",
      "None\n"
     ]
    }
   ],
   "source": [
    "def plus(a,b):\n",
    "    print(f\"{a} plus {b} is {a+b}\")\n",
    "\n",
    "result=plus(1,2)\n",
    "print(result)"
   ]
  },
  {
   "cell_type": "code",
   "execution_count": 4,
   "id": "eb8b808f",
   "metadata": {},
   "outputs": [
    {
     "name": "stdout",
     "output_type": "stream",
     "text": [
      "3 -1\n"
     ]
    }
   ],
   "source": [
    "def operations(a,b):\n",
    "    plus=a+b\n",
    "    minus=a-b\n",
    "    return plus, minus\n",
    "var1, var2=operations(1,2)\n",
    "print(var1, var2)"
   ]
  },
  {
   "cell_type": "code",
   "execution_count": 1,
   "id": "56d3d379",
   "metadata": {},
   "outputs": [
    {
     "name": "stdout",
     "output_type": "stream",
     "text": [
      "15\n"
     ]
    }
   ],
   "source": [
    "def function1(value):\n",
    "    sum=0\n",
    "    for n in value:\n",
    "        sum+=n\n",
    "    return sum\n",
    "\n",
    "L=[1,2,3,4,5]\n",
    "result=function1(L)\n",
    "print(result)"
   ]
  },
  {
   "cell_type": "code",
   "execution_count": 6,
   "id": "9a8b332c",
   "metadata": {},
   "outputs": [
    {
     "name": "stdout",
     "output_type": "stream",
     "text": [
      "2\n"
     ]
    }
   ],
   "source": [
    "def function2(value):\n",
    "    sum=0\n",
    "    for n in value:\n",
    "        if n%2==0:\n",
    "            sum+=n\n",
    "            return sum\n",
    "\n",
    "L=[1,2,3,4,5]\n",
    "result=function2(L)\n",
    "print(result)"
   ]
  },
  {
   "cell_type": "code",
   "execution_count": 17,
   "id": "acfbd0ac",
   "metadata": {},
   "outputs": [
    {
     "name": "stdout",
     "output_type": "stream",
     "text": [
      "5\n"
     ]
    }
   ],
   "source": [
    "def function2(value):\n",
    "    for n in value:\n",
    "        sum=0\n",
    "        sum+=n\n",
    "    return sum\n",
    "        \n",
    "L=[1,2,3,4,5]\n",
    "result=function2(L)\n",
    "print(result)"
   ]
  },
  {
   "cell_type": "code",
   "execution_count": 26,
   "id": "29d3b08c",
   "metadata": {},
   "outputs": [
    {
     "name": "stdout",
     "output_type": "stream",
     "text": [
      "3\n",
      "*\n",
      "**\n",
      "***\n"
     ]
    }
   ],
   "source": [
    "N=int(input())\n",
    "for i in range(N):\n",
    "    print(\"*\"*(i+1))"
   ]
  },
  {
   "cell_type": "code",
   "execution_count": 28,
   "id": "db99604c",
   "metadata": {},
   "outputs": [
    {
     "name": "stdout",
     "output_type": "stream",
     "text": [
      "3\n",
      "***\n",
      "**\n",
      "*\n"
     ]
    }
   ],
   "source": [
    "N=int(input())\n",
    "for i in range(N):\n",
    "    print(\"*\"*(N-i))"
   ]
  },
  {
   "cell_type": "code",
   "execution_count": null,
   "id": "a72e234c",
   "metadata": {},
   "outputs": [],
   "source": [
    "N=int(input())\n",
    "for i in range(N):\n",
    "    print(\" \"*(N-i)+\"*\")"
   ]
  }
 ],
 "metadata": {
  "kernelspec": {
   "display_name": "Python 3 (ipykernel)",
   "language": "python",
   "name": "python3"
  },
  "language_info": {
   "codemirror_mode": {
    "name": "ipython",
    "version": 3
   },
   "file_extension": ".py",
   "mimetype": "text/x-python",
   "name": "python",
   "nbconvert_exporter": "python",
   "pygments_lexer": "ipython3",
   "version": "3.9.12"
  }
 },
 "nbformat": 4,
 "nbformat_minor": 5
}
