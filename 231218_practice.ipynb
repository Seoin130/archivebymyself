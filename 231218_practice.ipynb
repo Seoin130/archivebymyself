{
 "cells": [
  {
   "cell_type": "code",
   "execution_count": 1,
   "id": "e2f3c84c",
   "metadata": {},
   "outputs": [],
   "source": [
    "def function01(L):\n",
    "    sum=0\n",
    "    for i in L:\n",
    "        if i%2==1:\n",
    "            sum+=i\n",
    "    return sum"
   ]
  },
  {
   "cell_type": "code",
   "execution_count": 2,
   "id": "ccca39f9",
   "metadata": {},
   "outputs": [
    {
     "data": {
      "text/plain": [
       "9"
      ]
     },
     "execution_count": 2,
     "metadata": {},
     "output_type": "execute_result"
    }
   ],
   "source": [
    "function01([1,2,3,4,5])"
   ]
  },
  {
   "cell_type": "code",
   "execution_count": 3,
   "id": "6b0fe5ee",
   "metadata": {},
   "outputs": [],
   "source": [
    "def function02(a) -> bool:\n",
    "    if a.lower()==a.lower()[::-1]:\n",
    "        return True"
   ]
  },
  {
   "cell_type": "code",
   "execution_count": 5,
   "id": "769c2c60",
   "metadata": {},
   "outputs": [
    {
     "data": {
      "text/plain": [
       "True"
      ]
     },
     "execution_count": 5,
     "metadata": {},
     "output_type": "execute_result"
    }
   ],
   "source": [
    "function02(\"level\")\n",
    "function02(\"Aa\")"
   ]
  },
  {
   "cell_type": "code",
   "execution_count": 6,
   "id": "90b62aaa",
   "metadata": {},
   "outputs": [],
   "source": [
    "def function03(*args):\n",
    "    sum=0\n",
    "    for i in args:\n",
    "        if i%2==0:\n",
    "            sum+=i\n",
    "        elif args==None:\n",
    "            return 0\n",
    "    return sum"
   ]
  },
  {
   "cell_type": "code",
   "execution_count": 7,
   "id": "70cbc15b",
   "metadata": {},
   "outputs": [
    {
     "data": {
      "text/plain": [
       "2"
      ]
     },
     "execution_count": 7,
     "metadata": {},
     "output_type": "execute_result"
    }
   ],
   "source": [
    "function03(1,2,3)"
   ]
  },
  {
   "cell_type": "code",
   "execution_count": 8,
   "id": "b0a80a6a",
   "metadata": {},
   "outputs": [
    {
     "data": {
      "text/plain": [
       "0"
      ]
     },
     "execution_count": 8,
     "metadata": {},
     "output_type": "execute_result"
    }
   ],
   "source": [
    "function03()"
   ]
  },
  {
   "cell_type": "code",
   "execution_count": 9,
   "id": "c31f6533",
   "metadata": {},
   "outputs": [
    {
     "data": {
      "text/plain": [
       "0"
      ]
     },
     "execution_count": 9,
     "metadata": {},
     "output_type": "execute_result"
    }
   ],
   "source": [
    "function03(1)"
   ]
  },
  {
   "cell_type": "code",
   "execution_count": 15,
   "id": "9c0baac7",
   "metadata": {},
   "outputs": [],
   "source": [
    "def function04(a,b):\n",
    "    try:\n",
    "        return a/b\n",
    "    except:\n",
    "        return None"
   ]
  },
  {
   "cell_type": "code",
   "execution_count": 16,
   "id": "fd18a0a9",
   "metadata": {},
   "outputs": [],
   "source": [
    "function04(1,\"10\")"
   ]
  },
  {
   "cell_type": "code",
   "execution_count": 17,
   "id": "b3082c7f",
   "metadata": {},
   "outputs": [
    {
     "data": {
      "text/plain": [
       "0.1"
      ]
     },
     "execution_count": 17,
     "metadata": {},
     "output_type": "execute_result"
    }
   ],
   "source": [
    "function04(1,10)"
   ]
  },
  {
   "cell_type": "code",
   "execution_count": 19,
   "id": "e0329a90",
   "metadata": {},
   "outputs": [],
   "source": [
    "function04(0,0)"
   ]
  },
  {
   "cell_type": "code",
   "execution_count": 20,
   "id": "84754879",
   "metadata": {},
   "outputs": [],
   "source": [
    "class Person:\n",
    "    name=\"Park\"\n",
    "    height=160\n",
    "    def change_name(self, name):\n",
    "        self.name=name\n",
    "    def change_height(self, height):\n",
    "        self.height=height"
   ]
  },
  {
   "cell_type": "code",
   "execution_count": 21,
   "id": "09b044b4",
   "metadata": {},
   "outputs": [
    {
     "name": "stdout",
     "output_type": "stream",
     "text": [
      "p.name:  Park\n",
      "p.height:  160\n",
      "p.name:  Kim\n",
      "p.height:  170\n"
     ]
    }
   ],
   "source": [
    "p=Person()\n",
    "print(\"p.name: \", p.name)\n",
    "print(\"p.height: \", p.height)\n",
    "p.change_name(\"Kim\")\n",
    "p.change_height(170)\n",
    "print(\"p.name: \", p.name)\n",
    "print(\"p.height: \", p.height)"
   ]
  },
  {
   "cell_type": "code",
   "execution_count": 24,
   "id": "7d52639b",
   "metadata": {},
   "outputs": [],
   "source": [
    "class Animal:\n",
    "    def cry(self):\n",
    "        return \"Cry\"\n",
    "class Dog(Animal):\n",
    "    def cry(self):\n",
    "        return \"Woof\""
   ]
  },
  {
   "cell_type": "code",
   "execution_count": 25,
   "id": "e2019999",
   "metadata": {},
   "outputs": [
    {
     "name": "stdout",
     "output_type": "stream",
     "text": [
      "Cry\n",
      "Woof\n"
     ]
    }
   ],
   "source": [
    "a=Animal()\n",
    "d=Dog()\n",
    "if issubclass(Dog, Animal):\n",
    "    print(a.cry())\n",
    "    print(d.cry())"
   ]
  },
  {
   "cell_type": "code",
   "execution_count": 27,
   "id": "896015cd",
   "metadata": {},
   "outputs": [
    {
     "name": "stdout",
     "output_type": "stream",
     "text": [
      "h1.name:  Park\n",
      "h1.age:  20\n",
      "h2.name:  Kim\n",
      "h2.age:  30\n"
     ]
    }
   ],
   "source": [
    "class Human:\n",
    "    def __init__(self, name=\"Park\", age=20):\n",
    "        self.name=name\n",
    "        self.age=age\n",
    "h1=Human()\n",
    "h2=Human(\"Kim\", 30)\n",
    "print(\"h1.name: \", h1.name)\n",
    "print(\"h1.age: \", h1.age)\n",
    "print(\"h2.name: \", h2.name)\n",
    "print(\"h2.age: \", h2.age)"
   ]
  },
  {
   "cell_type": "code",
   "execution_count": 30,
   "id": "0c38f002",
   "metadata": {},
   "outputs": [],
   "source": [
    "class Number:\n",
    "    def __init__(self, number=1):\n",
    "        self.number=number\n",
    "    def __add__(self, other):\n",
    "        return self.number+other.number-0.01\n",
    "    def __sub__(self, other):\n",
    "        return self.number-other.number-0.06"
   ]
  },
  {
   "cell_type": "code",
   "execution_count": 31,
   "id": "e3df2cd1",
   "metadata": {},
   "outputs": [
    {
     "name": "stdout",
     "output_type": "stream",
     "text": [
      "4.105\n",
      "-2.1750000000000003\n",
      "n1.number:  1\n",
      "n2.number:  3.115\n"
     ]
    }
   ],
   "source": [
    "n1=Number()\n",
    "n2=Number(3.115)\n",
    "print(n1+n2)\n",
    "print(n1-n2)\n",
    "print(\"n1.number: \", n1.number)\n",
    "print(\"n2.number: \", n2.number)"
   ]
  },
  {
   "cell_type": "code",
   "execution_count": 33,
   "id": "c2610863",
   "metadata": {},
   "outputs": [],
   "source": [
    "class Student:\n",
    "    def __init__(self, student_number):\n",
    "        self.student_number=student_number\n",
    "    def __eq__(self, other) -> bool:\n",
    "        return self.student_number==other.student_number"
   ]
  },
  {
   "cell_type": "code",
   "execution_count": 34,
   "id": "4a67b47a",
   "metadata": {},
   "outputs": [
    {
     "name": "stdout",
     "output_type": "stream",
     "text": [
      "True\n",
      "False\n",
      "True\n",
      "1234\n",
      "5678\n",
      "1234\n"
     ]
    }
   ],
   "source": [
    "s1=Student(1234)\n",
    "s2=Student(5678)\n",
    "s3=Student(1234)\n",
    "print(s1==s1)\n",
    "print(s1==s2)\n",
    "print(s1==s3)\n",
    "print(s1.student_number)\n",
    "print(s2.student_number)\n",
    "print(s3.student_number)"
   ]
  },
  {
   "cell_type": "code",
   "execution_count": 37,
   "id": "282122e9",
   "metadata": {},
   "outputs": [],
   "source": [
    "class Account:\n",
    "    def __init__(self, balance):\n",
    "        self.balance=balance\n",
    "    def deposit(self, inmoney):\n",
    "        self.balance+=inmoney\n",
    "    def withdraw(self, outmoney):\n",
    "        self.balance-=outmoney"
   ]
  },
  {
   "cell_type": "code",
   "execution_count": 38,
   "id": "fbf47702",
   "metadata": {},
   "outputs": [
    {
     "ename": "AttributeError",
     "evalue": "'Account' object has no attribute 'balance'",
     "output_type": "error",
     "traceback": [
      "\u001b[1;31m---------------------------------------------------------------------------\u001b[0m",
      "\u001b[1;31mAttributeError\u001b[0m                            Traceback (most recent call last)",
      "Input \u001b[1;32mIn [38]\u001b[0m, in \u001b[0;36m<cell line: 3>\u001b[1;34m()\u001b[0m\n\u001b[0;32m      1\u001b[0m a1\u001b[38;5;241m=\u001b[39mAccount(\u001b[38;5;241m0\u001b[39m)\n\u001b[0;32m      2\u001b[0m a2\u001b[38;5;241m=\u001b[39mAccount(\u001b[38;5;241m100\u001b[39m)\n\u001b[1;32m----> 3\u001b[0m \u001b[38;5;28mprint\u001b[39m(\u001b[38;5;124m\"\u001b[39m\u001b[38;5;124ma1\u001b[39m\u001b[38;5;124m'\u001b[39m\u001b[38;5;124ms balance: \u001b[39m\u001b[38;5;124m\"\u001b[39m, \u001b[43ma1\u001b[49m\u001b[38;5;241;43m.\u001b[39;49m\u001b[43mbalance\u001b[49m)\n\u001b[0;32m      4\u001b[0m \u001b[38;5;28mprint\u001b[39m(\u001b[38;5;124m\"\u001b[39m\u001b[38;5;124ma2\u001b[39m\u001b[38;5;124m'\u001b[39m\u001b[38;5;124ms balance: \u001b[39m\u001b[38;5;124m\"\u001b[39m, a2\u001b[38;5;241m.\u001b[39mbalance)\n\u001b[0;32m      5\u001b[0m a1\u001b[38;5;241m.\u001b[39mdeposit(\u001b[38;5;241m20\u001b[39m)\n",
      "\u001b[1;31mAttributeError\u001b[0m: 'Account' object has no attribute 'balance'"
     ]
    }
   ],
   "source": [
    "a1=Account(0)\n",
    "a2=Account(100)\n",
    "print(\"a1's balance: \", a1.balance)\n",
    "print(\"a2's balance: \", a2.balance)\n",
    "a1.deposit(20)\n",
    "s2.withdraw(10)\n",
    "print(\"a1's balance: \", a1.balance)\n",
    "print(\"a2's balance: \", a2.balance)"
   ]
  },
  {
   "cell_type": "code",
   "execution_count": null,
   "id": "14ef5ab8",
   "metadata": {},
   "outputs": [],
   "source": []
  }
 ],
 "metadata": {
  "kernelspec": {
   "display_name": "Python 3 (ipykernel)",
   "language": "python",
   "name": "python3"
  },
  "language_info": {
   "codemirror_mode": {
    "name": "ipython",
    "version": 3
   },
   "file_extension": ".py",
   "mimetype": "text/x-python",
   "name": "python",
   "nbconvert_exporter": "python",
   "pygments_lexer": "ipython3",
   "version": "3.9.12"
  }
 },
 "nbformat": 4,
 "nbformat_minor": 5
}
