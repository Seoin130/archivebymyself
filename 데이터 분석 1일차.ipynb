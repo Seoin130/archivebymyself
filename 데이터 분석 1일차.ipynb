{
 "cells": [
  {
   "cell_type": "markdown",
   "id": "1320eaf2",
   "metadata": {},
   "source": [
    "# 데이터 분석\n",
    "\n",
    "## JSON 데이터"
   ]
  },
  {
   "cell_type": "code",
   "execution_count": 1,
   "id": "deff7176",
   "metadata": {},
   "outputs": [
    {
     "name": "stdout",
     "output_type": "stream",
     "text": [
      "혼자 공부하는 데이터 분석\n"
     ]
    }
   ],
   "source": [
    "d= {\"name\": \"혼자 공부하는 데이터 분석\"}\n",
    "#JSON은 큰따옴표 사용\n",
    "print(d[\"name\"])"
   ]
  },
  {
   "cell_type": "code",
   "execution_count": 3,
   "id": "70b698e0",
   "metadata": {},
   "outputs": [],
   "source": [
    "import json"
   ]
  },
  {
   "cell_type": "markdown",
   "id": "b786d651",
   "metadata": {},
   "source": [
    "파이썬 객체를 JSON 형식에 맞는 텍스트로 바꿀 때에는 json.dumps() 함수 사용"
   ]
  },
  {
   "cell_type": "code",
   "execution_count": 4,
   "id": "3ce683f1",
   "metadata": {},
   "outputs": [
    {
     "name": "stdout",
     "output_type": "stream",
     "text": [
      "{\"name\": \"혼자 공부하는 데이터 분석\"}\n"
     ]
    }
   ],
   "source": [
    "d_str=json.dumps(d, ensure_ascii=False)\n",
    "print(d_str)"
   ]
  },
  {
   "cell_type": "markdown",
   "id": "657a77fc",
   "metadata": {},
   "source": [
    "ensure_ascii=False 지정한 이유는 딕셔너리 d에 한글이 포함 되어 있기 때문"
   ]
  },
  {
   "cell_type": "markdown",
   "id": "9af36f1f",
   "metadata": {},
   "source": [
    "JSON 문자열을 파이썬 객체로 바꿀 때에는 json.loads() 함수 사용"
   ]
  },
  {
   "cell_type": "code",
   "execution_count": 5,
   "id": "d5bc54a6",
   "metadata": {},
   "outputs": [
    {
     "name": "stdout",
     "output_type": "stream",
     "text": [
      "혼자 공부하는 데이터 분석\n"
     ]
    }
   ],
   "source": [
    "d2=json.loads(d_str)\n",
    "print(d2['name'])"
   ]
  },
  {
   "cell_type": "code",
   "execution_count": 6,
   "id": "cecdf2a7",
   "metadata": {},
   "outputs": [
    {
     "name": "stdout",
     "output_type": "stream",
     "text": [
      "혼자 공부하는 파이썬 분석\n",
      "박해선\n",
      "2022\n"
     ]
    }
   ],
   "source": [
    "d3=json.loads('{\"name\": \"혼자 공부하는 파이썬 분석\", \"author\": \"박해선\", \"year\": \"2022\"}')\n",
    "print(d3['name'])\n",
    "print(d3['author'])\n",
    "print(d3['year'])"
   ]
  },
  {
   "cell_type": "code",
   "execution_count": 9,
   "id": "7ec20fd4",
   "metadata": {},
   "outputs": [
    {
     "name": "stdout",
     "output_type": "stream",
     "text": [
      "홍길동\n"
     ]
    }
   ],
   "source": [
    "d3=json.loads('{\"name\": \"혼자 공부하는 파이썬 분석\", \"author\": [\"박해선\", \"홍길동\"], \"year\": \"2022\"}')\n",
    "print(d3['author'][1])"
   ]
  },
  {
   "cell_type": "code",
   "execution_count": 18,
   "id": "84601254",
   "metadata": {},
   "outputs": [
    {
     "name": "stdout",
     "output_type": "stream",
     "text": [
      "혼자 공부하는 데이터 분석\n"
     ]
    }
   ],
   "source": [
    "d4_str=\"\"\"\n",
    "[\n",
    "    {\"name\": \"혼자 공부하는 데이터 분석\", \"author\": \"박해선\", \"year\": \"2022\"},\n",
    "    {\"name\": \"혼자 공부하는 머신러닝+딥러닝\", \"author\": \"박해선\", \"year\": \"2020\"}\n",
    "]\n",
    "\"\"\"\n",
    "\n",
    "d4=json.loads(d4_str)\n",
    "print(d4[0]['name'])"
   ]
  },
  {
   "cell_type": "markdown",
   "id": "294c9f54",
   "metadata": {},
   "source": [
    "세겹따옴표를 이용하면 줄바꿈이 자유로워진다.\n",
    "\n",
    "'['와 '{' 사용 시 여백을 항상 만들어줘야 한다."
   ]
  },
  {
   "cell_type": "code",
   "execution_count": 19,
   "id": "5424136e",
   "metadata": {},
   "outputs": [],
   "source": [
    "import pandas as pd"
   ]
  },
  {
   "cell_type": "code",
   "execution_count": 21,
   "id": "9a1e40ec",
   "metadata": {},
   "outputs": [
    {
     "data": {
      "text/html": [
       "<div>\n",
       "<style scoped>\n",
       "    .dataframe tbody tr th:only-of-type {\n",
       "        vertical-align: middle;\n",
       "    }\n",
       "\n",
       "    .dataframe tbody tr th {\n",
       "        vertical-align: top;\n",
       "    }\n",
       "\n",
       "    .dataframe thead th {\n",
       "        text-align: right;\n",
       "    }\n",
       "</style>\n",
       "<table border=\"1\" class=\"dataframe\">\n",
       "  <thead>\n",
       "    <tr style=\"text-align: right;\">\n",
       "      <th></th>\n",
       "      <th>name</th>\n",
       "      <th>author</th>\n",
       "      <th>year</th>\n",
       "    </tr>\n",
       "  </thead>\n",
       "  <tbody>\n",
       "    <tr>\n",
       "      <th>0</th>\n",
       "      <td>혼자 공부하는 데이터 분석</td>\n",
       "      <td>박해선</td>\n",
       "      <td>2022</td>\n",
       "    </tr>\n",
       "    <tr>\n",
       "      <th>1</th>\n",
       "      <td>혼자 공부하는 머신러닝+딥러닝</td>\n",
       "      <td>박해선</td>\n",
       "      <td>2020</td>\n",
       "    </tr>\n",
       "  </tbody>\n",
       "</table>\n",
       "</div>"
      ],
      "text/plain": [
       "               name author  year\n",
       "0    혼자 공부하는 데이터 분석    박해선  2022\n",
       "1  혼자 공부하는 머신러닝+딥러닝    박해선  2020"
      ]
     },
     "execution_count": 21,
     "metadata": {},
     "output_type": "execute_result"
    }
   ],
   "source": [
    "pd.read_json(d4_str)"
   ]
  },
  {
   "cell_type": "markdown",
   "id": "c2fb393a",
   "metadata": {},
   "source": [
    "read_json() 함수는 json 데이터를 표로 만들어 준다."
   ]
  },
  {
   "cell_type": "markdown",
   "id": "eb7d2846",
   "metadata": {},
   "source": [
    "## API 호출하는 URL 작성하기"
   ]
  },
  {
   "cell_type": "markdown",
   "id": "bbc4bfb2",
   "metadata": {},
   "source": [
    "### HTTP GET 방식"
   ]
  },
  {
   "cell_type": "markdown",
   "id": "937b8c23",
   "metadata": {},
   "source": [
    "ex) http://data4library.kr/api/loanItemSrch?authKey=[발급받은 키]&startDt=2022-01-01&endDt=2022-03-31&gender=1&age=20&region11;31&addCode=0&kdc=6&pageNo=1&pageSize=10\n",
    "\n",
    "* 호출 URL: http://data4library.kr/api/loanItemSrch\n",
    "* 파라미터\n",
    "- format: JSON으로 받고 싶으면 JSON으로 설정\n",
    "- startDt: 검색 시작 일자\n",
    "- endDt: 검색 종료 일자\n",
    "- age: 연령대\n",
    "- authKey: 인증키\n",
    "\n",
    "* 파라미터와 값은 = 키로 연결\n",
    "* 파라미터 사이는 & 키로 연결\n",
    "* 호출 URL과 파라미터는 ? 키로 연결\n",
    "\n",
    "ex2) http://data4ilbrary.kr/api/loanItemSrch?format=json&startDt=2021-04-01&endDt=2021-04-30?&age=20&authKey=인증키"
   ]
  },
  {
   "cell_type": "code",
   "execution_count": null,
   "id": "4f8c16dd",
   "metadata": {},
   "outputs": [],
   "source": []
  }
 ],
 "metadata": {
  "kernelspec": {
   "display_name": "Python 3 (ipykernel)",
   "language": "python",
   "name": "python3"
  },
  "language_info": {
   "codemirror_mode": {
    "name": "ipython",
    "version": 3
   },
   "file_extension": ".py",
   "mimetype": "text/x-python",
   "name": "python",
   "nbconvert_exporter": "python",
   "pygments_lexer": "ipython3",
   "version": "3.9.12"
  }
 },
 "nbformat": 4,
 "nbformat_minor": 5
}
