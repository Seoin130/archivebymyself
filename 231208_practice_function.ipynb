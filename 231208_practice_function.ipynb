{
 "cells": [
  {
   "cell_type": "code",
   "execution_count": 1,
   "id": "96da4196",
   "metadata": {},
   "outputs": [
    {
     "name": "stdout",
     "output_type": "stream",
     "text": [
      "2 4 1\n",
      "1 2 3 2\n"
     ]
    }
   ],
   "source": [
    "def func(a,b):\n",
    "    a=a+1\n",
    "    b=b+2\n",
    "    c=1\n",
    "    print(a,b,c)\n",
    "    return b-a\n",
    "a,b,c=1,2,3\n",
    "d=func(a,b)\n",
    "print(a,b,c,d)"
   ]
  },
  {
   "cell_type": "code",
   "execution_count": 2,
   "id": "2c715c29",
   "metadata": {},
   "outputs": [
    {
     "name": "stdout",
     "output_type": "stream",
     "text": [
      "2 4 2\n",
      "1 2 3\n"
     ]
    }
   ],
   "source": [
    "def func(a,b):\n",
    "    a=a+1\n",
    "    b=b+2\n",
    "    c=1\n",
    "    c=c+1\n",
    "    print(a,b,c)\n",
    "    return b-a\n",
    "a,b,c=1,2,3\n",
    "d=func(a,b)\n",
    "print(a,b,c)"
   ]
  },
  {
   "cell_type": "code",
   "execution_count": 3,
   "id": "0fe8341f",
   "metadata": {},
   "outputs": [
    {
     "name": "stdout",
     "output_type": "stream",
     "text": [
      "2 4 4\n",
      "1 2 4\n"
     ]
    }
   ],
   "source": [
    "def func(a,b):\n",
    "    a=a+1\n",
    "    b=b+2\n",
    "    global c\n",
    "    c=c+1\n",
    "    print(a,b,c)\n",
    "    return b-a\n",
    "a,b,c=1,2,3\n",
    "d=func(a,b)\n",
    "print(a,b,c)"
   ]
  },
  {
   "cell_type": "code",
   "execution_count": 4,
   "id": "12ceb748",
   "metadata": {},
   "outputs": [
    {
     "name": "stdout",
     "output_type": "stream",
     "text": [
      "1 5\n",
      "1 4\n",
      "1 2\n"
     ]
    }
   ],
   "source": [
    "def cal(a):\n",
    "    b=4\n",
    "    def minus(a=2):\n",
    "        b=5\n",
    "        print(a,b)\n",
    "    minus(a)\n",
    "    print(a,b)\n",
    "a,b=1,2\n",
    "cal(a)\n",
    "print(a,b)"
   ]
  },
  {
   "cell_type": "code",
   "execution_count": 5,
   "id": "cbd05014",
   "metadata": {},
   "outputs": [
    {
     "name": "stdout",
     "output_type": "stream",
     "text": [
      "1 5\n",
      "1 4\n",
      "1 5\n"
     ]
    }
   ],
   "source": [
    "def cal(a):\n",
    "    b=4\n",
    "    def minus(a=2):\n",
    "        global b\n",
    "        b=5\n",
    "        print(a,b)\n",
    "    minus(a)\n",
    "    print(a,b)\n",
    "a,b=1,2\n",
    "cal(a)\n",
    "print(a,b)"
   ]
  },
  {
   "cell_type": "code",
   "execution_count": 6,
   "id": "b6fb5be9",
   "metadata": {},
   "outputs": [
    {
     "name": "stdout",
     "output_type": "stream",
     "text": [
      "[1, 4, 9, 16, 25] [1, 4, 9, 16, 25]\n"
     ]
    }
   ],
   "source": [
    "L=[1,2,3,4,5]\n",
    "type(L)\n",
    "\n",
    "def square(n):\n",
    "    return n*n\n",
    "\n",
    "L=[1,2,3,4,5]\n",
    "L2=[n*n for n in L]\n",
    "L3=[square(n) for n in L]\n",
    "print(L2, L3)"
   ]
  },
  {
   "cell_type": "code",
   "execution_count": 7,
   "id": "bf0662f2",
   "metadata": {},
   "outputs": [
    {
     "name": "stdout",
     "output_type": "stream",
     "text": [
      "100\n"
     ]
    }
   ],
   "source": [
    "lambda n:n*n\n",
    "result=square(10)\n",
    "print(result)"
   ]
  },
  {
   "cell_type": "code",
   "execution_count": 8,
   "id": "db6fdc17",
   "metadata": {},
   "outputs": [
    {
     "name": "stdout",
     "output_type": "stream",
     "text": [
      "3\n",
      "2\n",
      "1\n",
      "6\n"
     ]
    }
   ],
   "source": [
    "def func(n):\n",
    "    print(n)\n",
    "    if n==1:\n",
    "        return 1\n",
    "    else:\n",
    "        return n+func(n-1)\n",
    "    \n",
    "result=func(3)\n",
    "print(result)"
   ]
  },
  {
   "cell_type": "code",
   "execution_count": 11,
   "id": "678e8840",
   "metadata": {},
   "outputs": [
    {
     "name": "stdout",
     "output_type": "stream",
     "text": [
      "1 1 1\n"
     ]
    }
   ],
   "source": [
    "def func1(a):\n",
    "    b=100\n",
    "    def func2(n):\n",
    "        nonlocal b\n",
    "        b+=n\n",
    "    b=func2(10)\n",
    "    return b\n",
    "a,b,c=1,1,1\n",
    "func1(c)\n",
    "print(a,b,c)"
   ]
  },
  {
   "cell_type": "code",
   "execution_count": 12,
   "id": "5f2778f1",
   "metadata": {},
   "outputs": [
    {
     "ename": "TypeError",
     "evalue": "'int' object is not callable",
     "output_type": "error",
     "traceback": [
      "\u001b[1;31m---------------------------------------------------------------------------\u001b[0m",
      "\u001b[1;31mTypeError\u001b[0m                                 Traceback (most recent call last)",
      "Input \u001b[1;32mIn [12]\u001b[0m, in \u001b[0;36m<cell line: 2>\u001b[1;34m()\u001b[0m\n\u001b[0;32m      1\u001b[0m \u001b[38;5;28mmin\u001b[39m\u001b[38;5;241m=\u001b[39m\u001b[38;5;241m-\u001b[39m\u001b[38;5;241m1\u001b[39m\n\u001b[1;32m----> 2\u001b[0m \u001b[38;5;28mprint\u001b[39m(\u001b[38;5;28;43mmin\u001b[39;49m\u001b[43m(\u001b[49m\u001b[43m[\u001b[49m\u001b[43mn\u001b[49m\u001b[38;5;241;43m*\u001b[39;49m\u001b[43mn\u001b[49m\u001b[43m \u001b[49m\u001b[38;5;28;43;01mfor\u001b[39;49;00m\u001b[43m \u001b[49m\u001b[43mn\u001b[49m\u001b[43m \u001b[49m\u001b[38;5;129;43;01min\u001b[39;49;00m\u001b[43m \u001b[49m\u001b[38;5;28;43mrange\u001b[39;49m\u001b[43m(\u001b[49m\u001b[38;5;241;43m1\u001b[39;49m\u001b[43m,\u001b[49m\u001b[38;5;241;43m4\u001b[39;49m\u001b[43m)\u001b[49m\u001b[43m]\u001b[49m\u001b[43m)\u001b[49m)\n",
      "\u001b[1;31mTypeError\u001b[0m: 'int' object is not callable"
     ]
    }
   ],
   "source": [
    "min=-1\n",
    "print(min([n*n for n in range(1,4)]))"
   ]
  },
  {
   "cell_type": "code",
   "execution_count": 13,
   "id": "43958e4d",
   "metadata": {},
   "outputs": [
    {
     "name": "stdout",
     "output_type": "stream",
     "text": [
      "30\n"
     ]
    }
   ],
   "source": [
    "def func(f):\n",
    "    return f(5,6)\n",
    "print(func(lambda x,y:x*y))"
   ]
  },
  {
   "cell_type": "code",
   "execution_count": 14,
   "id": "9c0cdcda",
   "metadata": {},
   "outputs": [
    {
     "name": "stdout",
     "output_type": "stream",
     "text": [
      "1 1 20\n"
     ]
    }
   ],
   "source": [
    "def func1(a):\n",
    "    b=10\n",
    "    def func2(n):\n",
    "        nonlocal b\n",
    "        b+=n\n",
    "    func2(10)\n",
    "    return b\n",
    "\n",
    "a,b,c=1,1,1\n",
    "c=func1(c)\n",
    "print(a,b,c)"
   ]
  },
  {
   "cell_type": "code",
   "execution_count": 15,
   "id": "b842c717",
   "metadata": {},
   "outputs": [
    {
     "ename": "TypeError",
     "evalue": "__init__() missing 2 required positional arguments: 'n' and 'a'",
     "output_type": "error",
     "traceback": [
      "\u001b[1;31m---------------------------------------------------------------------------\u001b[0m",
      "\u001b[1;31mTypeError\u001b[0m                                 Traceback (most recent call last)",
      "Input \u001b[1;32mIn [15]\u001b[0m, in \u001b[0;36m<cell line: 6>\u001b[1;34m()\u001b[0m\n\u001b[0;32m      4\u001b[0m         \u001b[38;5;28mself\u001b[39m\u001b[38;5;241m.\u001b[39mage\u001b[38;5;241m=\u001b[39ma\n\u001b[0;32m      5\u001b[0m p1\u001b[38;5;241m=\u001b[39mPerson(\u001b[38;5;124m\"\u001b[39m\u001b[38;5;124mPark\u001b[39m\u001b[38;5;124m\"\u001b[39m, \u001b[38;5;241m20\u001b[39m)\n\u001b[1;32m----> 6\u001b[0m p2\u001b[38;5;241m=\u001b[39m\u001b[43mPerson\u001b[49m\u001b[43m(\u001b[49m\u001b[43m)\u001b[49m\n\u001b[0;32m      7\u001b[0m \u001b[38;5;28;01mif\u001b[39;00m p2\u001b[38;5;241m.\u001b[39mname:\n\u001b[0;32m      8\u001b[0m     \u001b[38;5;28mprint\u001b[39m(p1\u001b[38;5;241m.\u001b[39mname)\n",
      "\u001b[1;31mTypeError\u001b[0m: __init__() missing 2 required positional arguments: 'n' and 'a'"
     ]
    }
   ],
   "source": [
    "class Person:\n",
    "    def __init__(self, n, a):\n",
    "        self.name=n\n",
    "        self.age=a\n",
    "p1=Person(\"Park\", 20)\n",
    "p2=Person()\n",
    "if p2.name:\n",
    "    print(p1.name)\n",
    "else:\n",
    "    print(p2.age)"
   ]
  },
  {
   "cell_type": "code",
   "execution_count": null,
   "id": "73212544",
   "metadata": {},
   "outputs": [],
   "source": []
  }
 ],
 "metadata": {
  "kernelspec": {
   "display_name": "Python 3 (ipykernel)",
   "language": "python",
   "name": "python3"
  },
  "language_info": {
   "codemirror_mode": {
    "name": "ipython",
    "version": 3
   },
   "file_extension": ".py",
   "mimetype": "text/x-python",
   "name": "python",
   "nbconvert_exporter": "python",
   "pygments_lexer": "ipython3",
   "version": "3.9.12"
  }
 },
 "nbformat": 4,
 "nbformat_minor": 5
}
