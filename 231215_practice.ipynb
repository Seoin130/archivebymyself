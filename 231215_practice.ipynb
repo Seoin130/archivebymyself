{
 "cells": [
  {
   "cell_type": "code",
   "execution_count": 12,
   "id": "7bb3ee0b",
   "metadata": {},
   "outputs": [],
   "source": [
    "def factorial(n:int)->int:\n",
    "    sum=1\n",
    "    for n in range(1,n+1):\n",
    "        sum*=n\n",
    "    return sum"
   ]
  },
  {
   "cell_type": "code",
   "execution_count": 13,
   "id": "19fb4a24",
   "metadata": {},
   "outputs": [
    {
     "name": "stdout",
     "output_type": "stream",
     "text": [
      "3628800\n"
     ]
    }
   ],
   "source": [
    "print(factorial(10))"
   ]
  },
  {
   "cell_type": "code",
   "execution_count": 4,
   "id": "e898662b",
   "metadata": {},
   "outputs": [],
   "source": [
    "def factorial_for(n):\n",
    "    ret = 1\n",
    "    for i in range(1, n+1):\n",
    "        ret *= i\n",
    "    return ret\n"
   ]
  },
  {
   "cell_type": "code",
   "execution_count": 5,
   "id": "3a0ddfa5",
   "metadata": {},
   "outputs": [
    {
     "name": "stdout",
     "output_type": "stream",
     "text": [
      "3628800\n"
     ]
    }
   ],
   "source": [
    "print(factorial_for(10))"
   ]
  },
  {
   "cell_type": "code",
   "execution_count": 15,
   "id": "53f6859f",
   "metadata": {},
   "outputs": [
    {
     "ename": "TypeError",
     "evalue": "set_page() missing 1 required positional argument: 'page'",
     "output_type": "error",
     "traceback": [
      "\u001b[1;31m---------------------------------------------------------------------------\u001b[0m",
      "\u001b[1;31mTypeError\u001b[0m                                 Traceback (most recent call last)",
      "Input \u001b[1;32mIn [15]\u001b[0m, in \u001b[0;36m<cell line: 12>\u001b[1;34m()\u001b[0m\n\u001b[0;32m     10\u001b[0m b\u001b[38;5;241m=\u001b[39mBook(\u001b[38;5;124m\"\u001b[39m\u001b[38;5;124mSQL for Data Analysis\u001b[39m\u001b[38;5;124m\"\u001b[39m)\n\u001b[0;32m     11\u001b[0m m\u001b[38;5;241m=\u001b[39mMagazine(\u001b[38;5;124m\"\u001b[39m\u001b[38;5;124mPython\u001b[39m\u001b[38;5;124m\"\u001b[39m)\n\u001b[1;32m---> 12\u001b[0m \u001b[43mb\u001b[49m\u001b[38;5;241;43m.\u001b[39;49m\u001b[43mset_page\u001b[49m\u001b[43m(\u001b[49m\u001b[38;5;241;43m200\u001b[39;49m\u001b[43m)\u001b[49m\n\u001b[0;32m     13\u001b[0m m\u001b[38;5;241m.\u001b[39mset_page(\u001b[38;5;241m100\u001b[39m)\n\u001b[0;32m     14\u001b[0m \u001b[38;5;28mprint\u001b[39m(b\u001b[38;5;241m.\u001b[39mpage, m\u001b[38;5;241m.\u001b[39mpage)\n",
      "\u001b[1;31mTypeError\u001b[0m: set_page() missing 1 required positional argument: 'page'"
     ]
    }
   ],
   "source": [
    "class Book():\n",
    "    page=400\n",
    "    def __init__(self, t):\n",
    "        self.title=t\n",
    "    @staticmethod\n",
    "    def set_page(what,page):\n",
    "        what.page=page\n",
    "class Magazine(Book):\n",
    "    pass\n",
    "b=Book(\"SQL for Data Analysis\")\n",
    "m=Magazine(\"Python\")\n",
    "b.set_page(200)\n",
    "m.set_page(100)\n",
    "print(b.page, m.page)"
   ]
  },
  {
   "cell_type": "code",
   "execution_count": 18,
   "id": "7c4a5be9",
   "metadata": {},
   "outputs": [
    {
     "ename": "AttributeError",
     "evalue": "type object 'WebPython' has no attribute 'append'",
     "output_type": "error",
     "traceback": [
      "\u001b[1;31m---------------------------------------------------------------------------\u001b[0m",
      "\u001b[1;31mAttributeError\u001b[0m                            Traceback (most recent call last)",
      "Input \u001b[1;32mIn [18]\u001b[0m, in \u001b[0;36m<cell line: 5>\u001b[1;34m()\u001b[0m\n\u001b[0;32m      3\u001b[0m         \u001b[38;5;28mself\u001b[39m\u001b[38;5;241m.\u001b[39mstudents\u001b[38;5;241m=\u001b[39mstudents\n\u001b[0;32m      4\u001b[0m my_class\u001b[38;5;241m=\u001b[39mWebPython([\u001b[38;5;124m\"\u001b[39m\u001b[38;5;124mPark\u001b[39m\u001b[38;5;124m\"\u001b[39m, \u001b[38;5;124m\"\u001b[39m\u001b[38;5;124mLee\u001b[39m\u001b[38;5;124m\"\u001b[39m, \u001b[38;5;124m\"\u001b[39m\u001b[38;5;124mKim\u001b[39m\u001b[38;5;124m\"\u001b[39m])\n\u001b[1;32m----> 5\u001b[0m \u001b[43mWebPython\u001b[49m\u001b[38;5;241;43m.\u001b[39;49m\u001b[43mappend\u001b[49m([\u001b[38;5;124m\"\u001b[39m\u001b[38;5;124mCho\u001b[39m\u001b[38;5;124m\"\u001b[39m])\n\u001b[0;32m      6\u001b[0m \u001b[38;5;28mprint\u001b[39m(my_class\u001b[38;5;241m.\u001b[39mstudents)\n",
      "\u001b[1;31mAttributeError\u001b[0m: type object 'WebPython' has no attribute 'append'"
     ]
    }
   ],
   "source": [
    "class WebPython:\n",
    "    def __init__(self, students):\n",
    "        self.students=students\n",
    "my_class=WebPython([\"Park\", \"Lee\", \"Kim\"])\n",
    "my_class.append(\"Cho\")\n",
    "print(my_class.students)"
   ]
  },
  {
   "cell_type": "code",
   "execution_count": 19,
   "id": "112d051e",
   "metadata": {},
   "outputs": [
    {
     "name": "stdout",
     "output_type": "stream",
     "text": [
      "Wrong Price!\n"
     ]
    }
   ],
   "source": [
    "class WrongPriceException(Exception):\n",
    "    def __str__(self):\n",
    "        return \"Wrong Price!\"\n",
    "class Phone:\n",
    "    def __init__(self, price=100):\n",
    "        if price<0:\n",
    "            raise WrongPriceException\n",
    "        self.price=price\n",
    "try:\n",
    "    p1=Phone(100)\n",
    "    p2=Phone()\n",
    "    p3=Phone(-100)\n",
    "    print(p1.price+p3.price)\n",
    "except ZeroDivisionError as e:\n",
    "    print(e)\n",
    "except WrongPriceException as e:\n",
    "    print(e)\n",
    "else:\n",
    "    print(p2.price)"
   ]
  },
  {
   "cell_type": "code",
   "execution_count": 20,
   "id": "ed8b33f4",
   "metadata": {},
   "outputs": [
    {
     "ename": "NameError",
     "evalue": "name 'num' is not defined",
     "output_type": "error",
     "traceback": [
      "\u001b[1;31m---------------------------------------------------------------------------\u001b[0m",
      "\u001b[1;31mNameError\u001b[0m                                 Traceback (most recent call last)",
      "Input \u001b[1;32mIn [20]\u001b[0m, in \u001b[0;36m<cell line: 6>\u001b[1;34m()\u001b[0m\n\u001b[0;32m      4\u001b[0m         \u001b[38;5;28mself\u001b[39m\u001b[38;5;241m.\u001b[39mkw\u001b[38;5;241m=\u001b[39mkw\n\u001b[0;32m      5\u001b[0m my_class\u001b[38;5;241m=\u001b[39mWebPython([\u001b[38;5;124m\"\u001b[39m\u001b[38;5;124mPark\u001b[39m\u001b[38;5;124m\"\u001b[39m], num\u001b[38;5;241m=\u001b[39m\u001b[38;5;241m180\u001b[39m)\n\u001b[1;32m----> 6\u001b[0m \u001b[38;5;28mprint\u001b[39m(my_class\u001b[38;5;241m.\u001b[39mkw[\u001b[43mnum\u001b[49m])\n",
      "\u001b[1;31mNameError\u001b[0m: name 'num' is not defined"
     ]
    }
   ],
   "source": [
    "class WebPython:\n",
    "    def __init__(self, *names,**kw):\n",
    "        self.students=names\n",
    "        self.kw=kw\n",
    "my_class=WebPython([\"Park\"], num=180)\n",
    "print(my_class.kw[num])"
   ]
  },
  {
   "cell_type": "code",
   "execution_count": null,
   "id": "1f6df83c",
   "metadata": {},
   "outputs": [],
   "source": []
  }
 ],
 "metadata": {
  "kernelspec": {
   "display_name": "Python 3 (ipykernel)",
   "language": "python",
   "name": "python3"
  },
  "language_info": {
   "codemirror_mode": {
    "name": "ipython",
    "version": 3
   },
   "file_extension": ".py",
   "mimetype": "text/x-python",
   "name": "python",
   "nbconvert_exporter": "python",
   "pygments_lexer": "ipython3",
   "version": "3.9.12"
  }
 },
 "nbformat": 4,
 "nbformat_minor": 5
}
