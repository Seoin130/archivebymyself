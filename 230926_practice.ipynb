{
 "cells": [
  {
   "cell_type": "code",
   "execution_count": 1,
   "id": "8831a832",
   "metadata": {},
   "outputs": [],
   "source": [
    "students=[\"AKMU\", \"IVE\", \"NewJeans\", \"Younha\"]"
   ]
  },
  {
   "cell_type": "code",
   "execution_count": 2,
   "id": "c3a6c581",
   "metadata": {},
   "outputs": [
    {
     "name": "stdout",
     "output_type": "stream",
     "text": [
      "['AKMU', 'IVE', 'NewJeans', 'Younha']\n"
     ]
    }
   ],
   "source": [
    "print(students)"
   ]
  },
  {
   "cell_type": "code",
   "execution_count": 3,
   "id": "626b922d",
   "metadata": {},
   "outputs": [
    {
     "name": "stdout",
     "output_type": "stream",
     "text": [
      "IVE\n"
     ]
    }
   ],
   "source": [
    "print(students[1])"
   ]
  },
  {
   "cell_type": "code",
   "execution_count": 5,
   "id": "13f9e877",
   "metadata": {},
   "outputs": [
    {
     "name": "stdout",
     "output_type": "stream",
     "text": [
      "['NewJeans', 'Younha']\n"
     ]
    }
   ],
   "source": [
    "print(students[2:])"
   ]
  },
  {
   "cell_type": "code",
   "execution_count": 6,
   "id": "0c3da4ab",
   "metadata": {},
   "outputs": [
    {
     "name": "stdout",
     "output_type": "stream",
     "text": [
      "['AKMU', 'NewJeans']\n"
     ]
    }
   ],
   "source": [
    "print(students[0:4:2])"
   ]
  },
  {
   "cell_type": "code",
   "execution_count": 7,
   "id": "358eaf17",
   "metadata": {},
   "outputs": [],
   "source": [
    "var1=[\"안녕\", \"Hello World\", 2023]\n",
    "var2=[1.0, \"Hello\"]"
   ]
  },
  {
   "cell_type": "code",
   "execution_count": 8,
   "id": "82cf68d8",
   "metadata": {},
   "outputs": [],
   "source": [
    "var3=var1+var2"
   ]
  },
  {
   "cell_type": "code",
   "execution_count": 9,
   "id": "c3915337",
   "metadata": {},
   "outputs": [
    {
     "name": "stdout",
     "output_type": "stream",
     "text": [
      "['안녕', 'Hello World', 2023, 1.0, 'Hello']\n"
     ]
    }
   ],
   "source": [
    "print(var3)"
   ]
  },
  {
   "cell_type": "code",
   "execution_count": 10,
   "id": "cfa8a732",
   "metadata": {},
   "outputs": [
    {
     "name": "stdout",
     "output_type": "stream",
     "text": [
      "['AKMU', 'RedVelvet', 'NewJeans', 'Younha']\n"
     ]
    }
   ],
   "source": [
    "students[1]=\"RedVelvet\"\n",
    "print(students)"
   ]
  },
  {
   "cell_type": "code",
   "execution_count": 12,
   "id": "e47299aa",
   "metadata": {},
   "outputs": [
    {
     "name": "stdout",
     "output_type": "stream",
     "text": [
      "['AKMU', 'RedVelvet', 'NewJeans', 'Younha']\n"
     ]
    }
   ],
   "source": [
    "people=students.copy()\n",
    "print(people)"
   ]
  },
  {
   "cell_type": "code",
   "execution_count": 13,
   "id": "69f8a586",
   "metadata": {},
   "outputs": [
    {
     "name": "stdout",
     "output_type": "stream",
     "text": [
      "[]\n"
     ]
    }
   ],
   "source": [
    "students.clear()\n",
    "print(students)"
   ]
  },
  {
   "cell_type": "code",
   "execution_count": 14,
   "id": "205b5d53",
   "metadata": {},
   "outputs": [
    {
     "name": "stdout",
     "output_type": "stream",
     "text": [
      "[1, 2, 3, 4]\n"
     ]
    }
   ],
   "source": [
    "var1=[1,2,3]\n",
    "var1.append(4)\n",
    "print(var1)"
   ]
  },
  {
   "cell_type": "code",
   "execution_count": 15,
   "id": "5b2a9a15",
   "metadata": {},
   "outputs": [
    {
     "name": "stdout",
     "output_type": "stream",
     "text": [
      "[1, 2, 3, 5]\n"
     ]
    }
   ],
   "source": [
    "var1=[1,2,3]\n",
    "var1.extend([5])\n",
    "print(var1)"
   ]
  },
  {
   "cell_type": "code",
   "execution_count": 16,
   "id": "e33b9d21",
   "metadata": {},
   "outputs": [
    {
     "name": "stdout",
     "output_type": "stream",
     "text": [
      "[1, '하나', '둘', '셋']\n"
     ]
    }
   ],
   "source": [
    "var1=[1, \"둘\", \"셋\"]\n",
    "var1.insert(1, \"하나\")\n",
    "print(var1)"
   ]
  },
  {
   "cell_type": "code",
   "execution_count": 17,
   "id": "b1884471",
   "metadata": {},
   "outputs": [
    {
     "name": "stdout",
     "output_type": "stream",
     "text": [
      "[1, '둘', '셋']\n"
     ]
    }
   ],
   "source": [
    "var1.pop(1)\n",
    "print(var1)"
   ]
  },
  {
   "cell_type": "code",
   "execution_count": 18,
   "id": "83eba40c",
   "metadata": {},
   "outputs": [
    {
     "name": "stdout",
     "output_type": "stream",
     "text": [
      "[1, '헬', '로', 4]\n"
     ]
    }
   ],
   "source": [
    "var1=[1, 3, \"헬\", \"로\", 4]\n",
    "var1.remove(3)\n",
    "print(var1)"
   ]
  },
  {
   "cell_type": "code",
   "execution_count": 19,
   "id": "5ab2f284",
   "metadata": {},
   "outputs": [
    {
     "name": "stdout",
     "output_type": "stream",
     "text": [
      "[3, 2, 1]\n"
     ]
    }
   ],
   "source": [
    "var1=[1,2,3]\n",
    "var1.reverse()\n",
    "print(var1)"
   ]
  },
  {
   "cell_type": "code",
   "execution_count": 20,
   "id": "d5c02d17",
   "metadata": {},
   "outputs": [
    {
     "name": "stdout",
     "output_type": "stream",
     "text": [
      "[1, 2, 3] ['a', 'b']\n"
     ]
    }
   ],
   "source": [
    "var1, var2=[3,2,1], [\"b\", \"a\"]\n",
    "var1.sort()\n",
    "var2.sort()\n",
    "print(var1, var2)"
   ]
  },
  {
   "cell_type": "code",
   "execution_count": 21,
   "id": "b5bc1049",
   "metadata": {},
   "outputs": [
    {
     "name": "stdout",
     "output_type": "stream",
     "text": [
      "Hello\n",
      "World\n",
      "\n"
     ]
    }
   ],
   "source": [
    "b=\"\"\"Hello\\nWorld\\n\"\"\"\n",
    "print(b)"
   ]
  },
  {
   "cell_type": "code",
   "execution_count": 22,
   "id": "407b1ad4",
   "metadata": {},
   "outputs": [
    {
     "name": "stdout",
     "output_type": "stream",
     "text": [
      "NewJeanseee NKwJKansKKK NKwJKansKee\n"
     ]
    }
   ],
   "source": [
    "s=\"NewJeanseee\"\n",
    "s2=s.replace('e', 'K')\n",
    "s3=s.replace('e', 'K', 3)\n",
    "print(s, s2, s3)"
   ]
  },
  {
   "cell_type": "code",
   "execution_count": 23,
   "id": "c91447d2",
   "metadata": {},
   "outputs": [
    {
     "name": "stdout",
     "output_type": "stream",
     "text": [
      "My name is Hong Gildong and I am 24.\n"
     ]
    }
   ],
   "source": [
    "name, age=\"Hong Gildong\", 24\n",
    "s=f\"My name is {name} and I am {age}.\"\n",
    "print(s)"
   ]
  },
  {
   "cell_type": "code",
   "execution_count": 25,
   "id": "b2d2364d",
   "metadata": {},
   "outputs": [
    {
     "name": "stdout",
     "output_type": "stream",
     "text": [
      "My name is HONG GILDONG and I am 24.\n"
     ]
    }
   ],
   "source": [
    "s=f\"My name is {name.upper()} and I am {age}.\"\n",
    "print(s)"
   ]
  },
  {
   "cell_type": "code",
   "execution_count": null,
   "id": "73d5111b",
   "metadata": {},
   "outputs": [],
   "source": []
  }
 ],
 "metadata": {
  "kernelspec": {
   "display_name": "Python 3 (ipykernel)",
   "language": "python",
   "name": "python3"
  },
  "language_info": {
   "codemirror_mode": {
    "name": "ipython",
    "version": 3
   },
   "file_extension": ".py",
   "mimetype": "text/x-python",
   "name": "python",
   "nbconvert_exporter": "python",
   "pygments_lexer": "ipython3",
   "version": "3.9.12"
  }
 },
 "nbformat": 4,
 "nbformat_minor": 5
}
