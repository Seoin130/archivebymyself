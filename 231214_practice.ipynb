{
 "cells": [
  {
   "cell_type": "code",
   "execution_count": 3,
   "id": "791ec406",
   "metadata": {},
   "outputs": [
    {
     "ename": "TypeError",
     "evalue": "get_name_upper() takes 0 positional arguments but 1 was given",
     "output_type": "error",
     "traceback": [
      "\u001b[1;31m---------------------------------------------------------------------------\u001b[0m",
      "\u001b[1;31mTypeError\u001b[0m                                 Traceback (most recent call last)",
      "Input \u001b[1;32mIn [3]\u001b[0m, in \u001b[0;36m<cell line: 8>\u001b[1;34m()\u001b[0m\n\u001b[0;32m      6\u001b[0m         \u001b[38;5;28;01mreturn\u001b[39;00m \u001b[38;5;28mself\u001b[39m\u001b[38;5;241m.\u001b[39mname\u001b[38;5;241m.\u001b[39mupper()\n\u001b[0;32m      7\u001b[0m p\u001b[38;5;241m=\u001b[39mPerson(\u001b[38;5;124m\"\u001b[39m\u001b[38;5;124mPark\u001b[39m\u001b[38;5;124m\"\u001b[39m, \u001b[38;5;241m20\u001b[39m)\n\u001b[1;32m----> 8\u001b[0m \u001b[38;5;28mprint\u001b[39m(\u001b[43mp\u001b[49m\u001b[38;5;241;43m.\u001b[39;49m\u001b[43mget_name_upper\u001b[49m\u001b[43m(\u001b[49m\u001b[43m)\u001b[49m[\u001b[38;5;241m-\u001b[39m\u001b[38;5;241m1\u001b[39m])\n",
      "\u001b[1;31mTypeError\u001b[0m: get_name_upper() takes 0 positional arguments but 1 was given"
     ]
    }
   ],
   "source": [
    "class Person:\n",
    "    def __init__(self, name, age=0):\n",
    "        self.name=name\n",
    "        self.age=age\n",
    "    def get_name_upper():\n",
    "        return self.name.upper()\n",
    "p=Person(\"Park\", 20)\n",
    "print(p.get_name_upper()[-1])"
   ]
  },
  {
   "cell_type": "code",
   "execution_count": 4,
   "id": "c0cc816f",
   "metadata": {},
   "outputs": [
    {
     "ename": "AttributeError",
     "evalue": "'String' object has no attribute 'upper'",
     "output_type": "error",
     "traceback": [
      "\u001b[1;31m---------------------------------------------------------------------------\u001b[0m",
      "\u001b[1;31mAttributeError\u001b[0m                            Traceback (most recent call last)",
      "Input \u001b[1;32mIn [4]\u001b[0m, in \u001b[0;36m<cell line: 9>\u001b[1;34m()\u001b[0m\n\u001b[0;32m      7\u001b[0m         \u001b[38;5;28;01mreturn\u001b[39;00m IVE\u001b[38;5;241m.\u001b[39mupper()\n\u001b[0;32m      8\u001b[0m s\u001b[38;5;241m=\u001b[39mString(\u001b[38;5;124m\"\u001b[39m\u001b[38;5;124mPark\u001b[39m\u001b[38;5;124m\"\u001b[39m)\n\u001b[1;32m----> 9\u001b[0m \u001b[38;5;28mprint\u001b[39m(\u001b[43ms\u001b[49m\u001b[38;5;241;43m.\u001b[39;49m\u001b[43mget_lower\u001b[49m\u001b[43m(\u001b[49m\u001b[43m)\u001b[49m)\n",
      "Input \u001b[1;32mIn [4]\u001b[0m, in \u001b[0;36mString.get_lower\u001b[1;34m(IVE)\u001b[0m\n\u001b[0;32m      6\u001b[0m \u001b[38;5;28;01mdef\u001b[39;00m \u001b[38;5;21mget_lower\u001b[39m(IVE):\n\u001b[1;32m----> 7\u001b[0m     \u001b[38;5;28;01mreturn\u001b[39;00m \u001b[43mIVE\u001b[49m\u001b[38;5;241;43m.\u001b[39;49m\u001b[43mupper\u001b[49m()\n",
      "\u001b[1;31mAttributeError\u001b[0m: 'String' object has no attribute 'upper'"
     ]
    }
   ],
   "source": [
    "class String:\n",
    "    num_instance=0\n",
    "    def __init__(self, s=''):\n",
    "        self.string=s\n",
    "        String.num_instance+=1\n",
    "    def get_lower(IVE):\n",
    "        return IVE.upper()\n",
    "s=String(\"Park\")\n",
    "print(s.get_lower())"
   ]
  },
  {
   "cell_type": "code",
   "execution_count": 5,
   "id": "d70d9b93",
   "metadata": {},
   "outputs": [
    {
     "name": "stdout",
     "output_type": "stream",
     "text": [
      "9\n"
     ]
    }
   ],
   "source": [
    "class C(object):\n",
    "    counter=0\n",
    "    def __init__(self):\n",
    "        C.counter+=1\n",
    "a=C()\n",
    "b=C()\n",
    "c=C()\n",
    "L=[a.counter, b.counter, c.counter]\n",
    "print(sum(L))"
   ]
  },
  {
   "cell_type": "code",
   "execution_count": null,
   "id": "172b7b6c",
   "metadata": {},
   "outputs": [],
   "source": []
  }
 ],
 "metadata": {
  "kernelspec": {
   "display_name": "Python 3 (ipykernel)",
   "language": "python",
   "name": "python3"
  },
  "language_info": {
   "codemirror_mode": {
    "name": "ipython",
    "version": 3
   },
   "file_extension": ".py",
   "mimetype": "text/x-python",
   "name": "python",
   "nbconvert_exporter": "python",
   "pygments_lexer": "ipython3",
   "version": "3.9.12"
  }
 },
 "nbformat": 4,
 "nbformat_minor": 5
}
