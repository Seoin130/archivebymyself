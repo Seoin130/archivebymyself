{
 "cells": [
  {
   "cell_type": "code",
   "execution_count": 1,
   "id": "d22152e9",
   "metadata": {},
   "outputs": [
    {
     "name": "stdout",
     "output_type": "stream",
     "text": [
      "(1, 2, 'three') <class 'tuple'>\n"
     ]
    }
   ],
   "source": [
    "var1=(1,2,\"three\")\n",
    "print(var1, type(var1))"
   ]
  },
  {
   "cell_type": "code",
   "execution_count": 3,
   "id": "980a931b",
   "metadata": {},
   "outputs": [
    {
     "ename": "TypeError",
     "evalue": "'tuple' object does not support item assignment",
     "output_type": "error",
     "traceback": [
      "\u001b[1;31m---------------------------------------------------------------------------\u001b[0m",
      "\u001b[1;31mTypeError\u001b[0m                                 Traceback (most recent call last)",
      "Input \u001b[1;32mIn [3]\u001b[0m, in \u001b[0;36m<cell line: 1>\u001b[1;34m()\u001b[0m\n\u001b[1;32m----> 1\u001b[0m var1[\u001b[38;5;241m1\u001b[39m]\u001b[38;5;241m=\u001b[39m\u001b[38;5;241m3\u001b[39m\n",
      "\u001b[1;31mTypeError\u001b[0m: 'tuple' object does not support item assignment"
     ]
    }
   ],
   "source": [
    "var1[1]=3"
   ]
  },
  {
   "cell_type": "code",
   "execution_count": 4,
   "id": "ea069032",
   "metadata": {},
   "outputs": [
    {
     "name": "stdout",
     "output_type": "stream",
     "text": [
      "<class 'int'>\n"
     ]
    }
   ],
   "source": [
    "a=(4)\n",
    "print(type(a))"
   ]
  },
  {
   "cell_type": "code",
   "execution_count": 5,
   "id": "9f3c257f",
   "metadata": {},
   "outputs": [
    {
     "name": "stdout",
     "output_type": "stream",
     "text": [
      "<class 'tuple'>\n"
     ]
    }
   ],
   "source": [
    "a=(4,)\n",
    "print(type(a))"
   ]
  },
  {
   "cell_type": "code",
   "execution_count": 6,
   "id": "c4ce6f5e",
   "metadata": {},
   "outputs": [
    {
     "name": "stdout",
     "output_type": "stream",
     "text": [
      "1\n"
     ]
    }
   ],
   "source": [
    "var=(\"파\", \"이\", \"썬\")\n",
    "where_is_2=var.index(\"이\")\n",
    "print(where_is_2)"
   ]
  },
  {
   "cell_type": "code",
   "execution_count": 7,
   "id": "6c9598e7",
   "metadata": {},
   "outputs": [
    {
     "name": "stdout",
     "output_type": "stream",
     "text": [
      "2\n"
     ]
    }
   ],
   "source": [
    "var=(1,2,3,3,2)\n",
    "how_many_2=var.count(2)\n",
    "print(how_many_2)"
   ]
  },
  {
   "cell_type": "code",
   "execution_count": 8,
   "id": "18a75b8f",
   "metadata": {},
   "outputs": [
    {
     "ename": "TypeError",
     "evalue": "'set' object is not subscriptable",
     "output_type": "error",
     "traceback": [
      "\u001b[1;31m---------------------------------------------------------------------------\u001b[0m",
      "\u001b[1;31mTypeError\u001b[0m                                 Traceback (most recent call last)",
      "Input \u001b[1;32mIn [8]\u001b[0m, in \u001b[0;36m<cell line: 2>\u001b[1;34m()\u001b[0m\n\u001b[0;32m      1\u001b[0m var\u001b[38;5;241m=\u001b[39m{\u001b[38;5;241m1\u001b[39m,\u001b[38;5;241m2\u001b[39m,\u001b[38;5;124m\"\u001b[39m\u001b[38;5;124mthree\u001b[39m\u001b[38;5;124m\"\u001b[39m}\n\u001b[1;32m----> 2\u001b[0m \u001b[38;5;28mprint\u001b[39m(\u001b[43mvar\u001b[49m\u001b[43m[\u001b[49m\u001b[38;5;241;43m1\u001b[39;49m\u001b[43m]\u001b[49m)\n",
      "\u001b[1;31mTypeError\u001b[0m: 'set' object is not subscriptable"
     ]
    }
   ],
   "source": [
    "var={1,2,\"three\"}\n",
    "print(var[1])"
   ]
  },
  {
   "cell_type": "code",
   "execution_count": 9,
   "id": "0029b7d4",
   "metadata": {},
   "outputs": [
    {
     "name": "stdout",
     "output_type": "stream",
     "text": [
      "{'three', (1, 2)}\n"
     ]
    }
   ],
   "source": [
    "var={(1,2,), \"three\"}\n",
    "print(var)"
   ]
  },
  {
   "cell_type": "code",
   "execution_count": 10,
   "id": "28ec5e32",
   "metadata": {},
   "outputs": [
    {
     "ename": "TypeError",
     "evalue": "unhashable type: 'list'",
     "output_type": "error",
     "traceback": [
      "\u001b[1;31m---------------------------------------------------------------------------\u001b[0m",
      "\u001b[1;31mTypeError\u001b[0m                                 Traceback (most recent call last)",
      "Input \u001b[1;32mIn [10]\u001b[0m, in \u001b[0;36m<cell line: 1>\u001b[1;34m()\u001b[0m\n\u001b[1;32m----> 1\u001b[0m var\u001b[38;5;241m=\u001b[39m{[\u001b[38;5;241m1\u001b[39m,\u001b[38;5;241m2\u001b[39m], \u001b[38;5;124m\"\u001b[39m\u001b[38;5;124mthree\u001b[39m\u001b[38;5;124m\"\u001b[39m}\n\u001b[0;32m      2\u001b[0m \u001b[38;5;28mprint\u001b[39m(var)\n",
      "\u001b[1;31mTypeError\u001b[0m: unhashable type: 'list'"
     ]
    }
   ],
   "source": [
    "var={[1,2], \"three\"}\n",
    "print(var)"
   ]
  },
  {
   "cell_type": "code",
   "execution_count": 12,
   "id": "3207a101",
   "metadata": {},
   "outputs": [
    {
     "name": "stdout",
     "output_type": "stream",
     "text": [
      "('kim', 'lee', 'park', 'kim', 'park', 'hong')\n"
     ]
    }
   ],
   "source": [
    "students_2022=(\"kim\", \"lee\", \"park\")\n",
    "students_2023=(\"kim\", \"park\", \"hong\")\n",
    "all_students=students_2022+students_2023\n",
    "unique_students=set(all_students)\n",
    "print(all_students)"
   ]
  },
  {
   "cell_type": "code",
   "execution_count": 14,
   "id": "d2091093",
   "metadata": {},
   "outputs": [
    {
     "name": "stdout",
     "output_type": "stream",
     "text": [
      "{'lee', 'kim', 'park', 'hong'}\n"
     ]
    }
   ],
   "source": [
    "students_2022={\"kim\", \"lee\", \"park\"}\n",
    "students_2023={\"kim\", \"park\", \"hong\"}\n",
    "result=students_2022.union(students_2023)\n",
    "print(result)"
   ]
  },
  {
   "cell_type": "code",
   "execution_count": 15,
   "id": "f65aa91c",
   "metadata": {},
   "outputs": [
    {
     "name": "stdout",
     "output_type": "stream",
     "text": [
      "{'lee'}\n"
     ]
    }
   ],
   "source": [
    "result1=students_2022.difference(students_2023)\n",
    "print(result1)"
   ]
  },
  {
   "cell_type": "code",
   "execution_count": 16,
   "id": "4eabe1dd",
   "metadata": {},
   "outputs": [
    {
     "name": "stdout",
     "output_type": "stream",
     "text": [
      "{'hong'}\n"
     ]
    }
   ],
   "source": [
    "result2=students_2023.difference(students_2022)\n",
    "print(result2)"
   ]
  },
  {
   "cell_type": "code",
   "execution_count": 17,
   "id": "5dd0e0cc",
   "metadata": {},
   "outputs": [
    {
     "name": "stdout",
     "output_type": "stream",
     "text": [
      "{'Park': '010-1234-5678', 'Kim': '010-9876-5432'}\n"
     ]
    }
   ],
   "source": [
    "d=dict()\n",
    "d['Park']='010-1234-5678'\n",
    "d['Kim']='010-9876-5432'\n",
    "print(d)"
   ]
  },
  {
   "cell_type": "code",
   "execution_count": 18,
   "id": "54d8414d",
   "metadata": {},
   "outputs": [
    {
     "name": "stdout",
     "output_type": "stream",
     "text": [
      "100\n"
     ]
    }
   ],
   "source": [
    "score=dict()\n",
    "score['Park']=100\n",
    "score['Lee']=90\n",
    "score['Yoon']=80\n",
    "print(score[\"Park\"])"
   ]
  },
  {
   "cell_type": "code",
   "execution_count": 19,
   "id": "c0492595",
   "metadata": {},
   "outputs": [
    {
     "name": "stdout",
     "output_type": "stream",
     "text": [
      "100\n"
     ]
    }
   ],
   "source": [
    "result2=score.get(\"Park\")\n",
    "print(result2)"
   ]
  },
  {
   "cell_type": "code",
   "execution_count": 20,
   "id": "4cfe3f1d",
   "metadata": {},
   "outputs": [
    {
     "name": "stdout",
     "output_type": "stream",
     "text": [
      "{'Park': 100, 'Lee': 90, 'Yoon': 80}\n"
     ]
    }
   ],
   "source": [
    "print(score)"
   ]
  },
  {
   "cell_type": "code",
   "execution_count": 21,
   "id": "c604c258",
   "metadata": {},
   "outputs": [
    {
     "name": "stdout",
     "output_type": "stream",
     "text": [
      "dict_values([100, 90, 80])\n"
     ]
    }
   ],
   "source": [
    "values=score.values()\n",
    "print(values)"
   ]
  },
  {
   "cell_type": "code",
   "execution_count": 22,
   "id": "519b5734",
   "metadata": {},
   "outputs": [
    {
     "name": "stdout",
     "output_type": "stream",
     "text": [
      "(100, 90, 80)\n"
     ]
    }
   ],
   "source": [
    "print(tuple(values))"
   ]
  },
  {
   "cell_type": "code",
   "execution_count": 24,
   "id": "06994073",
   "metadata": {},
   "outputs": [
    {
     "name": "stdout",
     "output_type": "stream",
     "text": [
      "('Park', 'Lee', 'Yoon')\n"
     ]
    }
   ],
   "source": [
    "keys=score.keys()\n",
    "print(tuple(keys))"
   ]
  },
  {
   "cell_type": "code",
   "execution_count": 25,
   "id": "64070ff6",
   "metadata": {},
   "outputs": [
    {
     "name": "stdout",
     "output_type": "stream",
     "text": [
      "dict_items([('Park', 100), ('Lee', 90), ('Yoon', 80)])\n"
     ]
    }
   ],
   "source": [
    "items=score.items()\n",
    "print(items)"
   ]
  },
  {
   "cell_type": "code",
   "execution_count": 26,
   "id": "89d3cc1c",
   "metadata": {},
   "outputs": [
    {
     "name": "stdout",
     "output_type": "stream",
     "text": [
      "[('Park', 100), ('Lee', 90), ('Yoon', 80)]\n",
      "(('Park', 100), ('Lee', 90), ('Yoon', 80))\n"
     ]
    }
   ],
   "source": [
    "print(list(items))\n",
    "print(tuple(items))"
   ]
  },
  {
   "cell_type": "code",
   "execution_count": 27,
   "id": "32bf1f21",
   "metadata": {},
   "outputs": [
    {
     "name": "stdout",
     "output_type": "stream",
     "text": [
      "{'Park': 100, 'Lee': 90, 'Yoon': 80} 100\n"
     ]
    }
   ],
   "source": [
    "item=score.setdefault(\"Park\", 99)\n",
    "print(score, item)"
   ]
  },
  {
   "cell_type": "code",
   "execution_count": 28,
   "id": "a5f66825",
   "metadata": {},
   "outputs": [
    {
     "name": "stdout",
     "output_type": "stream",
     "text": [
      "{'Park': 100, 'Lee': 90, 'Yoon': 80, 'Hong': 99} 99\n"
     ]
    }
   ],
   "source": [
    "item=score.setdefault(\"Hong\", 99)\n",
    "print(score, item)"
   ]
  },
  {
   "cell_type": "code",
   "execution_count": 29,
   "id": "69445a5b",
   "metadata": {},
   "outputs": [
    {
     "name": "stdout",
     "output_type": "stream",
     "text": [
      "Park Kim Lee ['Park', 'Kim', 'Lee']\n"
     ]
    }
   ],
   "source": [
    "names=\"Park Kim Lee\"\n",
    "name_list=names.split()\n",
    "print(names, name_list)"
   ]
  },
  {
   "cell_type": "code",
   "execution_count": 30,
   "id": "06393a67",
   "metadata": {},
   "outputs": [
    {
     "name": "stdout",
     "output_type": "stream",
     "text": [
      "P,a,r,k, ,K,i,m, ,L,e,e\n"
     ]
    }
   ],
   "source": [
    "names_str=\",\".join(names)\n",
    "print(names_str)"
   ]
  },
  {
   "cell_type": "code",
   "execution_count": 31,
   "id": "33432a5f",
   "metadata": {},
   "outputs": [
    {
     "name": "stdout",
     "output_type": "stream",
     "text": [
      "Park,Sangkeun\n"
     ]
    }
   ],
   "source": [
    "name=\"Park\", \"Sangkeun\"\n",
    "naming_list=\",\".join(name)\n",
    "print(naming_list)"
   ]
  },
  {
   "cell_type": "code",
   "execution_count": 32,
   "id": "7e2adf5e",
   "metadata": {},
   "outputs": [
    {
     "name": "stdout",
     "output_type": "stream",
     "text": [
      "['Park', 'Kim'] <class 'str'>\n"
     ]
    }
   ],
   "source": [
    "names=['Park', 'Kim']\n",
    "s=str(names)\n",
    "print(s, type(s))"
   ]
  },
  {
   "cell_type": "code",
   "execution_count": 33,
   "id": "7ae63679",
   "metadata": {},
   "outputs": [
    {
     "name": "stdout",
     "output_type": "stream",
     "text": [
      "['Pa\n"
     ]
    }
   ],
   "source": [
    "print(s[0:4])"
   ]
  },
  {
   "cell_type": "code",
   "execution_count": 34,
   "id": "76180b3c",
   "metadata": {},
   "outputs": [
    {
     "name": "stdout",
     "output_type": "stream",
     "text": [
      "{'Park': 1, 'Lee': 2} <class 'str'>\n"
     ]
    }
   ],
   "source": [
    "names={\"Park\":1, \"Lee\":2}\n",
    "s=str(names)\n",
    "print(s, type(s))"
   ]
  },
  {
   "cell_type": "code",
   "execution_count": 35,
   "id": "0dc6c566",
   "metadata": {},
   "outputs": [
    {
     "name": "stdout",
     "output_type": "stream",
     "text": [
      "{'Pa\n"
     ]
    }
   ],
   "source": [
    "print(s[0:4])"
   ]
  },
  {
   "cell_type": "code",
   "execution_count": 36,
   "id": "e8bd5175",
   "metadata": {},
   "outputs": [
    {
     "name": "stdout",
     "output_type": "stream",
     "text": [
      "[1, 2, 3, {5}, 6]\n"
     ]
    }
   ],
   "source": [
    "L1=[1,2,3,{4,5},6]\n",
    "L2=L1[:]\n",
    "L1[3].remove(4)\n",
    "print(L1)"
   ]
  },
  {
   "cell_type": "code",
   "execution_count": 37,
   "id": "0958f9e3",
   "metadata": {},
   "outputs": [
    {
     "name": "stdout",
     "output_type": "stream",
     "text": [
      "[1, 2, {'Park': 100, 'Lee': 80}]\n"
     ]
    }
   ],
   "source": [
    "L1=[1,2,{\"Park\":90, \"Lee\":80}]\n",
    "L2=L1[:]\n",
    "L1[2][\"Park\"]=100\n",
    "print(L1)"
   ]
  },
  {
   "cell_type": "code",
   "execution_count": 38,
   "id": "06ab62a6",
   "metadata": {},
   "outputs": [
    {
     "name": "stdout",
     "output_type": "stream",
     "text": [
      "[1, 2, {'Park': 100, 'Lee': 80}]\n"
     ]
    }
   ],
   "source": [
    "print(L2)"
   ]
  },
  {
   "cell_type": "code",
   "execution_count": null,
   "id": "205fd74c",
   "metadata": {},
   "outputs": [],
   "source": []
  }
 ],
 "metadata": {
  "kernelspec": {
   "display_name": "Python 3 (ipykernel)",
   "language": "python",
   "name": "python3"
  },
  "language_info": {
   "codemirror_mode": {
    "name": "ipython",
    "version": 3
   },
   "file_extension": ".py",
   "mimetype": "text/x-python",
   "name": "python",
   "nbconvert_exporter": "python",
   "pygments_lexer": "ipython3",
   "version": "3.9.12"
  }
 },
 "nbformat": 4,
 "nbformat_minor": 5
}
