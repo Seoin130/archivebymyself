{
 "cells": [
  {
   "cell_type": "code",
   "execution_count": 1,
   "id": "03ca0b58",
   "metadata": {},
   "outputs": [
    {
     "ename": "TypeError",
     "evalue": "get_name_upper() takes 0 positional arguments but 1 was given",
     "output_type": "error",
     "traceback": [
      "\u001b[1;31m---------------------------------------------------------------------------\u001b[0m",
      "\u001b[1;31mTypeError\u001b[0m                                 Traceback (most recent call last)",
      "Input \u001b[1;32mIn [1]\u001b[0m, in \u001b[0;36m<cell line: 8>\u001b[1;34m()\u001b[0m\n\u001b[0;32m      6\u001b[0m         \u001b[38;5;28;01mreturn\u001b[39;00m \u001b[38;5;28mself\u001b[39m\u001b[38;5;241m.\u001b[39mname\u001b[38;5;241m.\u001b[39mupper()\n\u001b[0;32m      7\u001b[0m p\u001b[38;5;241m=\u001b[39mPerson(\u001b[38;5;124m\"\u001b[39m\u001b[38;5;124mPark\u001b[39m\u001b[38;5;124m\"\u001b[39m, \u001b[38;5;241m20\u001b[39m)\n\u001b[1;32m----> 8\u001b[0m \u001b[38;5;28mprint\u001b[39m(\u001b[43mp\u001b[49m\u001b[38;5;241;43m.\u001b[39;49m\u001b[43mget_name_upper\u001b[49m\u001b[43m(\u001b[49m\u001b[43m)\u001b[49m[\u001b[38;5;241m-\u001b[39m\u001b[38;5;241m1\u001b[39m])\n",
      "\u001b[1;31mTypeError\u001b[0m: get_name_upper() takes 0 positional arguments but 1 was given"
     ]
    }
   ],
   "source": [
    "class Person:\n",
    "    def __init__(self, name, age=0):\n",
    "        self.name=name\n",
    "        self.age=age\n",
    "    def get_name_upper():\n",
    "        return self.name.upper()\n",
    "p=Person(\"Park\", 20)\n",
    "print(p.get_name_upper()[-1])"
   ]
  },
  {
   "cell_type": "code",
   "execution_count": 2,
   "id": "848a662c",
   "metadata": {},
   "outputs": [
    {
     "ename": "AttributeError",
     "evalue": "'int' object has no attribute 'age'",
     "output_type": "error",
     "traceback": [
      "\u001b[1;31m---------------------------------------------------------------------------\u001b[0m",
      "\u001b[1;31mAttributeError\u001b[0m                            Traceback (most recent call last)",
      "Input \u001b[1;32mIn [2]\u001b[0m, in \u001b[0;36m<cell line: 10>\u001b[1;34m()\u001b[0m\n\u001b[0;32m      7\u001b[0m p1\u001b[38;5;241m=\u001b[39mPerson(\u001b[38;5;124m\"\u001b[39m\u001b[38;5;124mLee\u001b[39m\u001b[38;5;124m\"\u001b[39m, \u001b[38;5;241m20\u001b[39m)\n\u001b[0;32m      8\u001b[0m p2\u001b[38;5;241m=\u001b[39mPerson(\u001b[38;5;124m\"\u001b[39m\u001b[38;5;124mKim\u001b[39m\u001b[38;5;124m\"\u001b[39m, \u001b[38;5;241m21\u001b[39m)\n\u001b[1;32m---> 10\u001b[0m \u001b[38;5;28mprint\u001b[39m(\u001b[43mPerson\u001b[49m\u001b[38;5;241;43m.\u001b[39;49m\u001b[38;5;21;43m__add__\u001b[39;49m\u001b[43m(\u001b[49m\u001b[43mp1\u001b[49m\u001b[38;5;241;43m.\u001b[39;49m\u001b[43mage\u001b[49m\u001b[43m,\u001b[49m\u001b[43m \u001b[49m\u001b[43mp2\u001b[49m\u001b[38;5;241;43m.\u001b[39;49m\u001b[43mage\u001b[49m\u001b[43m)\u001b[49m)\n\u001b[0;32m     11\u001b[0m \u001b[38;5;28mprint\u001b[39m(Person\u001b[38;5;241m.\u001b[39m\u001b[38;5;21m__add__\u001b[39m(p1,p2))\n",
      "Input \u001b[1;32mIn [2]\u001b[0m, in \u001b[0;36mPerson.__add__\u001b[1;34m(self, p)\u001b[0m\n\u001b[0;32m      5\u001b[0m \u001b[38;5;28;01mdef\u001b[39;00m \u001b[38;5;21m__add__\u001b[39m(\u001b[38;5;28mself\u001b[39m, p):\n\u001b[1;32m----> 6\u001b[0m     \u001b[38;5;28;01mreturn\u001b[39;00m \u001b[38;5;28;43mself\u001b[39;49m\u001b[38;5;241;43m.\u001b[39;49m\u001b[43mage\u001b[49m\u001b[38;5;241m+\u001b[39mp\u001b[38;5;241m.\u001b[39mage\n",
      "\u001b[1;31mAttributeError\u001b[0m: 'int' object has no attribute 'age'"
     ]
    }
   ],
   "source": [
    "class Person:\n",
    "    def __init__(self, name, age=0):\n",
    "        self.name=name\n",
    "        self.age=age\n",
    "    def __add__(self, p):\n",
    "        return self.age+p.age\n",
    "p1=Person(\"Lee\", 20)\n",
    "p2=Person(\"Kim\", 21)\n",
    "\n",
    "print(Person.__add__(p1.age, p2.age))\n",
    "print(Person.__add__(p1,p2))"
   ]
  },
  {
   "cell_type": "code",
   "execution_count": 3,
   "id": "3eec1fa3",
   "metadata": {},
   "outputs": [
    {
     "name": "stdout",
     "output_type": "stream",
     "text": [
      "I am B\n",
      "I am A\n"
     ]
    }
   ],
   "source": [
    "class A:\n",
    "    def hello(self):\n",
    "        print(\"I am A\")\n",
    "class B(A):\n",
    "    def hello(self):\n",
    "        print(\"I am B\")\n",
    "class C(B):\n",
    "    def hello(self):\n",
    "        print(\"I am C\")\n",
    "c=C()\n",
    "super(C,c).hello()\n",
    "super(B,c).hello()"
   ]
  },
  {
   "cell_type": "code",
   "execution_count": 4,
   "id": "51a7f77c",
   "metadata": {},
   "outputs": [
    {
     "name": "stdout",
     "output_type": "stream",
     "text": [
      "Lucy\n"
     ]
    }
   ],
   "source": [
    "class Pet:\n",
    "    def __init__(self, name):\n",
    "        self.name=name\n",
    "    def cry(self):\n",
    "        return self.name\n",
    "class Duck(Pet):\n",
    "    def cry(self):\n",
    "        return \"Quak!\"\n",
    "d=Duck(\"Lucy\")\n",
    "print(super(Duck, d).cry())"
   ]
  },
  {
   "cell_type": "code",
   "execution_count": 5,
   "id": "47ba5169",
   "metadata": {},
   "outputs": [
    {
     "name": "stdout",
     "output_type": "stream",
     "text": [
      "Lucy doesn't cry!\n"
     ]
    }
   ],
   "source": [
    "class Pet:\n",
    "    def __init__(self, name):\n",
    "        self.name=name\n",
    "    def cry(self):\n",
    "        return self.name\n",
    "class Duck(Pet):\n",
    "    def cry(self):\n",
    "        sound=super(Duck, self).cry()\n",
    "        sound+=\" doesn't cry!\"\n",
    "        return sound\n",
    "d=Duck(\"Lucy\")\n",
    "print(d.cry())"
   ]
  },
  {
   "cell_type": "code",
   "execution_count": 6,
   "id": "7f7de213",
   "metadata": {},
   "outputs": [
    {
     "name": "stdout",
     "output_type": "stream",
     "text": [
      "I am a mother.\n"
     ]
    }
   ],
   "source": [
    "class Mother():\n",
    "    def __init__(self, name):\n",
    "        self.name=name\n",
    "        print(\"I am a mother.\")\n",
    "class Father():\n",
    "    def __init__(self, name):\n",
    "        self.name=name\n",
    "        print(\"I am a father.\")\n",
    "class Child(Mother, Father):\n",
    "    def __init__(self, name):\n",
    "        super().__init__(name)\n",
    "me=Child(\"Park\")"
   ]
  },
  {
   "cell_type": "code",
   "execution_count": 7,
   "id": "e2020b3d",
   "metadata": {},
   "outputs": [
    {
     "name": "stdout",
     "output_type": "stream",
     "text": [
      "I am a father.\n"
     ]
    }
   ],
   "source": [
    "class Ancient():\n",
    "    def __init__(self, name):\n",
    "        self.name=name\n",
    "        print(\"I am an ancient\")\n",
    "class Mother(Ancient):\n",
    "    def __init__(self, name):\n",
    "        super().__init__(name)\n",
    "class Father(Ancient):\n",
    "    def __init__(self, name):\n",
    "        self.name=name\n",
    "        print(\"I am a father.\")\n",
    "class Child(Mother, Father):\n",
    "    def __init__(self, name):\n",
    "        super().__init__(name)\n",
    "c=Child(\"Park\")"
   ]
  },
  {
   "cell_type": "code",
   "execution_count": 8,
   "id": "76064d04",
   "metadata": {},
   "outputs": [
    {
     "ename": "AttributeError",
     "evalue": "'String' object has no attribute 'upper'",
     "output_type": "error",
     "traceback": [
      "\u001b[1;31m---------------------------------------------------------------------------\u001b[0m",
      "\u001b[1;31mAttributeError\u001b[0m                            Traceback (most recent call last)",
      "Input \u001b[1;32mIn [8]\u001b[0m, in \u001b[0;36m<cell line: 9>\u001b[1;34m()\u001b[0m\n\u001b[0;32m      7\u001b[0m         \u001b[38;5;28;01mreturn\u001b[39;00m IVE\u001b[38;5;241m.\u001b[39mupper()\n\u001b[0;32m      8\u001b[0m s\u001b[38;5;241m=\u001b[39mString(\u001b[38;5;124m\"\u001b[39m\u001b[38;5;124mPark\u001b[39m\u001b[38;5;124m\"\u001b[39m)\n\u001b[1;32m----> 9\u001b[0m \u001b[38;5;28mprint\u001b[39m(\u001b[43ms\u001b[49m\u001b[38;5;241;43m.\u001b[39;49m\u001b[43mget_lower\u001b[49m\u001b[43m(\u001b[49m\u001b[43m)\u001b[49m)\n",
      "Input \u001b[1;32mIn [8]\u001b[0m, in \u001b[0;36mString.get_lower\u001b[1;34m(IVE)\u001b[0m\n\u001b[0;32m      6\u001b[0m \u001b[38;5;28;01mdef\u001b[39;00m \u001b[38;5;21mget_lower\u001b[39m(IVE):\n\u001b[1;32m----> 7\u001b[0m     \u001b[38;5;28;01mreturn\u001b[39;00m \u001b[43mIVE\u001b[49m\u001b[38;5;241;43m.\u001b[39;49m\u001b[43mupper\u001b[49m()\n",
      "\u001b[1;31mAttributeError\u001b[0m: 'String' object has no attribute 'upper'"
     ]
    }
   ],
   "source": [
    "class String:\n",
    "    num_instance=0\n",
    "    def __init__(self, s=''):\n",
    "        self.string=s\n",
    "        String.num_instance+=1\n",
    "    def get_lower(IVE):\n",
    "        return IVE.upper()\n",
    "s=String(\"Park\")\n",
    "print(s.get_lower())"
   ]
  },
  {
   "cell_type": "code",
   "execution_count": 9,
   "id": "6951ee6a",
   "metadata": {},
   "outputs": [
    {
     "name": "stdout",
     "output_type": "stream",
     "text": [
      "5 5\n"
     ]
    }
   ],
   "source": [
    "class Account:\n",
    "    rate=5\n",
    "    def __init__(self, balance):\n",
    "        self.balance=balance\n",
    "    def set_rate(value):\n",
    "        Account.rate=value\n",
    "a1=Account(0)\n",
    "a2=Account(0)\n",
    "print(a1.rate, a2.rate)"
   ]
  },
  {
   "cell_type": "code",
   "execution_count": 10,
   "id": "c4be65b7",
   "metadata": {},
   "outputs": [
    {
     "name": "stdout",
     "output_type": "stream",
     "text": [
      "9 9\n"
     ]
    }
   ],
   "source": [
    "Account.set_rate(9)\n",
    "print(a1.rate, a2.rate)"
   ]
  },
  {
   "cell_type": "code",
   "execution_count": 11,
   "id": "55f4d2d6",
   "metadata": {},
   "outputs": [
    {
     "name": "stdout",
     "output_type": "stream",
     "text": [
      "9 9 9 9\n"
     ]
    }
   ],
   "source": [
    "class HanaAccount(Account):\n",
    "    pass\n",
    "a1,a2=Account(100), Account(100)\n",
    "h1,h2=HanaAccount(100), HanaAccount(100)\n",
    "print(a1.rate, a2.rate, h1.rate, h2.rate)"
   ]
  },
  {
   "cell_type": "code",
   "execution_count": 12,
   "id": "d95bfc3a",
   "metadata": {},
   "outputs": [
    {
     "name": "stdout",
     "output_type": "stream",
     "text": [
      "10 10 10 10\n"
     ]
    }
   ],
   "source": [
    "HanaAccount.set_rate(10)\n",
    "print(a1.rate, a2.rate, h1.rate, h2.rate)"
   ]
  },
  {
   "cell_type": "code",
   "execution_count": 13,
   "id": "592ce732",
   "metadata": {},
   "outputs": [
    {
     "name": "stdout",
     "output_type": "stream",
     "text": [
      "5 5 5 5\n",
      "10 10 10 10\n"
     ]
    }
   ],
   "source": [
    "class Account:\n",
    "    rate=5\n",
    "    def __init__(self, balance):\n",
    "        self.balance=balance\n",
    "    @classmethod\n",
    "    def set_rate(cls, value):\n",
    "        cls.rate=value\n",
    "class HanaAccount(Account):\n",
    "    pass\n",
    "a1,a2=Account(100), Account(100)\n",
    "h1,h2=HanaAccount(100), HanaAccount(100)\n",
    "print(a1.rate, a2.rate, h1.rate, h2.rate)\n",
    "Account.set_rate(10)\n",
    "print(a1.rate, a2.rate, h1.rate, h2.rate)"
   ]
  },
  {
   "cell_type": "code",
   "execution_count": 14,
   "id": "8925e3d9",
   "metadata": {},
   "outputs": [
    {
     "name": "stdout",
     "output_type": "stream",
     "text": [
      "5 5 5 5\n",
      "1 10 4 10\n"
     ]
    }
   ],
   "source": [
    "class Account:\n",
    "    rate=5\n",
    "    def __init__(self, balance):\n",
    "        self.balance=balance\n",
    "    @classmethod\n",
    "    def set_rate(cls, value):\n",
    "        cls.rate=value\n",
    "class HanaAccount(Account):\n",
    "    pass\n",
    "a1,a2=Account(100), Account(100)\n",
    "h1,h2=HanaAccount(100), HanaAccount(100)\n",
    "print(a1.rate, a2.rate, h1.rate, h2.rate)\n",
    "a1.rate=1\n",
    "h1.rate=4\n",
    "Account.set_rate(10)\n",
    "print(a1.rate, a2.rate, h1.rate, h2.rate)"
   ]
  },
  {
   "cell_type": "code",
   "execution_count": 15,
   "id": "1a8f3064",
   "metadata": {},
   "outputs": [
    {
     "name": "stdout",
     "output_type": "stream",
     "text": [
      "123 10\n",
      "456 10\n",
      "16\n",
      "16\n",
      "16\n"
     ]
    }
   ],
   "source": [
    "class Num:\n",
    "    base=10\n",
    "    def __init__(self, number):\n",
    "        self.number=number\n",
    "num1=Num(123)\n",
    "print(num1.number, num1.base)\n",
    "num2=Num(456)\n",
    "print(num2.number, num2.base)\n",
    "Num.base=16\n",
    "print(Num.base)\n",
    "print(num1.base)\n",
    "print(num2.base)"
   ]
  },
  {
   "cell_type": "code",
   "execution_count": 16,
   "id": "74cc3551",
   "metadata": {},
   "outputs": [
    {
     "name": "stdout",
     "output_type": "stream",
     "text": [
      "16\n"
     ]
    }
   ],
   "source": [
    "class Num:\n",
    "    base=10\n",
    "    def __init__(self, number):\n",
    "        self.number=number\n",
    "    def set_base(base):\n",
    "        if isinstance(base, int):\n",
    "            Num.base=base\n",
    "        else:\n",
    "            raise ValueError\n",
    "Num.set_base(16)\n",
    "print(Num.base)"
   ]
  },
  {
   "cell_type": "code",
   "execution_count": 17,
   "id": "1c9405ad",
   "metadata": {},
   "outputs": [
    {
     "name": "stdout",
     "output_type": "stream",
     "text": [
      "2 2\n"
     ]
    }
   ],
   "source": [
    "class Num:\n",
    "    base=10\n",
    "    def __init__(self, number):\n",
    "        self.number=number\n",
    "    def set_base(base):\n",
    "        if isinstance(base, int):\n",
    "            Num.base=base\n",
    "        else:\n",
    "            raise ValueError\n",
    "class Binary(Num):\n",
    "    pass\n",
    "Binary.set_base(2)\n",
    "print(Num.base, Binary.base)"
   ]
  },
  {
   "cell_type": "code",
   "execution_count": 18,
   "id": "91d77848",
   "metadata": {},
   "outputs": [
    {
     "name": "stdout",
     "output_type": "stream",
     "text": [
      "10 2\n"
     ]
    }
   ],
   "source": [
    "class Num:\n",
    "    base=10\n",
    "    def __init__(self, number):\n",
    "        self.number=number\n",
    "    @classmethod\n",
    "    def set_base(cls, base):\n",
    "        if isinstance(base, int):\n",
    "            cls.base=base\n",
    "        else:\n",
    "            raise ValueError\n",
    "class Binary(Num):\n",
    "    pass\n",
    "Binary.set_base(2)\n",
    "print(Num.base, Binary.base)"
   ]
  },
  {
   "cell_type": "code",
   "execution_count": 19,
   "id": "daef1c87",
   "metadata": {},
   "outputs": [
    {
     "name": "stdout",
     "output_type": "stream",
     "text": [
      "The result is 579\n",
      "The result is 30\n"
     ]
    }
   ],
   "source": [
    "class Num:\n",
    "    base=10\n",
    "    def __init__(self, number):\n",
    "        self.number=number\n",
    "    def __add__(self, other):\n",
    "        return self.number+other.number\n",
    "    @staticmethod\n",
    "    def print_sum(a,b):\n",
    "        print(f\"The result is {a+b}\")\n",
    "num1=Num(123)\n",
    "num2=Num(456)\n",
    "Num.print_sum(num1, num2)\n",
    "num1.print_sum(10,20)"
   ]
  },
  {
   "cell_type": "code",
   "execution_count": 20,
   "id": "24579bd0",
   "metadata": {},
   "outputs": [
    {
     "name": "stdout",
     "output_type": "stream",
     "text": [
      "Woof!\n",
      "Meow!\n",
      "Quak!\n"
     ]
    }
   ],
   "source": [
    "class Dog:\n",
    "    def cry(self):\n",
    "        return \"Woof!\"\n",
    "class Cat:\n",
    "    def cry(self):\n",
    "        return \"Meow!\"\n",
    "class Duck:\n",
    "    def cry(self):\n",
    "        return \"Quak!\"\n",
    "def crying(something):\n",
    "    return something.cry()\n",
    "dog=Dog()\n",
    "cat=Cat()\n",
    "duck=Duck()\n",
    "print(crying(dog))\n",
    "print(crying(cat))\n",
    "print(crying(duck))"
   ]
  },
  {
   "cell_type": "code",
   "execution_count": 21,
   "id": "ab1fff54",
   "metadata": {},
   "outputs": [
    {
     "name": "stdout",
     "output_type": "stream",
     "text": [
      "HELLO\n",
      "Name\n",
      "abc\n"
     ]
    }
   ],
   "source": [
    "class MyName():\n",
    "    def upper(self):\n",
    "        return \"Name\"\n",
    "class ABC():\n",
    "    def upper(self):\n",
    "        return \"abc\"\n",
    "def call_upper(something):\n",
    "    return something.upper()\n",
    "s=\"Hello\"\n",
    "myname=MyName()\n",
    "abc=ABC()\n",
    "print(call_upper(s))\n",
    "print(call_upper(myname))\n",
    "print(call_upper(abc))"
   ]
  },
  {
   "cell_type": "code",
   "execution_count": 22,
   "id": "859f0202",
   "metadata": {},
   "outputs": [
    {
     "name": "stdout",
     "output_type": "stream",
     "text": [
      "Help on class Person in module __main__:\n",
      "\n",
      "class Person(builtins.object)\n",
      " |  Person(name, height)\n",
      " |  \n",
      " |  This is Person class.\n",
      " |  \n",
      " |  Methods defined here:\n",
      " |  \n",
      " |  __init__(self, name, height)\n",
      " |      Initialize self.  See help(type(self)) for accurate signature.\n",
      " |  \n",
      " |  get_uppercase_name(self)\n",
      " |  \n",
      " |  ----------------------------------------------------------------------\n",
      " |  Data descriptors defined here:\n",
      " |  \n",
      " |  __dict__\n",
      " |      dictionary for instance variables (if defined)\n",
      " |  \n",
      " |  __weakref__\n",
      " |      list of weak references to the object (if defined)\n",
      "\n",
      "None\n"
     ]
    }
   ],
   "source": [
    "class Person:\n",
    "    \"\"\"This is Person class.\n",
    "    \"\"\"\n",
    "    def __init__(self, name, height):\n",
    "        self.name=name\n",
    "        self.height=height\n",
    "    def get_uppercase_name(self):\n",
    "        return self.name.upper()\n",
    "    \n",
    "print(help(Person))"
   ]
  },
  {
   "cell_type": "code",
   "execution_count": null,
   "id": "b63fb8fd",
   "metadata": {},
   "outputs": [],
   "source": [
    "class int(int):\n",
    "    def __add__(self, other):\n",
    "        return self+other+1\n",
    "a,b=int(10), int(20)\n",
    "print(a+b)"
   ]
  },
  {
   "cell_type": "code",
   "execution_count": null,
   "id": "5e3dae94",
   "metadata": {},
   "outputs": [],
   "source": [
    "a=int(10)\n",
    "b=int(20)\n",
    "c=__builtins__.int(10)\n",
    "d=20\n",
    "print(a)"
   ]
  },
  {
   "cell_type": "code",
   "execution_count": 3,
   "id": "56e16733",
   "metadata": {},
   "outputs": [
    {
     "name": "stdout",
     "output_type": "stream",
     "text": [
      "Check name!\n"
     ]
    }
   ],
   "source": [
    "class Parent:\n",
    "    class_val='class variable'\n",
    "    def __init__(self):\n",
    "        self.name='seoin'\n",
    "        self.age=22\n",
    "    @staticmethod\n",
    "    def check_name(name):\n",
    "        return name\n",
    "class Child(Parent):\n",
    "    pass\n",
    "child=Child()\n",
    "print(child.check_name('Check name!'))"
   ]
  },
  {
   "cell_type": "code",
   "execution_count": 4,
   "id": "1198576b",
   "metadata": {},
   "outputs": [
    {
     "name": "stdout",
     "output_type": "stream",
     "text": [
      "class variable\n",
      "Check Name!\n"
     ]
    }
   ],
   "source": [
    "class Parent:\n",
    "    class_val='class variable'\n",
    "    def __init__(self):\n",
    "        self.name='seoin'\n",
    "        self.age=22\n",
    "    @staticmethod\n",
    "    def check_name(name):\n",
    "        print(Parent.class_val)\n",
    "        return name\n",
    "class Child(Parent):\n",
    "    pass\n",
    "parent=Parent()\n",
    "print(parent.check_name('Check Name!'))"
   ]
  },
  {
   "cell_type": "code",
   "execution_count": 5,
   "id": "6b54b7ae",
   "metadata": {},
   "outputs": [
    {
     "name": "stdout",
     "output_type": "stream",
     "text": [
      "True\n"
     ]
    }
   ],
   "source": [
    "class Person(object):\n",
    "    def __init__(self, name):\n",
    "        self.name=name\n",
    "class Student(Person):\n",
    "    def __init__(self, name):\n",
    "        self.name=name\n",
    "s=Student(20)\n",
    "print(isinstance(s, Person))"
   ]
  },
  {
   "cell_type": "code",
   "execution_count": 6,
   "id": "f27c7f9a",
   "metadata": {},
   "outputs": [
    {
     "ename": "TypeError",
     "evalue": "issubclass() arg 1 must be a class",
     "output_type": "error",
     "traceback": [
      "\u001b[1;31m---------------------------------------------------------------------------\u001b[0m",
      "\u001b[1;31mTypeError\u001b[0m                                 Traceback (most recent call last)",
      "Input \u001b[1;32mIn [6]\u001b[0m, in \u001b[0;36m<cell line: 8>\u001b[1;34m()\u001b[0m\n\u001b[0;32m      6\u001b[0m         \u001b[38;5;28mself\u001b[39m\u001b[38;5;241m.\u001b[39mname\u001b[38;5;241m=\u001b[39mname\n\u001b[0;32m      7\u001b[0m s\u001b[38;5;241m=\u001b[39mStudent(\u001b[38;5;241m20\u001b[39m)\n\u001b[1;32m----> 8\u001b[0m \u001b[38;5;28mprint\u001b[39m(\u001b[38;5;28;43missubclass\u001b[39;49m\u001b[43m(\u001b[49m\u001b[43ms\u001b[49m\u001b[43m,\u001b[49m\u001b[38;5;28;43mobject\u001b[39;49m\u001b[43m)\u001b[49m)\n",
      "\u001b[1;31mTypeError\u001b[0m: issubclass() arg 1 must be a class"
     ]
    }
   ],
   "source": [
    "class Person:\n",
    "    def __init__(self, name):\n",
    "        self.name=name\n",
    "class Student(Person):\n",
    "    def __init__(self, name):\n",
    "        self.name=name\n",
    "s=Student(20)\n",
    "print(issubclass(s,object))"
   ]
  },
  {
   "cell_type": "code",
   "execution_count": 8,
   "id": "3934d399",
   "metadata": {},
   "outputs": [
    {
     "ename": "TypeError",
     "evalue": "Animal() takes no arguments",
     "output_type": "error",
     "traceback": [
      "\u001b[1;31m---------------------------------------------------------------------------\u001b[0m",
      "\u001b[1;31mTypeError\u001b[0m                                 Traceback (most recent call last)",
      "Input \u001b[1;32mIn [8]\u001b[0m, in \u001b[0;36m<cell line: 8>\u001b[1;34m()\u001b[0m\n\u001b[0;32m      6\u001b[0m     \u001b[38;5;28;01mdef\u001b[39;00m \u001b[38;5;21m__init__\u001b[39m(\u001b[38;5;28mself\u001b[39m, name, age, height):\n\u001b[0;32m      7\u001b[0m         \u001b[38;5;28mself\u001b[39m\u001b[38;5;241m.\u001b[39mheight\u001b[38;5;241m=\u001b[39mheight\n\u001b[1;32m----> 8\u001b[0m a\u001b[38;5;241m=\u001b[39m\u001b[43mAnimal\u001b[49m\u001b[43m(\u001b[49m\u001b[38;5;124;43m\"\u001b[39;49m\u001b[38;5;124;43mHorse\u001b[39;49m\u001b[38;5;124;43m\"\u001b[39;49m\u001b[43m,\u001b[49m\u001b[43m \u001b[49m\u001b[38;5;241;43m10\u001b[39;49m\u001b[43m)\u001b[49m\n\u001b[0;32m      9\u001b[0m d\u001b[38;5;241m=\u001b[39mDog(\u001b[38;5;124m\"\u001b[39m\u001b[38;5;124mDog\u001b[39m\u001b[38;5;124m\"\u001b[39m, \u001b[38;5;241m5\u001b[39m, \u001b[38;5;241m50\u001b[39m)\n\u001b[0;32m     10\u001b[0m \u001b[38;5;28mprint\u001b[39m(a\u001b[38;5;241m.\u001b[39mname, a\u001b[38;5;241m.\u001b[39mage, a\u001b[38;5;241m.\u001b[39mheight)\n",
      "\u001b[1;31mTypeError\u001b[0m: Animal() takes no arguments"
     ]
    }
   ],
   "source": [
    "class Animal:\n",
    "    name=\"Animal\"\n",
    "    age=0\n",
    "    height=0\n",
    "class Dog(Animal):\n",
    "    def __init__(self, name, age, height):\n",
    "        self.height=height\n",
    "a=Animal(\"Horse\", 10)\n",
    "d=Dog(\"Dog\", 5, 50)\n",
    "print(a.name, a.age, a.height)"
   ]
  },
  {
   "cell_type": "code",
   "execution_count": 9,
   "id": "68951d97",
   "metadata": {},
   "outputs": [
    {
     "name": "stdout",
     "output_type": "stream",
     "text": [
      "Error!\n"
     ]
    }
   ],
   "source": [
    "try:\n",
    "    a,b=1,0\n",
    "    c=a/b\n",
    "except:\n",
    "    print('Error!')"
   ]
  },
  {
   "cell_type": "code",
   "execution_count": 10,
   "id": "faea6b6e",
   "metadata": {},
   "outputs": [
    {
     "name": "stdout",
     "output_type": "stream",
     "text": [
      "1\n"
     ]
    }
   ],
   "source": [
    "class Person:\n",
    "    def __init__(self, name):\n",
    "        self.name=name\n",
    "class Student(Person):\n",
    "    def __init__(self, name):\n",
    "        self.name=name\n",
    "try:\n",
    "    s=Student(20)\n",
    "    print(issubclass(s, Person), end=\" \")\n",
    "except:\n",
    "    print(1)\n",
    "else:\n",
    "    print(2)"
   ]
  },
  {
   "cell_type": "code",
   "execution_count": 11,
   "id": "8f4485a5",
   "metadata": {},
   "outputs": [
    {
     "name": "stdout",
     "output_type": "stream",
     "text": [
      "finally\n"
     ]
    }
   ],
   "source": [
    "def convert_to_int(value):\n",
    "    try:\n",
    "        result=int(value)\n",
    "    except:\n",
    "        return \"except\"\n",
    "    else:\n",
    "        return \"else\"\n",
    "    finally:\n",
    "        return \"finally\"\n",
    "    return result\n",
    "print(convert_to_int(\"10\"))"
   ]
  },
  {
   "cell_type": "code",
   "execution_count": 14,
   "id": "a3abfaa3",
   "metadata": {},
   "outputs": [
    {
     "name": "stdout",
     "output_type": "stream",
     "text": [
      "400 400\n"
     ]
    }
   ],
   "source": [
    "class Book():\n",
    "    page=400\n",
    "    def __init__(self, t):\n",
    "        self.title=t\n",
    "    def set_page(page):\n",
    "        page=page\n",
    "class Magazine(Book):\n",
    "    pass\n",
    "b=Book(\"SQL for Data Analysis\")\n",
    "m=Magazine(\"Python\")\n",
    "Magazine.set_page(100)\n",
    "print(b.page, m.page)"
   ]
  },
  {
   "cell_type": "code",
   "execution_count": 16,
   "id": "17e1a964",
   "metadata": {},
   "outputs": [
    {
     "ename": "AttributeError",
     "evalue": "'WebPython' object has no attribute 'append'",
     "output_type": "error",
     "traceback": [
      "\u001b[1;31m---------------------------------------------------------------------------\u001b[0m",
      "\u001b[1;31mAttributeError\u001b[0m                            Traceback (most recent call last)",
      "Input \u001b[1;32mIn [16]\u001b[0m, in \u001b[0;36m<cell line: 5>\u001b[1;34m()\u001b[0m\n\u001b[0;32m      3\u001b[0m         \u001b[38;5;28mself\u001b[39m\u001b[38;5;241m.\u001b[39mstudents\u001b[38;5;241m=\u001b[39mstudents\n\u001b[0;32m      4\u001b[0m my_class\u001b[38;5;241m=\u001b[39mWebPython([\u001b[38;5;124m\"\u001b[39m\u001b[38;5;124mPark\u001b[39m\u001b[38;5;124m\"\u001b[39m, \u001b[38;5;124m\"\u001b[39m\u001b[38;5;124mLee\u001b[39m\u001b[38;5;124m\"\u001b[39m, \u001b[38;5;124m\"\u001b[39m\u001b[38;5;124mKim\u001b[39m\u001b[38;5;124m\"\u001b[39m])\n\u001b[1;32m----> 5\u001b[0m \u001b[43mmy_class\u001b[49m\u001b[38;5;241;43m.\u001b[39;49m\u001b[43mappend\u001b[49m(\u001b[38;5;124m\"\u001b[39m\u001b[38;5;124mCho\u001b[39m\u001b[38;5;124m\"\u001b[39m)\n\u001b[0;32m      6\u001b[0m \u001b[38;5;28mprint\u001b[39m(my_class\u001b[38;5;241m.\u001b[39mstudents)\n",
      "\u001b[1;31mAttributeError\u001b[0m: 'WebPython' object has no attribute 'append'"
     ]
    }
   ],
   "source": [
    "class WebPython:\n",
    "    def __init__(self, students):\n",
    "        self.students=students\n",
    "my_class=WebPython([\"Park\", \"Lee\", \"Kim\"])\n",
    "my_class.append(\"Cho\")\n",
    "print(my_class.students)"
   ]
  },
  {
   "cell_type": "code",
   "execution_count": 17,
   "id": "15e29cb2",
   "metadata": {},
   "outputs": [
    {
     "name": "stdout",
     "output_type": "stream",
     "text": [
      "['Park', 'Lee', 'Kim']\n"
     ]
    }
   ],
   "source": [
    "class WebPython:\n",
    "    def __init__(self, *names):\n",
    "        self.students=names\n",
    "my_class=WebPython([\"Park\", \"Lee\", \"Kim\"])\n",
    "print(my_class.students[0])"
   ]
  },
  {
   "cell_type": "code",
   "execution_count": 18,
   "id": "11351c35",
   "metadata": {},
   "outputs": [
    {
     "ename": "NameError",
     "evalue": "name 'num' is not defined",
     "output_type": "error",
     "traceback": [
      "\u001b[1;31m---------------------------------------------------------------------------\u001b[0m",
      "\u001b[1;31mNameError\u001b[0m                                 Traceback (most recent call last)",
      "Input \u001b[1;32mIn [18]\u001b[0m, in \u001b[0;36m<cell line: 6>\u001b[1;34m()\u001b[0m\n\u001b[0;32m      4\u001b[0m         \u001b[38;5;28mself\u001b[39m\u001b[38;5;241m.\u001b[39mkw\u001b[38;5;241m=\u001b[39mkw\n\u001b[0;32m      5\u001b[0m my_class\u001b[38;5;241m=\u001b[39mWebPython([\u001b[38;5;124m\"\u001b[39m\u001b[38;5;124mPark\u001b[39m\u001b[38;5;124m\"\u001b[39m], num\u001b[38;5;241m=\u001b[39m\u001b[38;5;241m180\u001b[39m)\n\u001b[1;32m----> 6\u001b[0m \u001b[38;5;28mprint\u001b[39m(my_class\u001b[38;5;241m.\u001b[39mkw[\u001b[43mnum\u001b[49m])\n",
      "\u001b[1;31mNameError\u001b[0m: name 'num' is not defined"
     ]
    }
   ],
   "source": [
    "class WebPython:\n",
    "    def __init__(self, *names, **kw):\n",
    "        self.students=names\n",
    "        self.kw=kw\n",
    "my_class=WebPython([\"Park\"], num=180)\n",
    "print(my_class.kw[num])"
   ]
  },
  {
   "cell_type": "code",
   "execution_count": null,
   "id": "def56a77",
   "metadata": {},
   "outputs": [],
   "source": []
  }
 ],
 "metadata": {
  "kernelspec": {
   "display_name": "Python 3 (ipykernel)",
   "language": "python",
   "name": "python3"
  },
  "language_info": {
   "codemirror_mode": {
    "name": "ipython",
    "version": 3
   },
   "file_extension": ".py",
   "mimetype": "text/x-python",
   "name": "python",
   "nbconvert_exporter": "python",
   "pygments_lexer": "ipython3",
   "version": "3.9.12"
  }
 },
 "nbformat": 4,
 "nbformat_minor": 5
}
