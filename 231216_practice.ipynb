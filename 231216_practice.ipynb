{
 "cells": [
  {
   "cell_type": "code",
   "execution_count": 9,
   "id": "dade5dcb",
   "metadata": {},
   "outputs": [],
   "source": [
    "class Rectangle:\n",
    "    def __init__(self, width, height):\n",
    "        self.width=width\n",
    "        self.height=height\n",
    "    def get_area(self) -> float:\n",
    "        return self.width*self.height\n",
    "    def is_square(self) -> bool:\n",
    "        if self.width==self.height:\n",
    "            return True\n",
    "        else:\n",
    "            return False\n",
    "    def __eq__(self, rect) -> bool:\n",
    "        return self.get_area()==rect.get_area()"
   ]
  },
  {
   "cell_type": "code",
   "execution_count": 10,
   "id": "55d9982b",
   "metadata": {},
   "outputs": [
    {
     "name": "stdout",
     "output_type": "stream",
     "text": [
      "200\n",
      "False\n",
      "100\n",
      "True\n",
      "False\n",
      "True\n"
     ]
    }
   ],
   "source": [
    "rect1 = Rectangle(10, 20)\n",
    "rect2 = Rectangle(10, 10)\n",
    "rect3 = Rectangle(20, 10)\n",
    "\n",
    "print(rect1.get_area())  # 200\n",
    "print(rect1.is_square())  # False\n",
    "print(rect2.get_area())  # 100\n",
    "print(rect2.is_square())  # True\n",
    "print(rect1==rect2)  # False\n",
    "print(rect1==rect3)  # True"
   ]
  },
  {
   "cell_type": "code",
   "execution_count": 13,
   "id": "19529c00",
   "metadata": {},
   "outputs": [],
   "source": [
    "class Person:\n",
    "    def __init__(self, name, height=30):\n",
    "        self.name=name\n",
    "        if height>30:\n",
    "            self.height=height\n",
    "        else:\n",
    "            self.height=30"
   ]
  },
  {
   "cell_type": "code",
   "execution_count": 14,
   "id": "b22d0beb",
   "metadata": {},
   "outputs": [
    {
     "name": "stdout",
     "output_type": "stream",
     "text": [
      "Park 174\n",
      "Kim 30\n",
      "Lee 30\n"
     ]
    }
   ],
   "source": [
    "p1 = Person(\"Park\", 174)\n",
    "print(p1.name, p1.height)  # Park 174\n",
    "\n",
    "p2 = Person(\"Kim\", 16)\n",
    "print(p2.name, p2.height)  # Kim 30\n",
    "\n",
    "p3 = Person(\"Lee\")\n",
    "print(p3.name, p3.height)  # Lee 30"
   ]
  },
  {
   "cell_type": "code",
   "execution_count": 15,
   "id": "c730efc1",
   "metadata": {},
   "outputs": [],
   "source": [
    "class Person:\n",
    "    def __init__(self, name, height=30):\n",
    "        self.name=name\n",
    "        if height>30:\n",
    "            self.height=height\n",
    "        else:\n",
    "            self.height=30\n",
    "    def get_uppercase_name(self) -> str:\n",
    "        return self.name.upper()"
   ]
  },
  {
   "cell_type": "code",
   "execution_count": 16,
   "id": "03469b4a",
   "metadata": {},
   "outputs": [
    {
     "name": "stdout",
     "output_type": "stream",
     "text": [
      "PARK\n",
      "KIM\n"
     ]
    }
   ],
   "source": [
    "p1 = Person(\"Park\", 174)\n",
    "print(p1.get_uppercase_name())  # PARK\n",
    "\n",
    "p2 = Person(\"Kim\")\n",
    "print(p2.get_uppercase_name())  # KIM"
   ]
  },
  {
   "cell_type": "code",
   "execution_count": 17,
   "id": "87312026",
   "metadata": {},
   "outputs": [],
   "source": [
    "class Person:\n",
    "    def __init__(self, name, height=30):\n",
    "        self.name=name\n",
    "        if height>30:\n",
    "            self.height=height\n",
    "        else:\n",
    "            self.height=30\n",
    "    def get_uppercase_name(self) -> str:\n",
    "        return self.name.upper()\n",
    "    def __eq__(self, other) -> bool:\n",
    "        return self.name==other.name\n",
    "    def __len__(self) -> int:\n",
    "        return self.height"
   ]
  },
  {
   "cell_type": "code",
   "execution_count": 18,
   "id": "4ba2da0c",
   "metadata": {},
   "outputs": [
    {
     "name": "stdout",
     "output_type": "stream",
     "text": [
      "True\n",
      "False\n",
      "174\n",
      "162\n"
     ]
    }
   ],
   "source": [
    "p11 = Person(\"Park\", 174)\n",
    "p12 = Person(\"Park\", 162)\n",
    "p13 = Person(\"Kim\", 174)\n",
    "print(p11==p12)  # True\n",
    "print(p12==p13)  # False\n",
    "\n",
    "p1 = Person(\"Park\", 174)\n",
    "p2 = Person(\"Hong\", 162)\n",
    "\n",
    "print(len(p1))  # 174\n",
    "print(len(p2))  # 162"
   ]
  },
  {
   "cell_type": "code",
   "execution_count": 19,
   "id": "4fed8c8d",
   "metadata": {},
   "outputs": [
    {
     "name": "stdout",
     "output_type": "stream",
     "text": [
      "Division by zero is not allowed\n",
      "Division by str is not allowed\n",
      "Division by str is not allowed\n"
     ]
    }
   ],
   "source": [
    "def divide(a,b):\n",
    "    try:\n",
    "        return a/b\n",
    "    except ZeroDivisionError:\n",
    "        return \"Division by zero is not allowed\"\n",
    "    except TypeError:\n",
    "        return \"Division by str is not allowed\"\n",
    "\n",
    "print(divide(1, 0))\n",
    "print(divide(1, \"5\"))\n",
    "print(divide(1, \"Hello\"))"
   ]
  },
  {
   "cell_type": "code",
   "execution_count": 20,
   "id": "35eb9539",
   "metadata": {},
   "outputs": [
    {
     "name": "stdout",
     "output_type": "stream",
     "text": [
      "0.1\n",
      "Oh My God\n"
     ]
    }
   ],
   "source": [
    "class OhMyGodError(Exception):\n",
    "    def __init__(self):\n",
    "        super().__init__(\"Oh My God\")\n",
    "\n",
    "def divide(a,b):\n",
    "    try:\n",
    "        if b==\"Python\":\n",
    "            raise OhMyGodError\n",
    "        return a/b\n",
    "    except OhMyGodError as e:\n",
    "        return e\n",
    "print(divide(1, 10))  # No Error\n",
    "    \n",
    "print(divide(1, \"Python\"))"
   ]
  },
  {
   "cell_type": "code",
   "execution_count": 30,
   "id": "629bc77d",
   "metadata": {},
   "outputs": [],
   "source": [
    "def function01(list):\n",
    "    sum=0\n",
    "    for i in list:\n",
    "        if i%2==1:\n",
    "            sum+=i\n",
    "    return sum"
   ]
  },
  {
   "cell_type": "code",
   "execution_count": 31,
   "id": "949759b8",
   "metadata": {},
   "outputs": [
    {
     "data": {
      "text/plain": [
       "9"
      ]
     },
     "execution_count": 31,
     "metadata": {},
     "output_type": "execute_result"
    }
   ],
   "source": [
    "function01([1,2,3,4,5])"
   ]
  },
  {
   "cell_type": "code",
   "execution_count": 34,
   "id": "6acc10a9",
   "metadata": {},
   "outputs": [],
   "source": [
    "def function02(string) -> bool:\n",
    "    if string.lower()[0:]==string.lower()[::-1]:\n",
    "        return True\n",
    "    else:\n",
    "        return False\n",
    "    "
   ]
  },
  {
   "cell_type": "code",
   "execution_count": 35,
   "id": "e6d85855",
   "metadata": {},
   "outputs": [
    {
     "data": {
      "text/plain": [
       "True"
      ]
     },
     "execution_count": 35,
     "metadata": {},
     "output_type": "execute_result"
    }
   ],
   "source": [
    "function02(\"level\")"
   ]
  },
  {
   "cell_type": "code",
   "execution_count": 39,
   "id": "ed7a06b0",
   "metadata": {},
   "outputs": [],
   "source": [
    "def function03(*args):\n",
    "    sum=0\n",
    "    for i in args:\n",
    "        if i%2==0:\n",
    "            sum+=i\n",
    "    return sum"
   ]
  },
  {
   "cell_type": "code",
   "execution_count": 40,
   "id": "1b24779c",
   "metadata": {},
   "outputs": [
    {
     "data": {
      "text/plain": [
       "2"
      ]
     },
     "execution_count": 40,
     "metadata": {},
     "output_type": "execute_result"
    }
   ],
   "source": [
    "function03(1,2,3)"
   ]
  },
  {
   "cell_type": "code",
   "execution_count": 41,
   "id": "47c0bc03",
   "metadata": {},
   "outputs": [],
   "source": [
    "def function04(a,b):\n",
    "    try:\n",
    "        return a/b\n",
    "    except:\n",
    "        return None"
   ]
  },
  {
   "cell_type": "code",
   "execution_count": 53,
   "id": "5a9fd498",
   "metadata": {},
   "outputs": [],
   "source": [
    "class Person:\n",
    "    def __init__(self):\n",
    "        self.name=\"Park\"\n",
    "        self.height=160\n",
    "    def change_name(self, name):\n",
    "        self.name=name\n",
    "    def change_height(self, height):\n",
    "        self.height=height"
   ]
  },
  {
   "cell_type": "code",
   "execution_count": 55,
   "id": "c486f710",
   "metadata": {},
   "outputs": [
    {
     "name": "stdout",
     "output_type": "stream",
     "text": [
      "p.name: Kim\n",
      "p.height 170\n"
     ]
    }
   ],
   "source": [
    "p=Person()\n",
    "p.change_name(\"Kim\")\n",
    "p.change_height(170)\n",
    "print(\"p.name:\", p.name)\n",
    "print(\"p.height\", p.height)"
   ]
  },
  {
   "cell_type": "code",
   "execution_count": 56,
   "id": "e1b47007",
   "metadata": {},
   "outputs": [
    {
     "name": "stdout",
     "output_type": "stream",
     "text": [
      "Cry\n",
      "Woof\n"
     ]
    }
   ],
   "source": [
    "class Animal:\n",
    "    def cry(self):\n",
    "        return \"Cry\"\n",
    "class Dog(Animal):\n",
    "    def cry(self):\n",
    "        return \"Woof\"\n",
    "a=Animal()\n",
    "d=Dog()\n",
    "if issubclass(Dog, Animal):\n",
    "    print(a.cry())\n",
    "    print(d.cry())"
   ]
  },
  {
   "cell_type": "code",
   "execution_count": 64,
   "id": "4c7d1fdb",
   "metadata": {},
   "outputs": [],
   "source": [
    "class Human:\n",
    "    def __init__(self, name=\"Park\", age=20):\n",
    "        self.name=name\n",
    "        self.age=age"
   ]
  },
  {
   "cell_type": "code",
   "execution_count": 65,
   "id": "63f05ebe",
   "metadata": {},
   "outputs": [
    {
     "name": "stdout",
     "output_type": "stream",
     "text": [
      "Park 20\n",
      "Kim 30\n"
     ]
    }
   ],
   "source": [
    "h1=Human()\n",
    "h2=Human(\"Kim\", 30)\n",
    "print(h1.name, h1.age)\n",
    "print(h2.name, h2.age)"
   ]
  },
  {
   "cell_type": "code",
   "execution_count": 66,
   "id": "77689151",
   "metadata": {},
   "outputs": [],
   "source": [
    "class Number:\n",
    "    def __init__(self, number=1):\n",
    "        self.number=number\n",
    "    def __add__(self, other):\n",
    "        return self.number+other.number\n",
    "    def __sub__(self, other):\n",
    "        return self.number-other.number"
   ]
  },
  {
   "cell_type": "code",
   "execution_count": 68,
   "id": "512ef282",
   "metadata": {},
   "outputs": [
    {
     "name": "stdout",
     "output_type": "stream",
     "text": [
      "4.15\n",
      "-2.15\n"
     ]
    }
   ],
   "source": [
    "n1=Number()\n",
    "n2=Number(3.15)\n",
    "print(n1+n2)\n",
    "print(n1-n2)"
   ]
  },
  {
   "cell_type": "code",
   "execution_count": 78,
   "id": "78f1f62c",
   "metadata": {},
   "outputs": [],
   "source": [
    "class Student:\n",
    "    def __init__(self, student_number):\n",
    "        self.student_number=student_number\n",
    "    def __eq__(self, other) -> bool:\n",
    "        return self.student_number==other.student_number\n"
   ]
  },
  {
   "cell_type": "code",
   "execution_count": 79,
   "id": "c2a75324",
   "metadata": {},
   "outputs": [
    {
     "name": "stdout",
     "output_type": "stream",
     "text": [
      "True\n",
      "False\n",
      "True\n",
      "1234\n",
      "5678\n",
      "1234\n"
     ]
    }
   ],
   "source": [
    "s1=Student(1234)\n",
    "s2=Student(5678)\n",
    "s3=Student(1234)\n",
    "print(s1==s1)\n",
    "print(s1==s2)\n",
    "print(s1==s3)\n",
    "print(s1.student_number)\n",
    "print(s2.student_number)\n",
    "print(s3.student_number)"
   ]
  },
  {
   "cell_type": "code",
   "execution_count": null,
   "id": "7c2881a1",
   "metadata": {},
   "outputs": [],
   "source": [
    "class Account:\n",
    "    def __init__(self, number):\n",
    "        self.number=number\n",
    "    def deposit(self, money):\n",
    "        self.number+=money\n",
    "    def withdraw(self, money):\n",
    "        self.number-=money"
   ]
  }
 ],
 "metadata": {
  "kernelspec": {
   "display_name": "Python 3 (ipykernel)",
   "language": "python",
   "name": "python3"
  },
  "language_info": {
   "codemirror_mode": {
    "name": "ipython",
    "version": 3
   },
   "file_extension": ".py",
   "mimetype": "text/x-python",
   "name": "python",
   "nbconvert_exporter": "python",
   "pygments_lexer": "ipython3",
   "version": "3.9.12"
  }
 },
 "nbformat": 4,
 "nbformat_minor": 5
}
