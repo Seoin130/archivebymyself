{
 "cells": [
  {
   "cell_type": "code",
   "execution_count": 3,
   "id": "e3736262",
   "metadata": {},
   "outputs": [
    {
     "name": "stdout",
     "output_type": "stream",
     "text": [
      "Choco\n"
     ]
    }
   ],
   "source": [
    "dog1={'name':'choco', 'age':1}\n",
    "dog2={'name':'kong', 'age':2}\n",
    "dog3={'name':'happy', 'age':3}\n",
    "rename= \"\"\n",
    "rename+=dog1['name'][0].upper()\n",
    "rename+=dog1['name'][1:].lower()\n",
    "print(rename)"
   ]
  },
  {
   "cell_type": "code",
   "execution_count": 1,
   "id": "abcd7a3e",
   "metadata": {},
   "outputs": [
    {
     "ename": "TypeError",
     "evalue": "unsupported operand type(s) for +: 'A' and 'B'",
     "output_type": "error",
     "traceback": [
      "\u001b[1;31m---------------------------------------------------------------------------\u001b[0m",
      "\u001b[1;31mTypeError\u001b[0m                                 Traceback (most recent call last)",
      "Input \u001b[1;32mIn [1]\u001b[0m, in \u001b[0;36m<cell line: 9>\u001b[1;34m()\u001b[0m\n\u001b[0;32m      7\u001b[0m a\u001b[38;5;241m=\u001b[39mA()\n\u001b[0;32m      8\u001b[0m b\u001b[38;5;241m=\u001b[39mB()\n\u001b[1;32m----> 9\u001b[0m \u001b[38;5;28mprint\u001b[39m(\u001b[43ma\u001b[49m\u001b[38;5;241;43m+\u001b[39;49m\u001b[43mb\u001b[49m)\n",
      "\u001b[1;31mTypeError\u001b[0m: unsupported operand type(s) for +: 'A' and 'B'"
     ]
    }
   ],
   "source": [
    "class A:\n",
    "    def __init__(a):\n",
    "        a.n=1\n",
    "class B:\n",
    "    def __add__(a,b):\n",
    "        return a.n+b.n\n",
    "a=A()\n",
    "b=B()\n",
    "print(a+b)"
   ]
  },
  {
   "cell_type": "code",
   "execution_count": 3,
   "id": "01d7674d",
   "metadata": {},
   "outputs": [
    {
     "name": "stdout",
     "output_type": "stream",
     "text": [
      "2\n"
     ]
    }
   ],
   "source": [
    "class A:\n",
    "    def __init__(a):\n",
    "        a.n=1\n",
    "class B(A):\n",
    "    def __add__(a,b):\n",
    "        return a.n+b.n\n",
    "a=A()\n",
    "b=B()\n",
    "print(b+a)"
   ]
  },
  {
   "cell_type": "code",
   "execution_count": null,
   "id": "49288044",
   "metadata": {},
   "outputs": [],
   "source": []
  }
 ],
 "metadata": {
  "kernelspec": {
   "display_name": "Python 3 (ipykernel)",
   "language": "python",
   "name": "python3"
  },
  "language_info": {
   "codemirror_mode": {
    "name": "ipython",
    "version": 3
   },
   "file_extension": ".py",
   "mimetype": "text/x-python",
   "name": "python",
   "nbconvert_exporter": "python",
   "pygments_lexer": "ipython3",
   "version": "3.9.12"
  }
 },
 "nbformat": 4,
 "nbformat_minor": 5
}
