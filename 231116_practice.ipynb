{
 "cells": [
  {
   "cell_type": "code",
   "execution_count": 1,
   "id": "febbf074",
   "metadata": {},
   "outputs": [
    {
     "name": "stdout",
     "output_type": "stream",
     "text": [
      "Lucy doesn't cry\n"
     ]
    }
   ],
   "source": [
    "class Pet:\n",
    "    def __init__(self, name):\n",
    "        self.name=name\n",
    "    def cry(self):\n",
    "        return self.name\n",
    "class Duck(Pet):\n",
    "    def cry(self):\n",
    "        sound=super().cry()\n",
    "        sound+=\" doesn't cry\"\n",
    "        return sound\n",
    "d=Duck(\"Lucy\")\n",
    "print(d.cry())"
   ]
  },
  {
   "cell_type": "code",
   "execution_count": 2,
   "id": "a1d3f17f",
   "metadata": {},
   "outputs": [],
   "source": [
    "class Person:\n",
    "    def __init__(self, name, std_no, dept):\n",
    "        if type(name)!=str:\n",
    "            self.name=str(name)\n",
    "        if len(std_no)!=10:\n",
    "            self.student_no=std_no.ljust(10, \"0\")\n",
    "        if len(dept)==0:\n",
    "            self.dept.add(\"Software\")\n",
    "class Student(Person):\n",
    "    def __init__(self, name, std_no, dept, age):\n",
    "        super().__init__(name, std_no, dept)\n",
    "        if age<20:\n",
    "            self.age=20"
   ]
  },
  {
   "cell_type": "code",
   "execution_count": 3,
   "id": "124a62c5",
   "metadata": {},
   "outputs": [
    {
     "name": "stdout",
     "output_type": "stream",
     "text": [
      "I am a mother.\n"
     ]
    }
   ],
   "source": [
    "class Mother():\n",
    "    def __init__(self, name):\n",
    "        self.name=name\n",
    "        print(\"I am a mother.\")\n",
    "class Father():\n",
    "    def __init__(self, name):\n",
    "        self.name=name\n",
    "        print(\"I am a father\")\n",
    "class Child(Mother, Father):\n",
    "    def __init__(self, name):\n",
    "        super().__init__(name)\n",
    "me=Child(\"park\")"
   ]
  },
  {
   "cell_type": "code",
   "execution_count": 5,
   "id": "6b9b7837",
   "metadata": {},
   "outputs": [
    {
     "name": "stdout",
     "output_type": "stream",
     "text": [
      "I am a father\n",
      "(<class '__main__.Child'>, <class '__main__.Mother'>, <class '__main__.Father'>, <class '__main__.Ancient'>, <class 'object'>)\n"
     ]
    }
   ],
   "source": [
    "class Ancient():\n",
    "    def __init__(self, name):\n",
    "        self.name=name\n",
    "        print(\"I am an ancient\")\n",
    "class Mother(Ancient):\n",
    "    def __init__(self, name):\n",
    "        super().__init__(name)\n",
    "class Father(Ancient):\n",
    "    def __init__(self, name):\n",
    "        self.name=name\n",
    "        print(\"I am a father\")\n",
    "class Child(Mother, Father):\n",
    "    def __init__(self, name):\n",
    "        super().__init__(name)\n",
    "c=Child(\"Park\")\n",
    "print(Child.__mro__)"
   ]
  },
  {
   "cell_type": "code",
   "execution_count": 1,
   "id": "f7f6f7d5",
   "metadata": {},
   "outputs": [
    {
     "name": "stdout",
     "output_type": "stream",
     "text": [
      "Park\n"
     ]
    }
   ],
   "source": [
    "class Person(object):\n",
    "    def __init__(self, name):\n",
    "        self.name=name\n",
    "class Laptop(object):\n",
    "    def __init__(self, brand):\n",
    "        self.brand=brand\n",
    "class Student(Person):\n",
    "    def __init__(self, name, device):\n",
    "        self.name=name\n",
    "        self.device=device\n",
    "p=Person(\"Park\")\n",
    "print(p.name)"
   ]
  },
  {
   "cell_type": "code",
   "execution_count": 2,
   "id": "10cd4c21",
   "metadata": {},
   "outputs": [
    {
     "name": "stdout",
     "output_type": "stream",
     "text": [
      "Park None\n"
     ]
    }
   ],
   "source": [
    "s= Student(\"Park\", None)\n",
    "print(s.name, s.device)"
   ]
  },
  {
   "cell_type": "code",
   "execution_count": 6,
   "id": "5710f6d9",
   "metadata": {},
   "outputs": [
    {
     "name": "stdout",
     "output_type": "stream",
     "text": [
      "Park Samsung\n"
     ]
    }
   ],
   "source": [
    "s.device=Laptop(\"Samsung\")\n",
    "print(s.name, s.device.brand)"
   ]
  },
  {
   "cell_type": "code",
   "execution_count": 7,
   "id": "057dbb09",
   "metadata": {},
   "outputs": [
    {
     "name": "stdout",
     "output_type": "stream",
     "text": [
      "5 5\n"
     ]
    }
   ],
   "source": [
    "class Account:\n",
    "    rate=5\n",
    "    def __init__(self, balance):\n",
    "        self.balance=balance\n",
    "    def set_rate(value):\n",
    "        Account.rate=value\n",
    "a1=Account(0)\n",
    "a2=Account(0)\n",
    "print(a1.rate, a2.rate)"
   ]
  },
  {
   "cell_type": "code",
   "execution_count": 8,
   "id": "f326d739",
   "metadata": {},
   "outputs": [
    {
     "name": "stdout",
     "output_type": "stream",
     "text": [
      "9 9\n"
     ]
    }
   ],
   "source": [
    "Account.set_rate(9)\n",
    "print(a1.rate, a2.rate)"
   ]
  },
  {
   "cell_type": "code",
   "execution_count": 9,
   "id": "ffe50f5b",
   "metadata": {},
   "outputs": [
    {
     "name": "stdout",
     "output_type": "stream",
     "text": [
      "5 5 5 5\n"
     ]
    }
   ],
   "source": [
    "class Account:\n",
    "    rate=5\n",
    "    def __init__(self, balance):\n",
    "        self.balance=balance\n",
    "    def set_rate(value):\n",
    "        Account.rate=value\n",
    "class HanaAccount(Account):\n",
    "    pass\n",
    "a1, a2=Account(100), Account(100)\n",
    "h1, h2=HanaAccount(100), HanaAccount(100)\n",
    "print(a1.rate, a2.rate, h1.rate, h2.rate)"
   ]
  },
  {
   "cell_type": "code",
   "execution_count": 10,
   "id": "f91a3436",
   "metadata": {},
   "outputs": [
    {
     "name": "stdout",
     "output_type": "stream",
     "text": [
      "10 10 10 10\n"
     ]
    }
   ],
   "source": [
    "HanaAccount.set_rate(10)\n",
    "print(a1.rate, a2.rate, h1.rate, h2.rate)"
   ]
  },
  {
   "cell_type": "code",
   "execution_count": 11,
   "id": "f68e4271",
   "metadata": {},
   "outputs": [
    {
     "name": "stdout",
     "output_type": "stream",
     "text": [
      "5 5 5 5\n"
     ]
    }
   ],
   "source": [
    "class Account:\n",
    "    rate=5\n",
    "    def __init__(self, balance):\n",
    "        self.balance=balance\n",
    "    @classmethod\n",
    "    def set_rate(cls, value):\n",
    "        cls.rate=value\n",
    "class HanaAccount(Account):\n",
    "    pass\n",
    "a1,a2=Account(100), Account(100)\n",
    "h1, h2=HanaAccount(100), HanaAccount(100)\n",
    "print(a1.rate, a2.rate, h1.rate, h2.rate)\n"
   ]
  },
  {
   "cell_type": "code",
   "execution_count": 12,
   "id": "d59d6c0d",
   "metadata": {},
   "outputs": [
    {
     "name": "stdout",
     "output_type": "stream",
     "text": [
      "5 5 10 10\n"
     ]
    }
   ],
   "source": [
    "HanaAccount.set_rate(10)\n",
    "print(a1.rate, a2.rate, h1.rate, h2.rate)"
   ]
  },
  {
   "cell_type": "code",
   "execution_count": null,
   "id": "cb1613e0",
   "metadata": {},
   "outputs": [],
   "source": []
  }
 ],
 "metadata": {
  "kernelspec": {
   "display_name": "Python 3 (ipykernel)",
   "language": "python",
   "name": "python3"
  },
  "language_info": {
   "codemirror_mode": {
    "name": "ipython",
    "version": 3
   },
   "file_extension": ".py",
   "mimetype": "text/x-python",
   "name": "python",
   "nbconvert_exporter": "python",
   "pygments_lexer": "ipython3",
   "version": "3.9.12"
  }
 },
 "nbformat": 4,
 "nbformat_minor": 5
}
