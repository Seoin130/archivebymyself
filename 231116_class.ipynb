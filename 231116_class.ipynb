{
 "cells": [
  {
   "cell_type": "code",
   "execution_count": 2,
   "id": "04081de0",
   "metadata": {},
   "outputs": [
    {
     "name": "stdout",
     "output_type": "stream",
     "text": [
      "9 9\n"
     ]
    }
   ],
   "source": [
    "class Account:\n",
    "    rate=5\n",
    "    def __init__(self, balance):\n",
    "        self.balance=balance\n",
    "    def set_rate(value):\n",
    "        Account.rate=value\n",
    "Account.set_rate(9)\n",
    "a1=Account(0)\n",
    "a2=Account(0)\n",
    "print(a1.rate, a2.rate)"
   ]
  },
  {
   "cell_type": "code",
   "execution_count": 4,
   "id": "52f41739",
   "metadata": {},
   "outputs": [
    {
     "name": "stdout",
     "output_type": "stream",
     "text": [
      "5 5 5 5\n",
      "10 10 10 10\n"
     ]
    }
   ],
   "source": [
    "class Account:\n",
    "    rate=5\n",
    "    def __init__(self, balance):\n",
    "        self.balance=balance\n",
    "    def set_rate(value):\n",
    "        Account.rate=value\n",
    "class HanaAccount(Account):\n",
    "    pass\n",
    "a1,a2=Account(100), Account(100)\n",
    "h1,h2=HanaAccount(100), HanaAccount(100)\n",
    "print(a1.rate, a2.rate, h1.rate, h2.rate)\n",
    "HanaAccount.set_rate(10)\n",
    "print(a1.rate, a2.rate, h1.rate, h2.rate)"
   ]
  },
  {
   "cell_type": "code",
   "execution_count": 5,
   "id": "47425404",
   "metadata": {},
   "outputs": [
    {
     "name": "stdout",
     "output_type": "stream",
     "text": [
      "5 5 5 5\n",
      "5 5 10 10\n"
     ]
    }
   ],
   "source": [
    "class Account:\n",
    "    rate=5\n",
    "    def __init__(self, balance):\n",
    "        self.balance=balance\n",
    "    @classmethod\n",
    "    def set_rate(cls, value):\n",
    "        cls.rate=value\n",
    "class HanaAccount(Account):\n",
    "    pass\n",
    "a1,a2=Account(100), Account(100)\n",
    "h1,h2=HanaAccount(100), HanaAccount(100)\n",
    "print(a1.rate, a2.rate, h1.rate, h2.rate)\n",
    "HanaAccount.set_rate(10)\n",
    "print(a1.rate, a2.rate, h1.rate, h2.rate)"
   ]
  },
  {
   "cell_type": "code",
   "execution_count": 6,
   "id": "ad4bb642",
   "metadata": {},
   "outputs": [
    {
     "name": "stdout",
     "output_type": "stream",
     "text": [
      "The result is 579\n",
      "The result is 30\n",
      "The result is AB\n"
     ]
    }
   ],
   "source": [
    "def print_sum(a,b):\n",
    "    print(f\"The result is {a+b}\")\n",
    "class Num:\n",
    "    base=10\n",
    "    def __init__(self, number):\n",
    "        self.number=number\n",
    "    def __add__(self, other):\n",
    "        return self.number+other.number\n",
    "num1=Num(123)\n",
    "num2=Num(456)\n",
    "print_sum(num1, num2)\n",
    "print_sum(10,20)\n",
    "print_sum(\"A\", \"B\")"
   ]
  },
  {
   "cell_type": "code",
   "execution_count": null,
   "id": "bd316645",
   "metadata": {},
   "outputs": [],
   "source": []
  }
 ],
 "metadata": {
  "kernelspec": {
   "display_name": "Python 3 (ipykernel)",
   "language": "python",
   "name": "python3"
  },
  "language_info": {
   "codemirror_mode": {
    "name": "ipython",
    "version": 3
   },
   "file_extension": ".py",
   "mimetype": "text/x-python",
   "name": "python",
   "nbconvert_exporter": "python",
   "pygments_lexer": "ipython3",
   "version": "3.9.12"
  }
 },
 "nbformat": 4,
 "nbformat_minor": 5
}
