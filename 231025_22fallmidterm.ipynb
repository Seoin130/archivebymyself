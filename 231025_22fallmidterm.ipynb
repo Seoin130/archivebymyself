{
 "cells": [
  {
   "cell_type": "code",
   "execution_count": 1,
   "id": "3920bc9d",
   "metadata": {},
   "outputs": [],
   "source": [
    "def function01(a,b):\n",
    "    return a+b"
   ]
  },
  {
   "cell_type": "code",
   "execution_count": 10,
   "id": "634a4dcb",
   "metadata": {},
   "outputs": [
    {
     "name": "stdout",
     "output_type": "stream",
     "text": [
      "10\n"
     ]
    }
   ],
   "source": [
    "def function02(value):\n",
    "    total=0\n",
    "    for i in value:\n",
    "        total+=i\n",
    "    return total\n",
    "\n",
    "print(function02([1,2,3,4]))"
   ]
  },
  {
   "cell_type": "code",
   "execution_count": 3,
   "id": "9cd637cf",
   "metadata": {},
   "outputs": [],
   "source": [
    "def function03(a,b):\n",
    "    total=0\n",
    "    for i in range(a+1,b):\n",
    "        total+=i\n",
    "    return total"
   ]
  },
  {
   "cell_type": "code",
   "execution_count": 13,
   "id": "dfffc9c9",
   "metadata": {},
   "outputs": [
    {
     "name": "stdout",
     "output_type": "stream",
     "text": [
      "2\n"
     ]
    }
   ],
   "source": [
    "def function04(value):\n",
    "    total=0\n",
    "    for i in value:\n",
    "        if i%2==0:\n",
    "            total+=i\n",
    "    return total"
   ]
  },
  {
   "cell_type": "code",
   "execution_count": 5,
   "id": "f842f5d4",
   "metadata": {},
   "outputs": [],
   "source": [
    "def function05(string):\n",
    "    return string[0].upper()+string[1:].lower()"
   ]
  },
  {
   "cell_type": "code",
   "execution_count": 6,
   "id": "ab6acb59",
   "metadata": {},
   "outputs": [],
   "source": [
    "def function06(string):\n",
    "    if string==string.reverse():\n",
    "        return True\n",
    "    else:\n",
    "        return False"
   ]
  },
  {
   "cell_type": "code",
   "execution_count": 7,
   "id": "fa0d5352",
   "metadata": {},
   "outputs": [],
   "source": [
    "def function07(value):\n",
    "    value=set(value)\n",
    "    total=0\n",
    "    for i in value:\n",
    "        total+=i\n",
    "    return total"
   ]
  },
  {
   "cell_type": "code",
   "execution_count": 8,
   "id": "11fa5f92",
   "metadata": {},
   "outputs": [],
   "source": [
    "def function08(*args):\n",
    "    for i in args:\n",
    "        total=0\n",
    "        if i%2==0:\n",
    "            total+=i\n",
    "            return total\n",
    "            "
   ]
  },
  {
   "cell_type": "code",
   "execution_count": 9,
   "id": "d8252656",
   "metadata": {},
   "outputs": [],
   "source": [
    "def function09(*args):\n",
    "    if args==True:\n",
    "        maxi=args.max()\n",
    "        return maxi\n",
    "    else:\n",
    "        return -1"
   ]
  },
  {
   "cell_type": "code",
   "execution_count": null,
   "id": "fc514a85",
   "metadata": {},
   "outputs": [],
   "source": [
    "def function10(a):\n",
    "    return None"
   ]
  }
 ],
 "metadata": {
  "kernelspec": {
   "display_name": "Python 3 (ipykernel)",
   "language": "python",
   "name": "python3"
  },
  "language_info": {
   "codemirror_mode": {
    "name": "ipython",
    "version": 3
   },
   "file_extension": ".py",
   "mimetype": "text/x-python",
   "name": "python",
   "nbconvert_exporter": "python",
   "pygments_lexer": "ipython3",
   "version": "3.9.12"
  }
 },
 "nbformat": 4,
 "nbformat_minor": 5
}
