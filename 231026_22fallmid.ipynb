{
 "cells": [
  {
   "cell_type": "code",
   "execution_count": 4,
   "id": "f8973d82",
   "metadata": {},
   "outputs": [],
   "source": [
    "def function01(a,b):\n",
    "    return a+b\n",
    "def function02(L):\n",
    "    total=0\n",
    "    for i in L:\n",
    "        total+=i\n",
    "    return total\n",
    "def function03(a,b):\n",
    "    total=0\n",
    "    for i in range(a+1,b):\n",
    "        total+=i\n",
    "    return total\n",
    "def function04(L):\n",
    "    total=0\n",
    "    for i in L:\n",
    "        if i%2==0:\n",
    "            total+=i\n",
    "    return total\n",
    "def function05(s):\n",
    "    return s[-1].upper()+s[1:].lower()\n",
    "def function06(s):\n",
    "    if s==s[::-1]:\n",
    "        return True\n",
    "    else:\n",
    "        return False\n",
    "def function07(L):\n",
    "    total=0\n",
    "    if len(L)==0:\n",
    "        return 0\n",
    "    else:\n",
    "        L=set(L)\n",
    "        for i in L:\n",
    "            total+=i\n",
    "        return total\n",
    "def function08(*args):\n",
    "    total=0\n",
    "    L=set()\n",
    "    if len(args)==0:\n",
    "        return 0\n",
    "    else:\n",
    "        for i in args:\n",
    "            if i%2==0:\n",
    "                L.add(i)\n",
    "        for i in L:\n",
    "            total+=i\n",
    "        return total\n"
   ]
  },
  {
   "cell_type": "code",
   "execution_count": 9,
   "id": "2463dcd8",
   "metadata": {},
   "outputs": [
    {
     "name": "stdout",
     "output_type": "stream",
     "text": [
      "5\n"
     ]
    }
   ],
   "source": [
    "def function09(*arg, **kwargs):\n",
    "    if len(arg)==0:\n",
    "        return -1\n",
    "    else:\n",
    "        maximum=sorted(kwargs.value())[-1]\n",
    "        return maximum"
   ]
  },
  {
   "cell_type": "code",
   "execution_count": null,
   "id": "09ffbaf4",
   "metadata": {},
   "outputs": [],
   "source": []
  }
 ],
 "metadata": {
  "kernelspec": {
   "display_name": "Python 3 (ipykernel)",
   "language": "python",
   "name": "python3"
  },
  "language_info": {
   "codemirror_mode": {
    "name": "ipython",
    "version": 3
   },
   "file_extension": ".py",
   "mimetype": "text/x-python",
   "name": "python",
   "nbconvert_exporter": "python",
   "pygments_lexer": "ipython3",
   "version": "3.9.12"
  }
 },
 "nbformat": 4,
 "nbformat_minor": 5
}
